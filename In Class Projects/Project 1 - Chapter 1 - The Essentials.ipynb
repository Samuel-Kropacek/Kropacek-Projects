{
 "cells": [
  {
   "cell_type": "markdown",
   "id": "e077d494",
   "metadata": {},
   "source": [
    "# The Essentials"
   ]
  },
  {
   "cell_type": "code",
   "execution_count": 1,
   "id": "f69d9580",
   "metadata": {},
   "outputs": [
    {
     "name": "stdout",
     "output_type": "stream",
     "text": [
      "john madden\n",
      "JOHN MADDEN\n",
      "John Madden\n"
     ]
    }
   ],
   "source": [
    "msg = \"john madden\"\n",
    "print(msg)\n",
    "\n",
    "msg_upper = msg.upper()\n",
    "print(msg_upper)\n",
    "\n",
    "msg_title = msg.title()\n",
    "print(msg_title)"
   ]
  },
  {
   "cell_type": "code",
   "execution_count": 2,
   "id": "2f683a77",
   "metadata": {},
   "outputs": [
    {
     "name": "stdout",
     "output_type": "stream",
     "text": [
      "john madden\n"
     ]
    }
   ],
   "source": [
    "msg = \"john\" + \" \" + \"madden\"\n",
    "print(msg)"
   ]
  },
  {
   "cell_type": "code",
   "execution_count": 3,
   "id": "7f1fe242",
   "metadata": {},
   "outputs": [
    {
     "name": "stdout",
     "output_type": "stream",
     "text": [
      "Never gonna give you up,\n",
      "Never gonna let you down,\n",
      "Never gonna run around,\n",
      "And desert you.\n"
     ]
    }
   ],
   "source": [
    "line1 = \"Never gonna give you up,\"\n",
    "line2 = \"Never gonna let you down,\"\n",
    "line3 = \"Never gonna run around,\"\n",
    "line4 = \"And desert you.\"\n",
    "\n",
    "# Concatenate each string with the escape seequence \"\\n\" that creates a new line\n",
    "print(line1 + \"\\n\" + line2 + \"\\n\" + line3 + \"\\n\" + line4)"
   ]
  },
  {
   "cell_type": "markdown",
   "id": "b0ce2e60",
   "metadata": {},
   "source": [
    "# Distinction between double and single quotes"
   ]
  },
  {
   "cell_type": "code",
   "execution_count": 4,
   "id": "293e41d3",
   "metadata": {},
   "outputs": [
    {
     "name": "stdout",
     "output_type": "stream",
     "text": [
      "We may use 'single quotes' within double quotes\n",
      "We may use \"double quotes\" within double quotes\n",
      "We may use \"double quotes\" within double quotes\n",
      "We may use 'single quotes' within single quotes\n"
     ]
    }
   ],
   "source": [
    "single_in_double = \"We may use 'single quotes' within double quotes\"\n",
    "double_in_single = 'We may use \"double quotes\" within double quotes'\n",
    "double_in_double = \"We may use \\\"double quotes\\\" within double quotes\"\n",
    "single_in_single = 'We may use \\'single quotes\\' within single quotes'\n",
    "\n",
    "print(single_in_double)\n",
    "print(double_in_single)\n",
    "print(double_in_double)\n",
    "print(single_in_single)"
   ]
  },
  {
   "cell_type": "markdown",
   "id": "521bae43",
   "metadata": {},
   "source": [
    "We are going to add \\n to the current example"
   ]
  },
  {
   "cell_type": "code",
   "execution_count": 5,
   "id": "a925d34d",
   "metadata": {},
   "outputs": [
    {
     "name": "stdout",
     "output_type": "stream",
     "text": [
      "We may use two backslashes to print a single backslash: \\\n",
      "We may start a new line \n",
      "\tand use tab for a hanging indent\n"
     ]
    }
   ],
   "source": [
    "read_backslash = \"We may use two backslashes to print a single backslash: \\\\\"\n",
    "new_line_and_tab = \\\n",
    "    \"We may start a new line \\n\\tand use tab for a hanging indent\"\n",
    "\n",
    "print(read_backslash)\n",
    "print(new_line_and_tab)"
   ]
  },
  {
   "cell_type": "markdown",
   "id": "4687e766",
   "metadata": {},
   "source": [
    "# Using .strip() and .replace() string methods"
   ]
  },
  {
   "cell_type": "markdown",
   "id": "621e431e",
   "metadata": {},
   "source": [
    "Sometimes we may want to transform string by adding or removing spaces. We can remove space quite easily with the strip() commands."
   ]
  },
  {
   "cell_type": "markdown",
   "id": "91f77566",
   "metadata": {},
   "source": [
    ".lstrip() removes spaces on the far left"
   ]
  },
  {
   "cell_type": "markdown",
   "id": "b427005d",
   "metadata": {},
   "source": [
    ".rstrip() removes spaces on the far right"
   ]
  },
  {
   "cell_type": "markdown",
   "id": "e208f9b5",
   "metadata": {},
   "source": [
    ".strip() removes spaces on the left and right of the text object"
   ]
  },
  {
   "cell_type": "code",
   "execution_count": 6,
   "id": "04e16d84",
   "metadata": {},
   "outputs": [
    {
     "name": "stdout",
     "output_type": "stream",
     "text": [
      "no spaces removed\n",
      "    Look at all the spaces in the text!    \n",
      "Remove left spaces: Look at all the spaces in the text!    \n",
      "Remove right spaces:     Look at all the spaces in the text!\n",
      "Remove left and right spaces: Look at all the spaces in the text!\n",
      "Remove all spaces: Lookatallthespacesinthetext!\n",
      "Capitalize all first letters: Look At All The Spaces In The Text!    \n"
     ]
    }
   ],
   "source": [
    "spaces = \"    Look at all the spaces in the text!    \"\n",
    "print(\"no spaces removed\", spaces, sep = \"\\n\")\n",
    "\n",
    "remove_left_spaces = spaces.lstrip()\n",
    "remove_right_spaces = spaces.rstrip()\n",
    "remove_left_and_right_spaces = spaces.strip()\n",
    "remove_all_spaces = spaces.replace(\" \", \"\")\n",
    "\n",
    "print(\"Remove left spaces:\", remove_left_spaces)\n",
    "print(\"Remove right spaces:\", remove_right_spaces)\n",
    "print(\"Remove left and right spaces:\", remove_left_and_right_spaces)\n",
    "print(\"Remove all spaces:\", remove_all_spaces)\n",
    "\n",
    "print(\"Capitalize all first letters:\", remove_left_spaces.title())"
   ]
  },
  {
   "cell_type": "markdown",
   "id": "cb0103ec",
   "metadata": {},
   "source": [
    "# Working with Values"
   ]
  },
  {
   "cell_type": "markdown",
   "id": "c89ae57a",
   "metadata": {},
   "source": [
    "Using a plus sign \"+\" between values sums the values. Using the sign between strings concatenates them."
   ]
  },
  {
   "cell_type": "code",
   "execution_count": 7,
   "id": "459bf3bb",
   "metadata": {},
   "outputs": [
    {
     "name": "stdout",
     "output_type": "stream",
     "text": [
      "num1: 5 \n",
      "num1s: 23\n"
     ]
    }
   ],
   "source": [
    "num1 = 2 + 3\n",
    "num1s = \"2\" + \"3\"\n",
    "\n",
    "print(\"num1:\", num1,\"\\nnum1s:\", num1s)"
   ]
  },
  {
   "cell_type": "code",
   "execution_count": 8,
   "id": "6d8004c5",
   "metadata": {},
   "outputs": [
    {
     "name": "stdout",
     "output_type": "stream",
     "text": [
      "num1: 1.6666666666666667\n",
      "num2: 1.25\n",
      "num3: 1.3333333333333333\n"
     ]
    }
   ],
   "source": [
    "num1 = 5 / 3\n",
    "num2 = 5 / 4\n",
    "num3 = 4 / 3\n",
    "\n",
    "print(\"num1:\", num1)\n",
    "print(\"num2:\", num2)\n",
    "print(\"num3:\", num3)"
   ]
  },
  {
   "cell_type": "markdown",
   "id": "2abe637e",
   "metadata": {},
   "source": [
    "Python will actually automatically convert int values to double or floats if the output involes decimals."
   ]
  },
  {
   "cell_type": "code",
   "execution_count": 9,
   "id": "664a091f",
   "metadata": {},
   "outputs": [
    {
     "data": {
      "text/plain": [
       "float"
      ]
     },
     "execution_count": 9,
     "metadata": {},
     "output_type": "execute_result"
    }
   ],
   "source": [
    "type(num1)"
   ]
  },
  {
   "cell_type": "code",
   "execution_count": 10,
   "id": "dd8df45b",
   "metadata": {},
   "outputs": [
    {
     "data": {
      "text/plain": [
       "int"
      ]
     },
     "execution_count": 10,
     "metadata": {},
     "output_type": "execute_result"
    }
   ],
   "source": [
    "type(3)"
   ]
  },
  {
   "cell_type": "code",
   "execution_count": 11,
   "id": "699ca614",
   "metadata": {},
   "outputs": [
    {
     "data": {
      "text/plain": [
       "3.0"
      ]
     },
     "execution_count": 11,
     "metadata": {},
     "output_type": "execute_result"
    }
   ],
   "source": [
    "float(3)"
   ]
  },
  {
   "cell_type": "code",
   "execution_count": 12,
   "id": "7403bf05",
   "metadata": {},
   "outputs": [
    {
     "data": {
      "text/plain": [
       "float"
      ]
     },
     "execution_count": 12,
     "metadata": {},
     "output_type": "execute_result"
    }
   ],
   "source": [
    "type(1.5)"
   ]
  },
  {
   "cell_type": "code",
   "execution_count": 13,
   "id": "ba54cb28",
   "metadata": {},
   "outputs": [
    {
     "data": {
      "text/plain": [
       "4.5"
      ]
     },
     "execution_count": 13,
     "metadata": {},
     "output_type": "execute_result"
    }
   ],
   "source": [
    "3 + 1.5"
   ]
  },
  {
   "cell_type": "code",
   "execution_count": 14,
   "id": "d6580473",
   "metadata": {},
   "outputs": [
    {
     "data": {
      "text/plain": [
       "float"
      ]
     },
     "execution_count": 14,
     "metadata": {},
     "output_type": "execute_result"
    }
   ],
   "source": [
    "type(3 + 1.5)"
   ]
  },
  {
   "cell_type": "markdown",
   "id": "596c36f4",
   "metadata": {},
   "source": [
    "The \"import\" command is used to import a module."
   ]
  },
  {
   "cell_type": "code",
   "execution_count": 15,
   "id": "79a74cb3",
   "metadata": {},
   "outputs": [
    {
     "data": {
      "text/plain": [
       "sys.float_info(max=1.7976931348623157e+308, max_exp=1024, max_10_exp=308, min=2.2250738585072014e-308, min_exp=-1021, min_10_exp=-307, dig=15, mant_dig=53, epsilon=2.220446049250313e-16, radix=2, rounds=1)"
      ]
     },
     "execution_count": 15,
     "metadata": {},
     "output_type": "execute_result"
    }
   ],
   "source": [
    "import sys\n",
    "(sys.float_info)"
   ]
  },
  {
   "cell_type": "code",
   "execution_count": 16,
   "id": "1c3b42c4",
   "metadata": {},
   "outputs": [
    {
     "data": {
      "text/plain": [
       "8.98846567431158e+307"
      ]
     },
     "execution_count": 16,
     "metadata": {},
     "output_type": "execute_result"
    }
   ],
   "source": [
    "2. ** 1023"
   ]
  },
  {
   "cell_type": "code",
   "execution_count": 17,
   "id": "05ad1cd0",
   "metadata": {},
   "outputs": [
    {
     "ename": "OverflowError",
     "evalue": "(34, 'Result too large')",
     "output_type": "error",
     "traceback": [
      "\u001b[1;31m---------------------------------------------------------------------------\u001b[0m",
      "\u001b[1;31mOverflowError\u001b[0m                             Traceback (most recent call last)",
      "\u001b[1;32m<ipython-input-17-a7485d12d8cc>\u001b[0m in \u001b[0;36m<module>\u001b[1;34m\u001b[0m\n\u001b[1;32m----> 1\u001b[1;33m \u001b[1;36m2.\u001b[0m\u001b[1;33m**\u001b[0m \u001b[1;36m1024\u001b[0m\u001b[1;33m\u001b[0m\u001b[1;33m\u001b[0m\u001b[0m\n\u001b[0m",
      "\u001b[1;31mOverflowError\u001b[0m: (34, 'Result too large')"
     ]
    }
   ],
   "source": [
    "2.** 1024"
   ]
  },
  {
   "cell_type": "markdown",
   "id": "4760b4cf",
   "metadata": {},
   "source": [
    "Python has a limit to the size of the number it can output. Thankfully I will never need to output a number to the 308th power, unless I have gone crazy."
   ]
  }
 ],
 "metadata": {
  "kernelspec": {
   "display_name": "Python 3",
   "language": "python",
   "name": "python3"
  },
  "language_info": {
   "codemirror_mode": {
    "name": "ipython",
    "version": 3
   },
   "file_extension": ".py",
   "mimetype": "text/x-python",
   "name": "python",
   "nbconvert_exporter": "python",
   "pygments_lexer": "ipython3",
   "version": "3.8.8"
  }
 },
 "nbformat": 4,
 "nbformat_minor": 5
}
