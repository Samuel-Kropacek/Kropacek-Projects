{
 "cells": [
  {
   "cell_type": "markdown",
   "id": "637ca769",
   "metadata": {},
   "source": [
    "# Introduction to numpy, pandas, and matplotlib"
   ]
  },
  {
   "cell_type": "code",
   "execution_count": 1,
   "id": "76f2627d",
   "metadata": {},
   "outputs": [
    {
     "data": {
      "text/plain": [
       "array([100, 200, 300, 400, 500])"
      ]
     },
     "execution_count": 1,
     "metadata": {},
     "output_type": "execute_result"
    }
   ],
   "source": [
    "import numpy as np\n",
    "\n",
    "array = np.array([100, 200, 300, 400, 500])\n",
    "array"
   ]
  },
  {
   "cell_type": "code",
   "execution_count": 2,
   "id": "a510ce63",
   "metadata": {},
   "outputs": [
    {
     "data": {
      "text/plain": [
       "numpy.ndarray"
      ]
     },
     "execution_count": 2,
     "metadata": {},
     "output_type": "execute_result"
    }
   ],
   "source": [
    "type(array)"
   ]
  },
  {
   "cell_type": "code",
   "execution_count": 3,
   "id": "14b4592d",
   "metadata": {},
   "outputs": [
    {
     "name": "stdout",
     "output_type": "stream",
     "text": [
      "100 <class 'numpy.int32'>\n",
      "200 <class 'numpy.int32'>\n",
      "300 <class 'numpy.int32'>\n",
      "400 <class 'numpy.int32'>\n",
      "500 <class 'numpy.int32'>\n"
     ]
    }
   ],
   "source": [
    "for val in array:\n",
    "    print(val, type(val))"
   ]
  },
  {
   "cell_type": "markdown",
   "id": "6cf1d200",
   "metadata": {},
   "source": [
    "# np.arange(start, finish, interval)"
   ]
  },
  {
   "cell_type": "code",
   "execution_count": 4,
   "id": "155187db",
   "metadata": {},
   "outputs": [
    {
     "name": "stdout",
     "output_type": "stream",
     "text": [
      "[  0   1   2   3   4   5   6   7   8   9  10  11  12  13  14  15  16  17\n",
      "  18  19  20  21  22  23  24  25  26  27  28  29  30  31  32  33  34  35\n",
      "  36  37  38  39  40  41  42  43  44  45  46  47  48  49  50  51  52  53\n",
      "  54  55  56  57  58  59  60  61  62  63  64  65  66  67  68  69  70  71\n",
      "  72  73  74  75  76  77  78  79  80  81  82  83  84  85  86  87  88  89\n",
      "  90  91  92  93  94  95  96  97  98  99 100]\n"
     ]
    }
   ],
   "source": [
    "range_array = np.arange(0, 101)\n",
    "print(range_array)"
   ]
  },
  {
   "cell_type": "code",
   "execution_count": 5,
   "id": "4cb36fd3",
   "metadata": {},
   "outputs": [
    {
     "name": "stdout",
     "output_type": "stream",
     "text": [
      "[ 0  3  6  9 12 15 18 21 24 27 30 33 36 39 42 45 48 51 54 57 60 63 66 69\n",
      " 72 75 78 81 84 87 90 93 96 99]\n"
     ]
    }
   ],
   "source": [
    "range_array = np.arange(0, 101, 3)\n",
    "print(range_array)"
   ]
  },
  {
   "cell_type": "code",
   "execution_count": 6,
   "id": "c47155db",
   "metadata": {},
   "outputs": [
    {
     "name": "stdout",
     "output_type": "stream",
     "text": [
      "[  0   5  10  15  20  25  30  35  40  45  50  55  60  65  70  75  80  85\n",
      "  90  95 100]\n"
     ]
    }
   ],
   "source": [
    "range_array = np.arange(0, 101, 5)\n",
    "print(range_array)"
   ]
  },
  {
   "cell_type": "code",
   "execution_count": 7,
   "id": "70b12c7b",
   "metadata": {},
   "outputs": [
    {
     "name": "stdout",
     "output_type": "stream",
     "text": [
      "[101  98  95  92  89  86  83  80  77  74  71  68  65  62  59  56  53  50\n",
      "  47  44  41  38  35  32  29  26  23  20  17  14  11   8   5   2]\n"
     ]
    }
   ],
   "source": [
    "range_array = np.arange(101, 0, -3)\n",
    "print(range_array)"
   ]
  },
  {
   "cell_type": "code",
   "execution_count": 8,
   "id": "a3849132",
   "metadata": {},
   "outputs": [
    {
     "name": "stdout",
     "output_type": "stream",
     "text": [
      "[101  91  81  71  61  51  41  31  21  11   1]\n"
     ]
    }
   ],
   "source": [
    "range_array = np.arange(101, 0, -10)\n",
    "print(range_array)"
   ]
  },
  {
   "cell_type": "markdown",
   "id": "3fba8638",
   "metadata": {},
   "source": [
    "# Forming an array with a list of different values"
   ]
  },
  {
   "cell_type": "code",
   "execution_count": 9,
   "id": "0c8e44d0",
   "metadata": {},
   "outputs": [
    {
     "name": "stdout",
     "output_type": "stream",
     "text": [
      "int_float_list\n",
      "1 <class 'int'>\n",
      "\n",
      "mystery array\n",
      "1 <class 'numpy.int32'>\n",
      "2 <class 'numpy.int32'>\n",
      "3 <class 'numpy.int32'>\n",
      "4 <class 'numpy.int32'>\n",
      "5 <class 'numpy.int32'>\n",
      "2 <class 'int'>\n",
      "\n",
      "mystery array\n",
      "1 <class 'numpy.int32'>\n",
      "2 <class 'numpy.int32'>\n",
      "3 <class 'numpy.int32'>\n",
      "4 <class 'numpy.int32'>\n",
      "5 <class 'numpy.int32'>\n",
      "3 <class 'int'>\n",
      "\n",
      "mystery array\n",
      "1 <class 'numpy.int32'>\n",
      "2 <class 'numpy.int32'>\n",
      "3 <class 'numpy.int32'>\n",
      "4 <class 'numpy.int32'>\n",
      "5 <class 'numpy.int32'>\n",
      "4 <class 'int'>\n",
      "\n",
      "mystery array\n",
      "1 <class 'numpy.int32'>\n",
      "2 <class 'numpy.int32'>\n",
      "3 <class 'numpy.int32'>\n",
      "4 <class 'numpy.int32'>\n",
      "5 <class 'numpy.int32'>\n",
      "5 <class 'int'>\n",
      "\n",
      "mystery array\n",
      "1 <class 'numpy.int32'>\n",
      "2 <class 'numpy.int32'>\n",
      "3 <class 'numpy.int32'>\n",
      "4 <class 'numpy.int32'>\n",
      "5 <class 'numpy.int32'>\n"
     ]
    }
   ],
   "source": [
    "int_float_list = [1,2,3,4,5]\n",
    "print(\"int_float_list\")\n",
    "for val in int_float_list:\n",
    "    print(val, type(val))\n",
    "    mystery_array = np.array(int_float_list)\n",
    "    print()\n",
    "    print(\"mystery array\")\n",
    "    for val in mystery_array:\n",
    "        print(val,type(val))\n",
    "        \n",
    "float_list = [1.,2.,3.,4.,5.]"
   ]
  },
  {
   "cell_type": "code",
   "execution_count": 10,
   "id": "fdff28b8",
   "metadata": {},
   "outputs": [
    {
     "name": "stdout",
     "output_type": "stream",
     "text": [
      "int_float_list\n",
      "1 <class 'int'>\n",
      "\n",
      "2 <class 'int'>\n",
      "\n",
      "3 <class 'int'>\n",
      "\n",
      "4 <class 'int'>\n",
      "\n",
      "5 <class 'int'>\n",
      "\n",
      "mystery array\n",
      "1 <class 'numpy.int32'>\n",
      "\n",
      "2 <class 'numpy.int32'>\n",
      "\n",
      "3 <class 'numpy.int32'>\n",
      "\n",
      "4 <class 'numpy.int32'>\n",
      "\n",
      "5 <class 'numpy.int32'>\n",
      "\n",
      "float_array\n",
      "1.0 <class 'numpy.float64'>\n",
      "2.0 <class 'numpy.float64'>\n",
      "3.0 <class 'numpy.float64'>\n",
      "4.0 <class 'numpy.float64'>\n",
      "5.0 <class 'numpy.float64'>\n"
     ]
    }
   ],
   "source": [
    "int_float_list = [1,2,3,4,5]\n",
    "print(\"int_float_list\")\n",
    "for val in int_float_list:\n",
    "    print(val, type(val))\n",
    "    mystery_array = np.array(int_float_list)\n",
    "    print()\n",
    "    \n",
    "print(\"mystery array\")\n",
    "for val in mystery_array:\n",
    "        print(val,type(val))\n",
    "        print()\n",
    "        \n",
    "print(\"float_array\")\n",
    "float_list = [1.,2.,3.,4.,5.]\n",
    "float_array = np.array(float_list)\n",
    "for val in float_array:\n",
    "    print(val,type(val)) "
   ]
  },
  {
   "cell_type": "markdown",
   "id": "5ad6bb68",
   "metadata": {},
   "source": [
    "# Two Dimensional Lists and Arrays"
   ]
  },
  {
   "cell_type": "code",
   "execution_count": 11,
   "id": "08360e52",
   "metadata": {},
   "outputs": [
    {
     "name": "stdout",
     "output_type": "stream",
     "text": [
      "[[1, 2, 3], [2, 3, 4], [5, 6, 7]]\n"
     ]
    }
   ],
   "source": [
    "two_dim_list = [[1, 2, 3], [2, 3, 4], [5, 6, 7]]\n",
    "print(two_dim_list)"
   ]
  },
  {
   "cell_type": "code",
   "execution_count": 12,
   "id": "fd6c72cd",
   "metadata": {},
   "outputs": [
    {
     "name": "stdout",
     "output_type": "stream",
     "text": [
      "[1, 2, 3]\n",
      "[2, 3, 4]\n",
      "[5, 6, 7]\n"
     ]
    }
   ],
   "source": [
    "for val in two_dim_list:\n",
    "    print(val)"
   ]
  },
  {
   "cell_type": "code",
   "execution_count": 13,
   "id": "bc4067bb",
   "metadata": {},
   "outputs": [
    {
     "name": "stdout",
     "output_type": "stream",
     "text": [
      "[1, 2, 3]\n",
      "[2, 3, 4]\n",
      "[5, 6, 7]\n"
     ]
    }
   ],
   "source": [
    "for lst in two_dim_list:\n",
    "    print(lst)"
   ]
  },
  {
   "cell_type": "code",
   "execution_count": 14,
   "id": "76de280b",
   "metadata": {},
   "outputs": [
    {
     "name": "stdout",
     "output_type": "stream",
     "text": [
      "[1, 2, 3]\n",
      "1\n",
      "2\n",
      "3\n",
      "[2, 3, 4]\n",
      "2\n",
      "3\n",
      "4\n",
      "[5, 6, 7]\n",
      "5\n",
      "6\n",
      "7\n"
     ]
    }
   ],
   "source": [
    "for lst in two_dim_list:\n",
    "    print(lst)\n",
    "    for val in lst:\n",
    "        print(val)"
   ]
  },
  {
   "cell_type": "markdown",
   "id": "184738a3",
   "metadata": {},
   "source": [
    "# Changing the values of elements in an array"
   ]
  },
  {
   "cell_type": "code",
   "execution_count": 15,
   "id": "0590af27",
   "metadata": {},
   "outputs": [
    {
     "data": {
      "text/plain": [
       "array([[[0., 0., 0.],\n",
       "        [0., 0., 0.],\n",
       "        [0., 0., 0.]],\n",
       "\n",
       "       [[0., 0., 0.],\n",
       "        [0., 0., 0.],\n",
       "        [0., 0., 0.]],\n",
       "\n",
       "       [[0., 0., 0.],\n",
       "        [0., 0., 0.],\n",
       "        [0., 0., 0.]]])"
      ]
     },
     "execution_count": 15,
     "metadata": {},
     "output_type": "execute_result"
    }
   ],
   "source": [
    "array = np.zeros((3, 3, 3))\n",
    "array"
   ]
  },
  {
   "cell_type": "code",
   "execution_count": 16,
   "id": "d5cf31d9",
   "metadata": {},
   "outputs": [
    {
     "data": {
      "text/plain": [
       "array([[[0., 0.],\n",
       "        [0., 0.],\n",
       "        [0., 0.]],\n",
       "\n",
       "       [[0., 0.],\n",
       "        [0., 0.],\n",
       "        [0., 0.]],\n",
       "\n",
       "       [[0., 0.],\n",
       "        [0., 0.],\n",
       "        [0., 0.]]])"
      ]
     },
     "execution_count": 16,
     "metadata": {},
     "output_type": "execute_result"
    }
   ],
   "source": [
    "array = np.zeros((3, 3, 2))\n",
    "array"
   ]
  },
  {
   "cell_type": "code",
   "execution_count": 17,
   "id": "53aeb70f",
   "metadata": {},
   "outputs": [
    {
     "data": {
      "text/plain": [
       "array([[0., 0., 0.],\n",
       "       [0., 0., 0.],\n",
       "       [0., 0., 0.]])"
      ]
     },
     "execution_count": 17,
     "metadata": {},
     "output_type": "execute_result"
    }
   ],
   "source": [
    "array = np.zeros((3, 3))\n",
    "array"
   ]
  },
  {
   "cell_type": "code",
   "execution_count": 18,
   "id": "c8ed2ec5",
   "metadata": {},
   "outputs": [
    {
     "data": {
      "text/plain": [
       "array([[1., 0., 0.],\n",
       "       [0., 2., 0.],\n",
       "       [0., 0., 3.]])"
      ]
     },
     "execution_count": 18,
     "metadata": {},
     "output_type": "execute_result"
    }
   ],
   "source": [
    "array[0][0] = 1\n",
    "array[1][1] = 2\n",
    "array[2][2] = 3\n",
    "\n",
    "array"
   ]
  },
  {
   "cell_type": "markdown",
   "id": "913ef2f0",
   "metadata": {},
   "source": [
    "np.zeros creates an n-dimensional array (an array of arrays) that is comprised of zeros that are floats. If I want to create an n-dimensional array of zeros that are integers, I can create an n-dimensional list using zeros that are integers."
   ]
  },
  {
   "cell_type": "code",
   "execution_count": 19,
   "id": "1622d11f",
   "metadata": {},
   "outputs": [
    {
     "data": {
      "text/plain": [
       "array([[0, 0, 0],\n",
       "       [0, 0, 0],\n",
       "       [0, 0, 0]])"
      ]
     },
     "execution_count": 19,
     "metadata": {},
     "output_type": "execute_result"
    }
   ],
   "source": [
    "zero_lst_of_lsts = [[0, 0, 0], [0, 0, 0], [0, 0, 0]]\n",
    "np.array(zero_lst_of_lsts)"
   ]
  },
  {
   "cell_type": "code",
   "execution_count": 20,
   "id": "a79ccd6a",
   "metadata": {},
   "outputs": [
    {
     "data": {
      "text/plain": [
       "array([[0, 0, 0],\n",
       "       [0, 0, 0],\n",
       "       [0, 0, 0]])"
      ]
     },
     "execution_count": 20,
     "metadata": {},
     "output_type": "execute_result"
    }
   ],
   "source": [
    "zero_lst_of_lsts = [[0, 0, 0], [0, 0, 0], [0, 0, 0]]\n",
    "zero_array_of_arrays = np.array(zero_lst_of_lsts)\n",
    "np.array(zero_lst_of_lsts)"
   ]
  },
  {
   "cell_type": "code",
   "execution_count": 21,
   "id": "4117a6ef",
   "metadata": {},
   "outputs": [
    {
     "data": {
      "text/plain": [
       "array([[4, 0, 0],\n",
       "       [0, 0, 0],\n",
       "       [0, 0, 0]])"
      ]
     },
     "execution_count": 21,
     "metadata": {},
     "output_type": "execute_result"
    }
   ],
   "source": [
    "zero_array_of_arrays[0][0] = 4\n",
    "zero_array_of_arrays"
   ]
  },
  {
   "cell_type": "markdown",
   "id": "d316b12c",
   "metadata": {},
   "source": [
    "# Logging Data"
   ]
  },
  {
   "cell_type": "code",
   "execution_count": 22,
   "id": "a6d53a5d",
   "metadata": {},
   "outputs": [
    {
     "data": {
      "text/plain": [
       "1.0"
      ]
     },
     "execution_count": 22,
     "metadata": {},
     "output_type": "execute_result"
    }
   ],
   "source": [
    "import numpy as np\n",
    "\n",
    "np.log(np.e)"
   ]
  },
  {
   "cell_type": "code",
   "execution_count": 23,
   "id": "9b5ce1e1",
   "metadata": {},
   "outputs": [
    {
     "data": {
      "text/plain": [
       "1.0"
      ]
     },
     "execution_count": 23,
     "metadata": {},
     "output_type": "execute_result"
    }
   ],
   "source": [
    "np.log10(10)"
   ]
  },
  {
   "cell_type": "code",
   "execution_count": 24,
   "id": "571cebb6",
   "metadata": {},
   "outputs": [
    {
     "data": {
      "text/plain": [
       "2.0"
      ]
     },
     "execution_count": 24,
     "metadata": {},
     "output_type": "execute_result"
    }
   ],
   "source": [
    "np.log10(100)"
   ]
  },
  {
   "cell_type": "code",
   "execution_count": 25,
   "id": "7d0df353",
   "metadata": {},
   "outputs": [
    {
     "name": "stdout",
     "output_type": "stream",
     "text": [
      "0.0\n",
      "1.0413926851582251\n",
      "1.3222192947339193\n",
      "1.4913616938342726\n",
      "1.6127838567197355\n",
      "1.7075701760979363\n",
      "1.7853298350107671\n",
      "1.8512583487190752\n",
      "1.9084850188786497\n",
      "1.9590413923210936\n",
      "2.0043213737826426\n",
      "2.0453229787866576\n",
      "2.0827853703164503\n",
      "2.1172712956557644\n",
      "2.1492191126553797\n",
      "2.1789769472931693\n",
      "2.2068258760318495\n",
      "2.2329961103921536\n",
      "2.2576785748691846\n",
      "2.2810333672477277\n",
      "2.303196057420489\n",
      "2.3242824552976926\n",
      "2.3443922736851106\n",
      "2.3636119798921444\n",
      "2.3820170425748683\n",
      "2.399673721481038\n",
      "2.416640507338281\n",
      "2.432969290874406\n",
      "2.44870631990508\n",
      "2.4638929889859074\n",
      "2.4785664955938436\n",
      "2.4927603890268375\n",
      "2.506505032404872\n",
      "2.519827993775719\n",
      "2.5327543789924976\n",
      "2.545307116465824\n",
      "2.5575072019056577\n",
      "2.569373909615046\n",
      "2.5809249756756194\n",
      "2.5921767573958667\n",
      "2.603144372620182\n",
      "2.6138418218760693\n",
      "2.6242820958356683\n",
      "2.6344772701607315\n",
      "2.6444385894678386\n",
      "2.6541765418779604\n",
      "2.663700925389648\n",
      "2.673020907128896\n",
      "2.682145076373832\n",
      "2.6910814921229687\n",
      "2.699837725867246\n",
      "2.708420900134713\n",
      "2.7168377232995247\n",
      "2.725094521081469\n",
      "2.7331972651065692\n",
      "2.741151598851785\n",
      "2.7489628612561616\n",
      "2.756636108245848\n",
      "2.7641761323903307\n",
      "2.7715874808812555\n",
      "2.7788744720027396\n",
      "2.786041210242554\n",
      "2.79309160017658\n",
      "2.8000293592441343\n",
      "2.8068580295188172\n",
      "2.813580988568192\n",
      "2.82020145948564\n",
      "2.826722520168992\n",
      "2.833147111912785\n",
      "2.8394780473741985\n",
      "2.8457180179666586\n",
      "2.851869600729766\n",
      "2.857935264719429\n",
      "2.8639173769578603\n",
      "2.869818207979328\n",
      "2.8756399370041685\n",
      "2.8813846567705728\n",
      "2.8870543780509568\n",
      "2.8926510338773004\n",
      "2.8981764834976764\n",
      "2.9036325160842376\n",
      "2.909020854211156\n",
      "2.9143431571194407\n",
      "2.919601023784111\n",
      "2.924795995797912\n",
      "2.929929560084588\n",
      "2.935003151453655\n",
      "2.9400181550076634\n",
      "2.9449759084120477\n",
      "2.949877704036875\n",
      "2.954724790979063\n",
      "2.9595183769729982\n",
      "2.964259630196849\n",
      "2.9689496809813427\n",
      "2.973589623427257\n",
      "2.978180516937414\n",
      "2.9827233876685453\n",
      "2.9872192299080047\n",
      "2.9916690073799486\n",
      "2.9960736544852753\n"
     ]
    }
   ],
   "source": [
    "for i in range (1, 1000, 10):\n",
    "    print(np.log10(i))"
   ]
  },
  {
   "cell_type": "code",
   "execution_count": 26,
   "id": "1bd7b74c",
   "metadata": {},
   "outputs": [
    {
     "name": "stdout",
     "output_type": "stream",
     "text": [
      "10 1.0\n",
      "20 1.3010299956639813\n",
      "30 1.4771212547196624\n",
      "40 1.6020599913279623\n",
      "50 1.6989700043360187\n",
      "60 1.7781512503836436\n",
      "70 1.845098040014257\n",
      "80 1.9030899869919435\n",
      "90 1.954242509439325\n",
      "100 2.0\n",
      "110 2.041392685158225\n",
      "120 2.0791812460476247\n",
      "130 2.113943352306837\n",
      "140 2.146128035678238\n",
      "150 2.1760912590556813\n",
      "160 2.2041199826559246\n",
      "170 2.230448921378274\n",
      "180 2.255272505103306\n",
      "190 2.278753600952829\n",
      "200 2.3010299956639813\n",
      "210 2.322219294733919\n",
      "220 2.342422680822206\n",
      "230 2.361727836017593\n",
      "240 2.380211241711606\n",
      "250 2.3979400086720375\n",
      "260 2.4149733479708178\n",
      "270 2.4313637641589874\n",
      "280 2.4471580313422194\n",
      "290 2.462397997898956\n",
      "300 2.4771212547196626\n",
      "310 2.4913616938342726\n",
      "320 2.505149978319906\n",
      "330 2.5185139398778875\n",
      "340 2.531478917042255\n",
      "350 2.5440680443502757\n",
      "360 2.5563025007672873\n",
      "370 2.568201724066995\n",
      "380 2.57978359661681\n",
      "390 2.591064607026499\n",
      "400 2.6020599913279625\n",
      "410 2.6127838567197355\n",
      "420 2.6232492903979003\n",
      "430 2.6334684555795866\n",
      "440 2.6434526764861874\n",
      "450 2.6532125137753435\n",
      "460 2.662757831681574\n",
      "470 2.6720978579357175\n",
      "480 2.681241237375587\n",
      "490 2.690196080028514\n",
      "500 2.6989700043360187\n",
      "510 2.7075701760979363\n",
      "520 2.716003343634799\n",
      "530 2.724275869600789\n",
      "540 2.7323937598229686\n",
      "550 2.7403626894942437\n",
      "560 2.7481880270062002\n",
      "570 2.7558748556724915\n",
      "580 2.7634279935629373\n",
      "590 2.7708520116421442\n",
      "600 2.7781512503836434\n",
      "610 2.785329835010767\n",
      "620 2.792391689498254\n",
      "630 2.7993405494535817\n",
      "640 2.806179973983887\n",
      "650 2.8129133566428557\n",
      "660 2.8195439355418688\n",
      "670 2.8260748027008264\n",
      "680 2.832508912706236\n",
      "690 2.838849090737255\n",
      "700 2.845098040014257\n",
      "710 2.8512583487190755\n",
      "720 2.8573324964312685\n",
      "730 2.863322860120456\n",
      "740 2.8692317197309762\n",
      "750 2.8750612633917\n",
      "760 2.8808135922807914\n",
      "770 2.886490725172482\n",
      "780 2.8920946026904804\n",
      "790 2.8976270912904414\n",
      "800 2.9030899869919438\n",
      "810 2.90848501887865\n",
      "820 2.9138138523837167\n",
      "830 2.9190780923760737\n",
      "840 2.9242792860618816\n",
      "850 2.929418925714293\n",
      "860 2.934498451243568\n",
      "870 2.9395192526186187\n",
      "880 2.9444826721501687\n",
      "890 2.949390006644913\n",
      "900 2.9542425094393248\n",
      "910 2.9590413923210934\n",
      "920 2.963787827345555\n",
      "930 2.9684829485539352\n",
      "940 2.9731278535996988\n",
      "950 2.9777236052888476\n",
      "960 2.9822712330395684\n",
      "970 2.9867717342662448\n",
      "980 2.9912260756924947\n",
      "990 2.99563519459755\n"
     ]
    }
   ],
   "source": [
    "for i in range (10, 1000, 10):\n",
    "    print(i, np.log10(i))"
   ]
  },
  {
   "cell_type": "code",
   "execution_count": 27,
   "id": "3851d1d5",
   "metadata": {},
   "outputs": [
    {
     "name": "stdout",
     "output_type": "stream",
     "text": [
      "10 1.0\n",
      "20 1.3010299956639813\n",
      "30 1.4771212547196624\n",
      "40 1.6020599913279623\n",
      "50 1.6989700043360187\n",
      "60 1.7781512503836436\n",
      "70 1.845098040014257\n",
      "80 1.9030899869919435\n",
      "90 1.954242509439325\n",
      "100 2.0\n",
      "110 2.041392685158225\n",
      "120 2.0791812460476247\n",
      "130 2.113943352306837\n",
      "140 2.146128035678238\n",
      "150 2.1760912590556813\n",
      "160 2.2041199826559246\n",
      "170 2.230448921378274\n",
      "180 2.255272505103306\n",
      "190 2.278753600952829\n",
      "200 2.3010299956639813\n",
      "210 2.322219294733919\n",
      "220 2.342422680822206\n",
      "230 2.361727836017593\n",
      "240 2.380211241711606\n",
      "250 2.3979400086720375\n",
      "260 2.4149733479708178\n",
      "270 2.4313637641589874\n",
      "280 2.4471580313422194\n",
      "290 2.462397997898956\n",
      "300 2.4771212547196626\n",
      "310 2.4913616938342726\n",
      "320 2.505149978319906\n",
      "330 2.5185139398778875\n",
      "340 2.531478917042255\n",
      "350 2.5440680443502757\n",
      "360 2.5563025007672873\n",
      "370 2.568201724066995\n",
      "380 2.57978359661681\n",
      "390 2.591064607026499\n",
      "400 2.6020599913279625\n",
      "410 2.6127838567197355\n",
      "420 2.6232492903979003\n",
      "430 2.6334684555795866\n",
      "440 2.6434526764861874\n",
      "450 2.6532125137753435\n",
      "460 2.662757831681574\n",
      "470 2.6720978579357175\n",
      "480 2.681241237375587\n",
      "490 2.690196080028514\n",
      "500 2.6989700043360187\n",
      "510 2.7075701760979363\n",
      "520 2.716003343634799\n",
      "530 2.724275869600789\n",
      "540 2.7323937598229686\n",
      "550 2.7403626894942437\n",
      "560 2.7481880270062002\n",
      "570 2.7558748556724915\n",
      "580 2.7634279935629373\n",
      "590 2.7708520116421442\n",
      "600 2.7781512503836434\n",
      "610 2.785329835010767\n",
      "620 2.792391689498254\n",
      "630 2.7993405494535817\n",
      "640 2.806179973983887\n",
      "650 2.8129133566428557\n",
      "660 2.8195439355418688\n",
      "670 2.8260748027008264\n",
      "680 2.832508912706236\n",
      "690 2.838849090737255\n",
      "700 2.845098040014257\n",
      "710 2.8512583487190755\n",
      "720 2.8573324964312685\n",
      "730 2.863322860120456\n",
      "740 2.8692317197309762\n",
      "750 2.8750612633917\n",
      "760 2.8808135922807914\n",
      "770 2.886490725172482\n",
      "780 2.8920946026904804\n",
      "790 2.8976270912904414\n",
      "800 2.9030899869919438\n",
      "810 2.90848501887865\n",
      "820 2.9138138523837167\n",
      "830 2.9190780923760737\n",
      "840 2.9242792860618816\n",
      "850 2.929418925714293\n",
      "860 2.934498451243568\n",
      "870 2.9395192526186187\n",
      "880 2.9444826721501687\n",
      "890 2.949390006644913\n",
      "900 2.9542425094393248\n",
      "910 2.9590413923210934\n",
      "920 2.963787827345555\n",
      "930 2.9684829485539352\n",
      "940 2.9731278535996988\n",
      "950 2.9777236052888476\n",
      "960 2.9822712330395684\n",
      "970 2.9867717342662448\n",
      "980 2.9912260756924947\n",
      "990 2.99563519459755\n",
      "1000 3.0\n"
     ]
    }
   ],
   "source": [
    "for i in range (10, 1001, 10):\n",
    "    print(i, np.log10(i))"
   ]
  },
  {
   "cell_type": "markdown",
   "id": "93392d57",
   "metadata": {},
   "source": [
    "## boolean indexing\n",
    "\n",
    "This will create a true or false index that allows us to include or disinclude values from a list"
   ]
  },
  {
   "cell_type": "code",
   "execution_count": 28,
   "id": "3196f5e0",
   "metadata": {},
   "outputs": [
    {
     "data": {
      "text/plain": [
       "[5.644745656457428,\n",
       " 5.183153587157793,\n",
       " 0.5028744396137808,\n",
       " 3.4608622969178637,\n",
       " 2.020070089096323,\n",
       " 3.602059740024494,\n",
       " 0.6224838756753903,\n",
       " 8.341847205884283,\n",
       " 2.4730879262015524,\n",
       " 9.093516990211928]"
      ]
     },
     "execution_count": 28,
     "metadata": {},
     "output_type": "execute_result"
    }
   ],
   "source": [
    "import random\n",
    "\n",
    "rand_list = [random.random() * 10 for i in range(10)]\n",
    "rand_list\n",
    "\n"
   ]
  },
  {
   "cell_type": "code",
   "execution_count": 29,
   "id": "392e3368",
   "metadata": {},
   "outputs": [
    {
     "data": {
      "text/plain": [
       "[8.341847205884283, 9.093516990211928]"
      ]
     },
     "execution_count": 29,
     "metadata": {},
     "output_type": "execute_result"
    }
   ],
   "source": [
    "subset = [val for val in rand_list if val > 7]\n",
    "subset\n",
    "\n",
    "#Subset only keeps values of rand_list that are above 7 in value\n",
    "#Useful for filtering data from lists"
   ]
  },
  {
   "cell_type": "code",
   "execution_count": 30,
   "id": "822ff741",
   "metadata": {},
   "outputs": [
    {
     "name": "stdout",
     "output_type": "stream",
     "text": [
      "[4.6141854212358, 1.2290915393184154, 1.760086867139684, 7.419654716859293, 6.490289428757831, 7.832075736684413]\n"
     ]
    }
   ],
   "source": [
    "subset = [random.random() * 10 for i in range(10) if i > 3]\n",
    "print(subset)"
   ]
  },
  {
   "cell_type": "code",
   "execution_count": 31,
   "id": "38d41c5c",
   "metadata": {},
   "outputs": [
    {
     "name": "stdout",
     "output_type": "stream",
     "text": [
      "[-9.2444094   6.44914393 15.10287427  6.33579329 11.83670313  4.80459278\n",
      " 12.75946357]\n",
      "[False  True  True  True  True  True  True]\n"
     ]
    },
    {
     "data": {
      "text/plain": [
       "array([ 6.44914393, 15.10287427,  6.33579329, 11.83670313,  4.80459278,\n",
       "       12.75946357])"
      ]
     },
     "execution_count": 31,
     "metadata": {},
     "output_type": "execute_result"
    }
   ],
   "source": [
    "#booleanIndexingWithyNumpy\n",
    "\n",
    "import numpy as np\n",
    "\n",
    "rand_array = np.random.randn(7) * 10\n",
    "print(rand_array)\n",
    "print(rand_array > 0)\n",
    "\n",
    "rand_array[rand_array > 0]"
   ]
  },
  {
   "cell_type": "markdown",
   "id": "c0e4f8db",
   "metadata": {},
   "source": [
    "# Data in Dictionaries and DataFrames"
   ]
  },
  {
   "cell_type": "code",
   "execution_count": 32,
   "id": "d48c6441",
   "metadata": {},
   "outputs": [
    {
     "data": {
      "text/plain": [
       "{'0 to 9': array([0, 1, 2, 3, 4, 5, 6, 7, 8, 9]),\n",
       " 'ones': array([1., 1., 1., 1., 1., 1., 1., 1., 1., 1.]),\n",
       " 'zeros': array([0., 0., 0., 0., 0., 0., 0., 0., 0., 0.])}"
      ]
     },
     "execution_count": 32,
     "metadata": {},
     "output_type": "execute_result"
    }
   ],
   "source": [
    "data_dict = {\"0 to 9\": np.arange(10),\n",
    "          \"ones\":np.ones(10),\n",
    "          \"zeros\":np.zeros(10)}\n",
    "data_dict"
   ]
  },
  {
   "cell_type": "code",
   "execution_count": 33,
   "id": "bcb1fb42",
   "metadata": {},
   "outputs": [
    {
     "name": "stdout",
     "output_type": "stream",
     "text": [
      "0 to 9\n",
      "[0 1 2 3 4 5 6 7 8 9]\n",
      "ones\n",
      "[1. 1. 1. 1. 1. 1. 1. 1. 1. 1.]\n",
      "zeros\n",
      "[0. 0. 0. 0. 0. 0. 0. 0. 0. 0.]\n"
     ]
    },
    {
     "data": {
      "text/plain": [
       "dict_items([('0 to 9', array([0, 1, 2, 3, 4, 5, 6, 7, 8, 9])), ('ones', array([1., 1., 1., 1., 1., 1., 1., 1., 1., 1.])), ('zeros', array([0., 0., 0., 0., 0., 0., 0., 0., 0., 0.]))])"
      ]
     },
     "execution_count": 33,
     "metadata": {},
     "output_type": "execute_result"
    }
   ],
   "source": [
    "for key in data_dict:\n",
    "    val = data_dict[key]\n",
    "    print(key)\n",
    "    print(val)\n",
    "#    print(data_dict[key])\n",
    "data_dict.items()"
   ]
  },
  {
   "cell_type": "code",
   "execution_count": 34,
   "id": "2b73ee88",
   "metadata": {},
   "outputs": [
    {
     "name": "stdout",
     "output_type": "stream",
     "text": [
      "0 to 9\n",
      "[0 1 2 3 4 5 6 7 8 9]\n",
      "ones\n",
      "[1. 1. 1. 1. 1. 1. 1. 1. 1. 1.]\n",
      "zeros\n",
      "[0. 0. 0. 0. 0. 0. 0. 0. 0. 0.]\n"
     ]
    }
   ],
   "source": [
    "for key, val in data_dict.items():\n",
    "    print(key)\n",
    "    print(val)"
   ]
  },
  {
   "cell_type": "code",
   "execution_count": 35,
   "id": "5096f233",
   "metadata": {},
   "outputs": [
    {
     "name": "stdout",
     "output_type": "stream",
     "text": [
      "Values from index 5 0 to 9\n",
      "[5 6 7 8 9]\n",
      "Values from index 5 ones\n",
      "[1. 1. 1. 1. 1.]\n",
      "Values from index 5 zeros\n",
      "[0. 0. 0. 0. 0.]\n"
     ]
    }
   ],
   "source": [
    "for key, val in data_dict.items():\n",
    "    print(\"Values from index 5\", key)\n",
    "    print(val[5:])"
   ]
  },
  {
   "cell_type": "markdown",
   "id": "91a2fdb5",
   "metadata": {},
   "source": [
    "# Pandas Dataframes"
   ]
  },
  {
   "cell_type": "code",
   "execution_count": 36,
   "id": "dacf00e8",
   "metadata": {},
   "outputs": [
    {
     "data": {
      "text/plain": [
       "0     2\n",
       "1     3\n",
       "2     4\n",
       "3     5\n",
       "4     6\n",
       "5     7\n",
       "6     8\n",
       "7     9\n",
       "8    10\n",
       "9    11\n",
       "dtype: int32"
      ]
     },
     "execution_count": 36,
     "metadata": {},
     "output_type": "execute_result"
    }
   ],
   "source": [
    "import pandas as pd\n",
    "\n",
    "data = pd.Series(np.arange(2,12))\n",
    "data"
   ]
  },
  {
   "cell_type": "code",
   "execution_count": 37,
   "id": "cd189a64",
   "metadata": {},
   "outputs": [],
   "source": [
    "# dtype: int32 is the data type of the values, when working with dataframes remember that datatype of your dataframes!"
   ]
  },
  {
   "cell_type": "code",
   "execution_count": 38,
   "id": "f09c891e",
   "metadata": {},
   "outputs": [
    {
     "data": {
      "text/html": [
       "<div>\n",
       "<style scoped>\n",
       "    .dataframe tbody tr th:only-of-type {\n",
       "        vertical-align: middle;\n",
       "    }\n",
       "\n",
       "    .dataframe tbody tr th {\n",
       "        vertical-align: top;\n",
       "    }\n",
       "\n",
       "    .dataframe thead th {\n",
       "        text-align: right;\n",
       "    }\n",
       "</style>\n",
       "<table border=\"1\" class=\"dataframe\">\n",
       "  <thead>\n",
       "    <tr style=\"text-align: right;\">\n",
       "      <th></th>\n",
       "      <th>0 to 9</th>\n",
       "      <th>ones</th>\n",
       "      <th>zeros</th>\n",
       "    </tr>\n",
       "  </thead>\n",
       "  <tbody>\n",
       "    <tr>\n",
       "      <th>0</th>\n",
       "      <td>0</td>\n",
       "      <td>1.0</td>\n",
       "      <td>0.0</td>\n",
       "    </tr>\n",
       "    <tr>\n",
       "      <th>1</th>\n",
       "      <td>1</td>\n",
       "      <td>1.0</td>\n",
       "      <td>0.0</td>\n",
       "    </tr>\n",
       "    <tr>\n",
       "      <th>2</th>\n",
       "      <td>2</td>\n",
       "      <td>1.0</td>\n",
       "      <td>0.0</td>\n",
       "    </tr>\n",
       "    <tr>\n",
       "      <th>3</th>\n",
       "      <td>3</td>\n",
       "      <td>1.0</td>\n",
       "      <td>0.0</td>\n",
       "    </tr>\n",
       "    <tr>\n",
       "      <th>4</th>\n",
       "      <td>4</td>\n",
       "      <td>1.0</td>\n",
       "      <td>0.0</td>\n",
       "    </tr>\n",
       "    <tr>\n",
       "      <th>5</th>\n",
       "      <td>5</td>\n",
       "      <td>1.0</td>\n",
       "      <td>0.0</td>\n",
       "    </tr>\n",
       "    <tr>\n",
       "      <th>6</th>\n",
       "      <td>6</td>\n",
       "      <td>1.0</td>\n",
       "      <td>0.0</td>\n",
       "    </tr>\n",
       "    <tr>\n",
       "      <th>7</th>\n",
       "      <td>7</td>\n",
       "      <td>1.0</td>\n",
       "      <td>0.0</td>\n",
       "    </tr>\n",
       "    <tr>\n",
       "      <th>8</th>\n",
       "      <td>8</td>\n",
       "      <td>1.0</td>\n",
       "      <td>0.0</td>\n",
       "    </tr>\n",
       "    <tr>\n",
       "      <th>9</th>\n",
       "      <td>9</td>\n",
       "      <td>1.0</td>\n",
       "      <td>0.0</td>\n",
       "    </tr>\n",
       "  </tbody>\n",
       "</table>\n",
       "</div>"
      ],
      "text/plain": [
       "   0 to 9  ones  zeros\n",
       "0       0   1.0    0.0\n",
       "1       1   1.0    0.0\n",
       "2       2   1.0    0.0\n",
       "3       3   1.0    0.0\n",
       "4       4   1.0    0.0\n",
       "5       5   1.0    0.0\n",
       "6       6   1.0    0.0\n",
       "7       7   1.0    0.0\n",
       "8       8   1.0    0.0\n",
       "9       9   1.0    0.0"
      ]
     },
     "execution_count": 38,
     "metadata": {},
     "output_type": "execute_result"
    }
   ],
   "source": [
    "data_df = pd.DataFrame(data_dict)\n",
    "data_df"
   ]
  },
  {
   "cell_type": "code",
   "execution_count": 39,
   "id": "bab49fa6",
   "metadata": {},
   "outputs": [
    {
     "data": {
      "text/plain": [
       "0    0\n",
       "1    1\n",
       "2    2\n",
       "3    3\n",
       "4    4\n",
       "5    5\n",
       "6    6\n",
       "7    7\n",
       "8    8\n",
       "9    9\n",
       "Name: 0 to 9, dtype: int32"
      ]
     },
     "execution_count": 39,
     "metadata": {},
     "output_type": "execute_result"
    }
   ],
   "source": [
    "data_df[\"0 to 9\"]"
   ]
  },
  {
   "cell_type": "code",
   "execution_count": 40,
   "id": "d0b7965b",
   "metadata": {},
   "outputs": [
    {
     "data": {
      "text/html": [
       "<div>\n",
       "<style scoped>\n",
       "    .dataframe tbody tr th:only-of-type {\n",
       "        vertical-align: middle;\n",
       "    }\n",
       "\n",
       "    .dataframe tbody tr th {\n",
       "        vertical-align: top;\n",
       "    }\n",
       "\n",
       "    .dataframe thead th {\n",
       "        text-align: right;\n",
       "    }\n",
       "</style>\n",
       "<table border=\"1\" class=\"dataframe\">\n",
       "  <thead>\n",
       "    <tr style=\"text-align: right;\">\n",
       "      <th></th>\n",
       "      <th>0 to 9</th>\n",
       "      <th>ones</th>\n",
       "      <th>zeros</th>\n",
       "    </tr>\n",
       "  </thead>\n",
       "  <tbody>\n",
       "    <tr>\n",
       "      <th>0</th>\n",
       "      <td>0</td>\n",
       "      <td>1.0</td>\n",
       "      <td>0.0</td>\n",
       "    </tr>\n",
       "    <tr>\n",
       "      <th>1</th>\n",
       "      <td>1</td>\n",
       "      <td>1.0</td>\n",
       "      <td>0.0</td>\n",
       "    </tr>\n",
       "    <tr>\n",
       "      <th>2</th>\n",
       "      <td>2</td>\n",
       "      <td>1.0</td>\n",
       "      <td>0.0</td>\n",
       "    </tr>\n",
       "    <tr>\n",
       "      <th>3</th>\n",
       "      <td>3</td>\n",
       "      <td>1.0</td>\n",
       "      <td>0.0</td>\n",
       "    </tr>\n",
       "    <tr>\n",
       "      <th>4</th>\n",
       "      <td>4</td>\n",
       "      <td>1.0</td>\n",
       "      <td>0.0</td>\n",
       "    </tr>\n",
       "  </tbody>\n",
       "</table>\n",
       "</div>"
      ],
      "text/plain": [
       "   0 to 9  ones  zeros\n",
       "0       0   1.0    0.0\n",
       "1       1   1.0    0.0\n",
       "2       2   1.0    0.0\n",
       "3       3   1.0    0.0\n",
       "4       4   1.0    0.0"
      ]
     },
     "execution_count": 40,
     "metadata": {},
     "output_type": "execute_result"
    }
   ],
   "source": [
    "# df.iloc[start:finish -1] calls according to row number\n",
    "data_df.iloc[:5]"
   ]
  },
  {
   "cell_type": "code",
   "execution_count": 41,
   "id": "f3bef156",
   "metadata": {},
   "outputs": [
    {
     "data": {
      "text/html": [
       "<div>\n",
       "<style scoped>\n",
       "    .dataframe tbody tr th:only-of-type {\n",
       "        vertical-align: middle;\n",
       "    }\n",
       "\n",
       "    .dataframe tbody tr th {\n",
       "        vertical-align: top;\n",
       "    }\n",
       "\n",
       "    .dataframe thead th {\n",
       "        text-align: right;\n",
       "    }\n",
       "</style>\n",
       "<table border=\"1\" class=\"dataframe\">\n",
       "  <thead>\n",
       "    <tr style=\"text-align: right;\">\n",
       "      <th></th>\n",
       "      <th>0 to 9</th>\n",
       "      <th>ones</th>\n",
       "      <th>zeros</th>\n",
       "    </tr>\n",
       "  </thead>\n",
       "  <tbody>\n",
       "    <tr>\n",
       "      <th>0</th>\n",
       "      <td>0</td>\n",
       "      <td>1.0</td>\n",
       "      <td>0.0</td>\n",
       "    </tr>\n",
       "    <tr>\n",
       "      <th>1</th>\n",
       "      <td>1</td>\n",
       "      <td>1.0</td>\n",
       "      <td>0.0</td>\n",
       "    </tr>\n",
       "    <tr>\n",
       "      <th>2</th>\n",
       "      <td>2</td>\n",
       "      <td>1.0</td>\n",
       "      <td>0.0</td>\n",
       "    </tr>\n",
       "    <tr>\n",
       "      <th>3</th>\n",
       "      <td>3</td>\n",
       "      <td>1.0</td>\n",
       "      <td>0.0</td>\n",
       "    </tr>\n",
       "    <tr>\n",
       "      <th>4</th>\n",
       "      <td>4</td>\n",
       "      <td>1.0</td>\n",
       "      <td>0.0</td>\n",
       "    </tr>\n",
       "    <tr>\n",
       "      <th>5</th>\n",
       "      <td>5</td>\n",
       "      <td>1.0</td>\n",
       "      <td>0.0</td>\n",
       "    </tr>\n",
       "  </tbody>\n",
       "</table>\n",
       "</div>"
      ],
      "text/plain": [
       "   0 to 9  ones  zeros\n",
       "0       0   1.0    0.0\n",
       "1       1   1.0    0.0\n",
       "2       2   1.0    0.0\n",
       "3       3   1.0    0.0\n",
       "4       4   1.0    0.0\n",
       "5       5   1.0    0.0"
      ]
     },
     "execution_count": 41,
     "metadata": {},
     "output_type": "execute_result"
    }
   ],
   "source": [
    "# df.loc[] calls according to row name\n",
    "data_df.loc[:5]"
   ]
  },
  {
   "cell_type": "markdown",
   "id": "87501622",
   "metadata": {},
   "source": [
    "# Create random data for a dataframe"
   ]
  },
  {
   "cell_type": "code",
   "execution_count": 42,
   "id": "ba94cd18",
   "metadata": {},
   "outputs": [],
   "source": [
    "macro_dict = {\"GDP\" : {},\n",
    "             \"Money\" : {},\n",
    "#             \"Real GDP\" : {},\n",
    "             \"Price Level\" : {}}\n",
    "\n",
    "# We are not calculating Real GDP yet, we will do that later"
   ]
  },
  {
   "cell_type": "code",
   "execution_count": 43,
   "id": "7d153116",
   "metadata": {},
   "outputs": [],
   "source": [
    "for key in macro_dict:\n",
    "    for i in range(1990, 2018):\n",
    "        macro_dict[key][i] = np.random.random() * 10000\n",
    "        \n",
    "# How this for loop works: Creates random data for key \"GDP\" for i years (1990 to 2017).\n",
    "# Once it creates data for GDP 2017 the for loop repeats and begins creating random data for the next key \"Money\" starting at 1990"
   ]
  },
  {
   "cell_type": "code",
   "execution_count": 44,
   "id": "39a37403",
   "metadata": {},
   "outputs": [
    {
     "data": {
      "text/plain": [
       "{'GDP': {1990: 1738.5507108888964,\n",
       "  1991: 4523.563962358667,\n",
       "  1992: 5782.315514134891,\n",
       "  1993: 8007.237488224364,\n",
       "  1994: 3701.3754351566618,\n",
       "  1995: 3828.154460213825,\n",
       "  1996: 6711.640337671133,\n",
       "  1997: 1375.6563944544375,\n",
       "  1998: 1981.127657378855,\n",
       "  1999: 26.436594853946893,\n",
       "  2000: 9688.291197406157,\n",
       "  2001: 98.43287982204463,\n",
       "  2002: 3380.5693356294255,\n",
       "  2003: 965.646298115408,\n",
       "  2004: 865.7496589917702,\n",
       "  2005: 8281.95469379039,\n",
       "  2006: 7573.026673800989,\n",
       "  2007: 8659.535855946378,\n",
       "  2008: 9431.596172901514,\n",
       "  2009: 130.31741600553758,\n",
       "  2010: 6150.621283189611,\n",
       "  2011: 8724.393117918822,\n",
       "  2012: 8058.451877258987,\n",
       "  2013: 1809.2173830699187,\n",
       "  2014: 2359.4939749626287,\n",
       "  2015: 1197.0446046499717,\n",
       "  2016: 3128.0337211715428,\n",
       "  2017: 5610.97547657102},\n",
       " 'Money': {1990: 603.0001317821876,\n",
       "  1991: 5176.504911552001,\n",
       "  1992: 8322.466740139866,\n",
       "  1993: 2256.812585539344,\n",
       "  1994: 6820.385581125826,\n",
       "  1995: 2973.262018995979,\n",
       "  1996: 9929.360737570136,\n",
       "  1997: 6833.359886075347,\n",
       "  1998: 8643.686187757648,\n",
       "  1999: 4566.4484402066055,\n",
       "  2000: 9773.041316390638,\n",
       "  2001: 4695.333156341638,\n",
       "  2002: 1614.1012524041687,\n",
       "  2003: 1154.6605100094764,\n",
       "  2004: 6028.2149052981695,\n",
       "  2005: 4569.27533490952,\n",
       "  2006: 880.0441828029037,\n",
       "  2007: 4017.649846204401,\n",
       "  2008: 3150.086631966149,\n",
       "  2009: 6875.6228899952675,\n",
       "  2010: 8044.7840434245145,\n",
       "  2011: 9433.769417411613,\n",
       "  2012: 3418.3138447967654,\n",
       "  2013: 5873.123796027301,\n",
       "  2014: 1650.9526106857386,\n",
       "  2015: 5411.893717912957,\n",
       "  2016: 2310.043982431972,\n",
       "  2017: 4281.698279471905},\n",
       " 'Price Level': {1990: 7222.307184318158,\n",
       "  1991: 3888.4375055251185,\n",
       "  1992: 9895.443164541894,\n",
       "  1993: 5321.608204402582,\n",
       "  1994: 7434.558374731958,\n",
       "  1995: 8481.327467256846,\n",
       "  1996: 8197.678413763646,\n",
       "  1997: 265.21257795290353,\n",
       "  1998: 5390.60871467069,\n",
       "  1999: 631.3440558655792,\n",
       "  2000: 4145.43316436387,\n",
       "  2001: 1932.0452343861916,\n",
       "  2002: 4919.188776635351,\n",
       "  2003: 1589.7172082539823,\n",
       "  2004: 7524.999074229856,\n",
       "  2005: 505.73689803448787,\n",
       "  2006: 3341.4588344949757,\n",
       "  2007: 4559.271645146397,\n",
       "  2008: 1146.0571017762156,\n",
       "  2009: 1594.850850307229,\n",
       "  2010: 806.7567031802636,\n",
       "  2011: 4667.153686152495,\n",
       "  2012: 1858.8523020066161,\n",
       "  2013: 9247.558784522218,\n",
       "  2014: 3483.9188768772087,\n",
       "  2015: 949.1127746687645,\n",
       "  2016: 2843.9535230701895,\n",
       "  2017: 6628.7734125505385}}"
      ]
     },
     "execution_count": 44,
     "metadata": {},
     "output_type": "execute_result"
    }
   ],
   "source": [
    "macro_dict"
   ]
  },
  {
   "cell_type": "code",
   "execution_count": 45,
   "id": "3f96f7ff",
   "metadata": {
    "scrolled": false
   },
   "outputs": [
    {
     "data": {
      "text/html": [
       "<div>\n",
       "<style scoped>\n",
       "    .dataframe tbody tr th:only-of-type {\n",
       "        vertical-align: middle;\n",
       "    }\n",
       "\n",
       "    .dataframe tbody tr th {\n",
       "        vertical-align: top;\n",
       "    }\n",
       "\n",
       "    .dataframe thead th {\n",
       "        text-align: right;\n",
       "    }\n",
       "</style>\n",
       "<table border=\"1\" class=\"dataframe\">\n",
       "  <thead>\n",
       "    <tr style=\"text-align: right;\">\n",
       "      <th></th>\n",
       "      <th>GDP</th>\n",
       "      <th>Money</th>\n",
       "      <th>Price Level</th>\n",
       "    </tr>\n",
       "  </thead>\n",
       "  <tbody>\n",
       "    <tr>\n",
       "      <th>1990</th>\n",
       "      <td>1738.550711</td>\n",
       "      <td>603.000132</td>\n",
       "      <td>7222.307184</td>\n",
       "    </tr>\n",
       "    <tr>\n",
       "      <th>1991</th>\n",
       "      <td>4523.563962</td>\n",
       "      <td>5176.504912</td>\n",
       "      <td>3888.437506</td>\n",
       "    </tr>\n",
       "    <tr>\n",
       "      <th>1992</th>\n",
       "      <td>5782.315514</td>\n",
       "      <td>8322.466740</td>\n",
       "      <td>9895.443165</td>\n",
       "    </tr>\n",
       "    <tr>\n",
       "      <th>1993</th>\n",
       "      <td>8007.237488</td>\n",
       "      <td>2256.812586</td>\n",
       "      <td>5321.608204</td>\n",
       "    </tr>\n",
       "    <tr>\n",
       "      <th>1994</th>\n",
       "      <td>3701.375435</td>\n",
       "      <td>6820.385581</td>\n",
       "      <td>7434.558375</td>\n",
       "    </tr>\n",
       "    <tr>\n",
       "      <th>1995</th>\n",
       "      <td>3828.154460</td>\n",
       "      <td>2973.262019</td>\n",
       "      <td>8481.327467</td>\n",
       "    </tr>\n",
       "    <tr>\n",
       "      <th>1996</th>\n",
       "      <td>6711.640338</td>\n",
       "      <td>9929.360738</td>\n",
       "      <td>8197.678414</td>\n",
       "    </tr>\n",
       "    <tr>\n",
       "      <th>1997</th>\n",
       "      <td>1375.656394</td>\n",
       "      <td>6833.359886</td>\n",
       "      <td>265.212578</td>\n",
       "    </tr>\n",
       "    <tr>\n",
       "      <th>1998</th>\n",
       "      <td>1981.127657</td>\n",
       "      <td>8643.686188</td>\n",
       "      <td>5390.608715</td>\n",
       "    </tr>\n",
       "    <tr>\n",
       "      <th>1999</th>\n",
       "      <td>26.436595</td>\n",
       "      <td>4566.448440</td>\n",
       "      <td>631.344056</td>\n",
       "    </tr>\n",
       "    <tr>\n",
       "      <th>2000</th>\n",
       "      <td>9688.291197</td>\n",
       "      <td>9773.041316</td>\n",
       "      <td>4145.433164</td>\n",
       "    </tr>\n",
       "    <tr>\n",
       "      <th>2001</th>\n",
       "      <td>98.432880</td>\n",
       "      <td>4695.333156</td>\n",
       "      <td>1932.045234</td>\n",
       "    </tr>\n",
       "    <tr>\n",
       "      <th>2002</th>\n",
       "      <td>3380.569336</td>\n",
       "      <td>1614.101252</td>\n",
       "      <td>4919.188777</td>\n",
       "    </tr>\n",
       "    <tr>\n",
       "      <th>2003</th>\n",
       "      <td>965.646298</td>\n",
       "      <td>1154.660510</td>\n",
       "      <td>1589.717208</td>\n",
       "    </tr>\n",
       "    <tr>\n",
       "      <th>2004</th>\n",
       "      <td>865.749659</td>\n",
       "      <td>6028.214905</td>\n",
       "      <td>7524.999074</td>\n",
       "    </tr>\n",
       "    <tr>\n",
       "      <th>2005</th>\n",
       "      <td>8281.954694</td>\n",
       "      <td>4569.275335</td>\n",
       "      <td>505.736898</td>\n",
       "    </tr>\n",
       "    <tr>\n",
       "      <th>2006</th>\n",
       "      <td>7573.026674</td>\n",
       "      <td>880.044183</td>\n",
       "      <td>3341.458834</td>\n",
       "    </tr>\n",
       "    <tr>\n",
       "      <th>2007</th>\n",
       "      <td>8659.535856</td>\n",
       "      <td>4017.649846</td>\n",
       "      <td>4559.271645</td>\n",
       "    </tr>\n",
       "    <tr>\n",
       "      <th>2008</th>\n",
       "      <td>9431.596173</td>\n",
       "      <td>3150.086632</td>\n",
       "      <td>1146.057102</td>\n",
       "    </tr>\n",
       "    <tr>\n",
       "      <th>2009</th>\n",
       "      <td>130.317416</td>\n",
       "      <td>6875.622890</td>\n",
       "      <td>1594.850850</td>\n",
       "    </tr>\n",
       "    <tr>\n",
       "      <th>2010</th>\n",
       "      <td>6150.621283</td>\n",
       "      <td>8044.784043</td>\n",
       "      <td>806.756703</td>\n",
       "    </tr>\n",
       "    <tr>\n",
       "      <th>2011</th>\n",
       "      <td>8724.393118</td>\n",
       "      <td>9433.769417</td>\n",
       "      <td>4667.153686</td>\n",
       "    </tr>\n",
       "    <tr>\n",
       "      <th>2012</th>\n",
       "      <td>8058.451877</td>\n",
       "      <td>3418.313845</td>\n",
       "      <td>1858.852302</td>\n",
       "    </tr>\n",
       "    <tr>\n",
       "      <th>2013</th>\n",
       "      <td>1809.217383</td>\n",
       "      <td>5873.123796</td>\n",
       "      <td>9247.558785</td>\n",
       "    </tr>\n",
       "    <tr>\n",
       "      <th>2014</th>\n",
       "      <td>2359.493975</td>\n",
       "      <td>1650.952611</td>\n",
       "      <td>3483.918877</td>\n",
       "    </tr>\n",
       "    <tr>\n",
       "      <th>2015</th>\n",
       "      <td>1197.044605</td>\n",
       "      <td>5411.893718</td>\n",
       "      <td>949.112775</td>\n",
       "    </tr>\n",
       "    <tr>\n",
       "      <th>2016</th>\n",
       "      <td>3128.033721</td>\n",
       "      <td>2310.043982</td>\n",
       "      <td>2843.953523</td>\n",
       "    </tr>\n",
       "    <tr>\n",
       "      <th>2017</th>\n",
       "      <td>5610.975477</td>\n",
       "      <td>4281.698279</td>\n",
       "      <td>6628.773413</td>\n",
       "    </tr>\n",
       "  </tbody>\n",
       "</table>\n",
       "</div>"
      ],
      "text/plain": [
       "              GDP        Money  Price Level\n",
       "1990  1738.550711   603.000132  7222.307184\n",
       "1991  4523.563962  5176.504912  3888.437506\n",
       "1992  5782.315514  8322.466740  9895.443165\n",
       "1993  8007.237488  2256.812586  5321.608204\n",
       "1994  3701.375435  6820.385581  7434.558375\n",
       "1995  3828.154460  2973.262019  8481.327467\n",
       "1996  6711.640338  9929.360738  8197.678414\n",
       "1997  1375.656394  6833.359886   265.212578\n",
       "1998  1981.127657  8643.686188  5390.608715\n",
       "1999    26.436595  4566.448440   631.344056\n",
       "2000  9688.291197  9773.041316  4145.433164\n",
       "2001    98.432880  4695.333156  1932.045234\n",
       "2002  3380.569336  1614.101252  4919.188777\n",
       "2003   965.646298  1154.660510  1589.717208\n",
       "2004   865.749659  6028.214905  7524.999074\n",
       "2005  8281.954694  4569.275335   505.736898\n",
       "2006  7573.026674   880.044183  3341.458834\n",
       "2007  8659.535856  4017.649846  4559.271645\n",
       "2008  9431.596173  3150.086632  1146.057102\n",
       "2009   130.317416  6875.622890  1594.850850\n",
       "2010  6150.621283  8044.784043   806.756703\n",
       "2011  8724.393118  9433.769417  4667.153686\n",
       "2012  8058.451877  3418.313845  1858.852302\n",
       "2013  1809.217383  5873.123796  9247.558785\n",
       "2014  2359.493975  1650.952611  3483.918877\n",
       "2015  1197.044605  5411.893718   949.112775\n",
       "2016  3128.033721  2310.043982  2843.953523\n",
       "2017  5610.975477  4281.698279  6628.773413"
      ]
     },
     "execution_count": 45,
     "metadata": {},
     "output_type": "execute_result"
    }
   ],
   "source": [
    "macro_df = pd.DataFrame(macro_dict)\n",
    "macro_df"
   ]
  },
  {
   "cell_type": "code",
   "execution_count": 46,
   "id": "2b171172",
   "metadata": {},
   "outputs": [],
   "source": [
    "# To increase or decrease display size of output, click the left whitespace next to the dataframe output"
   ]
  },
  {
   "cell_type": "code",
   "execution_count": 47,
   "id": "41521005",
   "metadata": {},
   "outputs": [
    {
     "data": {
      "text/html": [
       "<div>\n",
       "<style scoped>\n",
       "    .dataframe tbody tr th:only-of-type {\n",
       "        vertical-align: middle;\n",
       "    }\n",
       "\n",
       "    .dataframe tbody tr th {\n",
       "        vertical-align: top;\n",
       "    }\n",
       "\n",
       "    .dataframe thead th {\n",
       "        text-align: right;\n",
       "    }\n",
       "</style>\n",
       "<table border=\"1\" class=\"dataframe\">\n",
       "  <thead>\n",
       "    <tr style=\"text-align: right;\">\n",
       "      <th></th>\n",
       "      <th>GDP</th>\n",
       "      <th>Money</th>\n",
       "      <th>Price Level</th>\n",
       "      <th>Velocity</th>\n",
       "      <th>Real GDP</th>\n",
       "    </tr>\n",
       "  </thead>\n",
       "  <tbody>\n",
       "    <tr>\n",
       "      <th>1990</th>\n",
       "      <td>1738.550711</td>\n",
       "      <td>603.000132</td>\n",
       "      <td>7222.307184</td>\n",
       "      <td>2.883168</td>\n",
       "      <td>0.240720</td>\n",
       "    </tr>\n",
       "    <tr>\n",
       "      <th>1991</th>\n",
       "      <td>4523.563962</td>\n",
       "      <td>5176.504912</td>\n",
       "      <td>3888.437506</td>\n",
       "      <td>0.873865</td>\n",
       "      <td>1.163337</td>\n",
       "    </tr>\n",
       "    <tr>\n",
       "      <th>1992</th>\n",
       "      <td>5782.315514</td>\n",
       "      <td>8322.466740</td>\n",
       "      <td>9895.443165</td>\n",
       "      <td>0.694784</td>\n",
       "      <td>0.584341</td>\n",
       "    </tr>\n",
       "    <tr>\n",
       "      <th>1993</th>\n",
       "      <td>8007.237488</td>\n",
       "      <td>2256.812586</td>\n",
       "      <td>5321.608204</td>\n",
       "      <td>3.548029</td>\n",
       "      <td>1.504665</td>\n",
       "    </tr>\n",
       "    <tr>\n",
       "      <th>1994</th>\n",
       "      <td>3701.375435</td>\n",
       "      <td>6820.385581</td>\n",
       "      <td>7434.558375</td>\n",
       "      <td>0.542693</td>\n",
       "      <td>0.497861</td>\n",
       "    </tr>\n",
       "    <tr>\n",
       "      <th>1995</th>\n",
       "      <td>3828.154460</td>\n",
       "      <td>2973.262019</td>\n",
       "      <td>8481.327467</td>\n",
       "      <td>1.287527</td>\n",
       "      <td>0.451363</td>\n",
       "    </tr>\n",
       "    <tr>\n",
       "      <th>1996</th>\n",
       "      <td>6711.640338</td>\n",
       "      <td>9929.360738</td>\n",
       "      <td>8197.678414</td>\n",
       "      <td>0.675939</td>\n",
       "      <td>0.818725</td>\n",
       "    </tr>\n",
       "    <tr>\n",
       "      <th>1997</th>\n",
       "      <td>1375.656394</td>\n",
       "      <td>6833.359886</td>\n",
       "      <td>265.212578</td>\n",
       "      <td>0.201315</td>\n",
       "      <td>5.186995</td>\n",
       "    </tr>\n",
       "    <tr>\n",
       "      <th>1998</th>\n",
       "      <td>1981.127657</td>\n",
       "      <td>8643.686188</td>\n",
       "      <td>5390.608715</td>\n",
       "      <td>0.229199</td>\n",
       "      <td>0.367515</td>\n",
       "    </tr>\n",
       "    <tr>\n",
       "      <th>1999</th>\n",
       "      <td>26.436595</td>\n",
       "      <td>4566.448440</td>\n",
       "      <td>631.344056</td>\n",
       "      <td>0.005789</td>\n",
       "      <td>0.041874</td>\n",
       "    </tr>\n",
       "    <tr>\n",
       "      <th>2000</th>\n",
       "      <td>9688.291197</td>\n",
       "      <td>9773.041316</td>\n",
       "      <td>4145.433164</td>\n",
       "      <td>0.991328</td>\n",
       "      <td>2.337100</td>\n",
       "    </tr>\n",
       "    <tr>\n",
       "      <th>2001</th>\n",
       "      <td>98.432880</td>\n",
       "      <td>4695.333156</td>\n",
       "      <td>1932.045234</td>\n",
       "      <td>0.020964</td>\n",
       "      <td>0.050948</td>\n",
       "    </tr>\n",
       "    <tr>\n",
       "      <th>2002</th>\n",
       "      <td>3380.569336</td>\n",
       "      <td>1614.101252</td>\n",
       "      <td>4919.188777</td>\n",
       "      <td>2.094397</td>\n",
       "      <td>0.687221</td>\n",
       "    </tr>\n",
       "    <tr>\n",
       "      <th>2003</th>\n",
       "      <td>965.646298</td>\n",
       "      <td>1154.660510</td>\n",
       "      <td>1589.717208</td>\n",
       "      <td>0.836303</td>\n",
       "      <td>0.607433</td>\n",
       "    </tr>\n",
       "    <tr>\n",
       "      <th>2004</th>\n",
       "      <td>865.749659</td>\n",
       "      <td>6028.214905</td>\n",
       "      <td>7524.999074</td>\n",
       "      <td>0.143616</td>\n",
       "      <td>0.115050</td>\n",
       "    </tr>\n",
       "    <tr>\n",
       "      <th>2005</th>\n",
       "      <td>8281.954694</td>\n",
       "      <td>4569.275335</td>\n",
       "      <td>505.736898</td>\n",
       "      <td>1.812531</td>\n",
       "      <td>16.376014</td>\n",
       "    </tr>\n",
       "    <tr>\n",
       "      <th>2006</th>\n",
       "      <td>7573.026674</td>\n",
       "      <td>880.044183</td>\n",
       "      <td>3341.458834</td>\n",
       "      <td>8.605280</td>\n",
       "      <td>2.266383</td>\n",
       "    </tr>\n",
       "    <tr>\n",
       "      <th>2007</th>\n",
       "      <td>8659.535856</td>\n",
       "      <td>4017.649846</td>\n",
       "      <td>4559.271645</td>\n",
       "      <td>2.155373</td>\n",
       "      <td>1.899324</td>\n",
       "    </tr>\n",
       "    <tr>\n",
       "      <th>2008</th>\n",
       "      <td>9431.596173</td>\n",
       "      <td>3150.086632</td>\n",
       "      <td>1146.057102</td>\n",
       "      <td>2.994075</td>\n",
       "      <td>8.229604</td>\n",
       "    </tr>\n",
       "    <tr>\n",
       "      <th>2009</th>\n",
       "      <td>130.317416</td>\n",
       "      <td>6875.622890</td>\n",
       "      <td>1594.850850</td>\n",
       "      <td>0.018954</td>\n",
       "      <td>0.081711</td>\n",
       "    </tr>\n",
       "    <tr>\n",
       "      <th>2010</th>\n",
       "      <td>6150.621283</td>\n",
       "      <td>8044.784043</td>\n",
       "      <td>806.756703</td>\n",
       "      <td>0.764548</td>\n",
       "      <td>7.623886</td>\n",
       "    </tr>\n",
       "    <tr>\n",
       "      <th>2011</th>\n",
       "      <td>8724.393118</td>\n",
       "      <td>9433.769417</td>\n",
       "      <td>4667.153686</td>\n",
       "      <td>0.924805</td>\n",
       "      <td>1.869318</td>\n",
       "    </tr>\n",
       "    <tr>\n",
       "      <th>2012</th>\n",
       "      <td>8058.451877</td>\n",
       "      <td>3418.313845</td>\n",
       "      <td>1858.852302</td>\n",
       "      <td>2.357435</td>\n",
       "      <td>4.335176</td>\n",
       "    </tr>\n",
       "    <tr>\n",
       "      <th>2013</th>\n",
       "      <td>1809.217383</td>\n",
       "      <td>5873.123796</td>\n",
       "      <td>9247.558785</td>\n",
       "      <td>0.308050</td>\n",
       "      <td>0.195643</td>\n",
       "    </tr>\n",
       "    <tr>\n",
       "      <th>2014</th>\n",
       "      <td>2359.493975</td>\n",
       "      <td>1650.952611</td>\n",
       "      <td>3483.918877</td>\n",
       "      <td>1.429171</td>\n",
       "      <td>0.677253</td>\n",
       "    </tr>\n",
       "    <tr>\n",
       "      <th>2015</th>\n",
       "      <td>1197.044605</td>\n",
       "      <td>5411.893718</td>\n",
       "      <td>949.112775</td>\n",
       "      <td>0.221188</td>\n",
       "      <td>1.261225</td>\n",
       "    </tr>\n",
       "    <tr>\n",
       "      <th>2016</th>\n",
       "      <td>3128.033721</td>\n",
       "      <td>2310.043982</td>\n",
       "      <td>2843.953523</td>\n",
       "      <td>1.354101</td>\n",
       "      <td>1.099889</td>\n",
       "    </tr>\n",
       "    <tr>\n",
       "      <th>2017</th>\n",
       "      <td>5610.975477</td>\n",
       "      <td>4281.698279</td>\n",
       "      <td>6628.773413</td>\n",
       "      <td>1.310456</td>\n",
       "      <td>0.846458</td>\n",
       "    </tr>\n",
       "  </tbody>\n",
       "</table>\n",
       "</div>"
      ],
      "text/plain": [
       "              GDP        Money  Price Level  Velocity   Real GDP\n",
       "1990  1738.550711   603.000132  7222.307184  2.883168   0.240720\n",
       "1991  4523.563962  5176.504912  3888.437506  0.873865   1.163337\n",
       "1992  5782.315514  8322.466740  9895.443165  0.694784   0.584341\n",
       "1993  8007.237488  2256.812586  5321.608204  3.548029   1.504665\n",
       "1994  3701.375435  6820.385581  7434.558375  0.542693   0.497861\n",
       "1995  3828.154460  2973.262019  8481.327467  1.287527   0.451363\n",
       "1996  6711.640338  9929.360738  8197.678414  0.675939   0.818725\n",
       "1997  1375.656394  6833.359886   265.212578  0.201315   5.186995\n",
       "1998  1981.127657  8643.686188  5390.608715  0.229199   0.367515\n",
       "1999    26.436595  4566.448440   631.344056  0.005789   0.041874\n",
       "2000  9688.291197  9773.041316  4145.433164  0.991328   2.337100\n",
       "2001    98.432880  4695.333156  1932.045234  0.020964   0.050948\n",
       "2002  3380.569336  1614.101252  4919.188777  2.094397   0.687221\n",
       "2003   965.646298  1154.660510  1589.717208  0.836303   0.607433\n",
       "2004   865.749659  6028.214905  7524.999074  0.143616   0.115050\n",
       "2005  8281.954694  4569.275335   505.736898  1.812531  16.376014\n",
       "2006  7573.026674   880.044183  3341.458834  8.605280   2.266383\n",
       "2007  8659.535856  4017.649846  4559.271645  2.155373   1.899324\n",
       "2008  9431.596173  3150.086632  1146.057102  2.994075   8.229604\n",
       "2009   130.317416  6875.622890  1594.850850  0.018954   0.081711\n",
       "2010  6150.621283  8044.784043   806.756703  0.764548   7.623886\n",
       "2011  8724.393118  9433.769417  4667.153686  0.924805   1.869318\n",
       "2012  8058.451877  3418.313845  1858.852302  2.357435   4.335176\n",
       "2013  1809.217383  5873.123796  9247.558785  0.308050   0.195643\n",
       "2014  2359.493975  1650.952611  3483.918877  1.429171   0.677253\n",
       "2015  1197.044605  5411.893718   949.112775  0.221188   1.261225\n",
       "2016  3128.033721  2310.043982  2843.953523  1.354101   1.099889\n",
       "2017  5610.975477  4281.698279  6628.773413  1.310456   0.846458"
      ]
     },
     "execution_count": 47,
     "metadata": {},
     "output_type": "execute_result"
    }
   ],
   "source": [
    "macro_df[\"Velocity\"] = macro_df[\"GDP\"].div(\n",
    "    macro_df[\"Money\"])\n",
    "macro_df[\"Real GDP\"] = macro_df[\"GDP\"].div(\n",
    "    macro_df[\"Price Level\"])\n",
    "macro_df\n",
    "\n",
    "#This is creating a new columns \"Velocity\" and \"Real GDP\" and calculating their values"
   ]
  },
  {
   "cell_type": "code",
   "execution_count": 48,
   "id": "868085f5",
   "metadata": {},
   "outputs": [
    {
     "data": {
      "text/html": [
       "<div>\n",
       "<style scoped>\n",
       "    .dataframe tbody tr th:only-of-type {\n",
       "        vertical-align: middle;\n",
       "    }\n",
       "\n",
       "    .dataframe tbody tr th {\n",
       "        vertical-align: top;\n",
       "    }\n",
       "\n",
       "    .dataframe thead th {\n",
       "        text-align: right;\n",
       "    }\n",
       "</style>\n",
       "<table border=\"1\" class=\"dataframe\">\n",
       "  <thead>\n",
       "    <tr style=\"text-align: right;\">\n",
       "      <th></th>\n",
       "      <th>GDP</th>\n",
       "      <th>Money</th>\n",
       "      <th>Price Level</th>\n",
       "      <th>Velocity</th>\n",
       "      <th>Real GDP</th>\n",
       "    </tr>\n",
       "  </thead>\n",
       "  <tbody>\n",
       "    <tr>\n",
       "      <th>1995</th>\n",
       "      <td>3828.154460</td>\n",
       "      <td>2973.262019</td>\n",
       "      <td>8481.327467</td>\n",
       "      <td>1.287527</td>\n",
       "      <td>0.451363</td>\n",
       "    </tr>\n",
       "    <tr>\n",
       "      <th>1996</th>\n",
       "      <td>6711.640338</td>\n",
       "      <td>9929.360738</td>\n",
       "      <td>8197.678414</td>\n",
       "      <td>0.675939</td>\n",
       "      <td>0.818725</td>\n",
       "    </tr>\n",
       "    <tr>\n",
       "      <th>1997</th>\n",
       "      <td>1375.656394</td>\n",
       "      <td>6833.359886</td>\n",
       "      <td>265.212578</td>\n",
       "      <td>0.201315</td>\n",
       "      <td>5.186995</td>\n",
       "    </tr>\n",
       "    <tr>\n",
       "      <th>1998</th>\n",
       "      <td>1981.127657</td>\n",
       "      <td>8643.686188</td>\n",
       "      <td>5390.608715</td>\n",
       "      <td>0.229199</td>\n",
       "      <td>0.367515</td>\n",
       "    </tr>\n",
       "    <tr>\n",
       "      <th>1999</th>\n",
       "      <td>26.436595</td>\n",
       "      <td>4566.448440</td>\n",
       "      <td>631.344056</td>\n",
       "      <td>0.005789</td>\n",
       "      <td>0.041874</td>\n",
       "    </tr>\n",
       "    <tr>\n",
       "      <th>2000</th>\n",
       "      <td>9688.291197</td>\n",
       "      <td>9773.041316</td>\n",
       "      <td>4145.433164</td>\n",
       "      <td>0.991328</td>\n",
       "      <td>2.337100</td>\n",
       "    </tr>\n",
       "  </tbody>\n",
       "</table>\n",
       "</div>"
      ],
      "text/plain": [
       "              GDP        Money  Price Level  Velocity  Real GDP\n",
       "1995  3828.154460  2973.262019  8481.327467  1.287527  0.451363\n",
       "1996  6711.640338  9929.360738  8197.678414  0.675939  0.818725\n",
       "1997  1375.656394  6833.359886   265.212578  0.201315  5.186995\n",
       "1998  1981.127657  8643.686188  5390.608715  0.229199  0.367515\n",
       "1999    26.436595  4566.448440   631.344056  0.005789  0.041874\n",
       "2000  9688.291197  9773.041316  4145.433164  0.991328  2.337100"
      ]
     },
     "execution_count": 48,
     "metadata": {},
     "output_type": "execute_result"
    }
   ],
   "source": [
    "macro_df.loc[1995:2000]"
   ]
  },
  {
   "cell_type": "markdown",
   "id": "9f1baefa",
   "metadata": {},
   "source": [
    "# You can call a subset of rows by passing a list of keys\n",
    "\n",
    "This can be done in two ways."
   ]
  },
  {
   "cell_type": "code",
   "execution_count": 49,
   "id": "83a09402",
   "metadata": {},
   "outputs": [
    {
     "data": {
      "text/html": [
       "<div>\n",
       "<style scoped>\n",
       "    .dataframe tbody tr th:only-of-type {\n",
       "        vertical-align: middle;\n",
       "    }\n",
       "\n",
       "    .dataframe tbody tr th {\n",
       "        vertical-align: top;\n",
       "    }\n",
       "\n",
       "    .dataframe thead th {\n",
       "        text-align: right;\n",
       "    }\n",
       "</style>\n",
       "<table border=\"1\" class=\"dataframe\">\n",
       "  <thead>\n",
       "    <tr style=\"text-align: right;\">\n",
       "      <th></th>\n",
       "      <th>Real GDP</th>\n",
       "      <th>Money</th>\n",
       "    </tr>\n",
       "  </thead>\n",
       "  <tbody>\n",
       "    <tr>\n",
       "      <th>1990</th>\n",
       "      <td>0.240720</td>\n",
       "      <td>603.000132</td>\n",
       "    </tr>\n",
       "    <tr>\n",
       "      <th>1991</th>\n",
       "      <td>1.163337</td>\n",
       "      <td>5176.504912</td>\n",
       "    </tr>\n",
       "    <tr>\n",
       "      <th>1992</th>\n",
       "      <td>0.584341</td>\n",
       "      <td>8322.466740</td>\n",
       "    </tr>\n",
       "    <tr>\n",
       "      <th>1993</th>\n",
       "      <td>1.504665</td>\n",
       "      <td>2256.812586</td>\n",
       "    </tr>\n",
       "    <tr>\n",
       "      <th>1994</th>\n",
       "      <td>0.497861</td>\n",
       "      <td>6820.385581</td>\n",
       "    </tr>\n",
       "    <tr>\n",
       "      <th>1995</th>\n",
       "      <td>0.451363</td>\n",
       "      <td>2973.262019</td>\n",
       "    </tr>\n",
       "    <tr>\n",
       "      <th>1996</th>\n",
       "      <td>0.818725</td>\n",
       "      <td>9929.360738</td>\n",
       "    </tr>\n",
       "    <tr>\n",
       "      <th>1997</th>\n",
       "      <td>5.186995</td>\n",
       "      <td>6833.359886</td>\n",
       "    </tr>\n",
       "    <tr>\n",
       "      <th>1998</th>\n",
       "      <td>0.367515</td>\n",
       "      <td>8643.686188</td>\n",
       "    </tr>\n",
       "    <tr>\n",
       "      <th>1999</th>\n",
       "      <td>0.041874</td>\n",
       "      <td>4566.448440</td>\n",
       "    </tr>\n",
       "    <tr>\n",
       "      <th>2000</th>\n",
       "      <td>2.337100</td>\n",
       "      <td>9773.041316</td>\n",
       "    </tr>\n",
       "    <tr>\n",
       "      <th>2001</th>\n",
       "      <td>0.050948</td>\n",
       "      <td>4695.333156</td>\n",
       "    </tr>\n",
       "    <tr>\n",
       "      <th>2002</th>\n",
       "      <td>0.687221</td>\n",
       "      <td>1614.101252</td>\n",
       "    </tr>\n",
       "    <tr>\n",
       "      <th>2003</th>\n",
       "      <td>0.607433</td>\n",
       "      <td>1154.660510</td>\n",
       "    </tr>\n",
       "    <tr>\n",
       "      <th>2004</th>\n",
       "      <td>0.115050</td>\n",
       "      <td>6028.214905</td>\n",
       "    </tr>\n",
       "    <tr>\n",
       "      <th>2005</th>\n",
       "      <td>16.376014</td>\n",
       "      <td>4569.275335</td>\n",
       "    </tr>\n",
       "    <tr>\n",
       "      <th>2006</th>\n",
       "      <td>2.266383</td>\n",
       "      <td>880.044183</td>\n",
       "    </tr>\n",
       "    <tr>\n",
       "      <th>2007</th>\n",
       "      <td>1.899324</td>\n",
       "      <td>4017.649846</td>\n",
       "    </tr>\n",
       "    <tr>\n",
       "      <th>2008</th>\n",
       "      <td>8.229604</td>\n",
       "      <td>3150.086632</td>\n",
       "    </tr>\n",
       "    <tr>\n",
       "      <th>2009</th>\n",
       "      <td>0.081711</td>\n",
       "      <td>6875.622890</td>\n",
       "    </tr>\n",
       "    <tr>\n",
       "      <th>2010</th>\n",
       "      <td>7.623886</td>\n",
       "      <td>8044.784043</td>\n",
       "    </tr>\n",
       "    <tr>\n",
       "      <th>2011</th>\n",
       "      <td>1.869318</td>\n",
       "      <td>9433.769417</td>\n",
       "    </tr>\n",
       "    <tr>\n",
       "      <th>2012</th>\n",
       "      <td>4.335176</td>\n",
       "      <td>3418.313845</td>\n",
       "    </tr>\n",
       "    <tr>\n",
       "      <th>2013</th>\n",
       "      <td>0.195643</td>\n",
       "      <td>5873.123796</td>\n",
       "    </tr>\n",
       "    <tr>\n",
       "      <th>2014</th>\n",
       "      <td>0.677253</td>\n",
       "      <td>1650.952611</td>\n",
       "    </tr>\n",
       "    <tr>\n",
       "      <th>2015</th>\n",
       "      <td>1.261225</td>\n",
       "      <td>5411.893718</td>\n",
       "    </tr>\n",
       "    <tr>\n",
       "      <th>2016</th>\n",
       "      <td>1.099889</td>\n",
       "      <td>2310.043982</td>\n",
       "    </tr>\n",
       "    <tr>\n",
       "      <th>2017</th>\n",
       "      <td>0.846458</td>\n",
       "      <td>4281.698279</td>\n",
       "    </tr>\n",
       "  </tbody>\n",
       "</table>\n",
       "</div>"
      ],
      "text/plain": [
       "       Real GDP        Money\n",
       "1990   0.240720   603.000132\n",
       "1991   1.163337  5176.504912\n",
       "1992   0.584341  8322.466740\n",
       "1993   1.504665  2256.812586\n",
       "1994   0.497861  6820.385581\n",
       "1995   0.451363  2973.262019\n",
       "1996   0.818725  9929.360738\n",
       "1997   5.186995  6833.359886\n",
       "1998   0.367515  8643.686188\n",
       "1999   0.041874  4566.448440\n",
       "2000   2.337100  9773.041316\n",
       "2001   0.050948  4695.333156\n",
       "2002   0.687221  1614.101252\n",
       "2003   0.607433  1154.660510\n",
       "2004   0.115050  6028.214905\n",
       "2005  16.376014  4569.275335\n",
       "2006   2.266383   880.044183\n",
       "2007   1.899324  4017.649846\n",
       "2008   8.229604  3150.086632\n",
       "2009   0.081711  6875.622890\n",
       "2010   7.623886  8044.784043\n",
       "2011   1.869318  9433.769417\n",
       "2012   4.335176  3418.313845\n",
       "2013   0.195643  5873.123796\n",
       "2014   0.677253  1650.952611\n",
       "2015   1.261225  5411.893718\n",
       "2016   1.099889  2310.043982\n",
       "2017   0.846458  4281.698279"
      ]
     },
     "execution_count": 49,
     "metadata": {},
     "output_type": "execute_result"
    }
   ],
   "source": [
    "macro_df[[\"Real GDP\", \"Money\"]]"
   ]
  },
  {
   "cell_type": "code",
   "execution_count": 50,
   "id": "85e5e271",
   "metadata": {},
   "outputs": [
    {
     "data": {
      "text/html": [
       "<div>\n",
       "<style scoped>\n",
       "    .dataframe tbody tr th:only-of-type {\n",
       "        vertical-align: middle;\n",
       "    }\n",
       "\n",
       "    .dataframe tbody tr th {\n",
       "        vertical-align: top;\n",
       "    }\n",
       "\n",
       "    .dataframe thead th {\n",
       "        text-align: right;\n",
       "    }\n",
       "</style>\n",
       "<table border=\"1\" class=\"dataframe\">\n",
       "  <thead>\n",
       "    <tr style=\"text-align: right;\">\n",
       "      <th></th>\n",
       "      <th>Real GDP</th>\n",
       "      <th>Money</th>\n",
       "    </tr>\n",
       "  </thead>\n",
       "  <tbody>\n",
       "    <tr>\n",
       "      <th>1995</th>\n",
       "      <td>0.451363</td>\n",
       "      <td>2973.262019</td>\n",
       "    </tr>\n",
       "    <tr>\n",
       "      <th>1996</th>\n",
       "      <td>0.818725</td>\n",
       "      <td>9929.360738</td>\n",
       "    </tr>\n",
       "    <tr>\n",
       "      <th>1997</th>\n",
       "      <td>5.186995</td>\n",
       "      <td>6833.359886</td>\n",
       "    </tr>\n",
       "    <tr>\n",
       "      <th>1998</th>\n",
       "      <td>0.367515</td>\n",
       "      <td>8643.686188</td>\n",
       "    </tr>\n",
       "    <tr>\n",
       "      <th>1999</th>\n",
       "      <td>0.041874</td>\n",
       "      <td>4566.448440</td>\n",
       "    </tr>\n",
       "    <tr>\n",
       "      <th>2000</th>\n",
       "      <td>2.337100</td>\n",
       "      <td>9773.041316</td>\n",
       "    </tr>\n",
       "  </tbody>\n",
       "</table>\n",
       "</div>"
      ],
      "text/plain": [
       "      Real GDP        Money\n",
       "1995  0.451363  2973.262019\n",
       "1996  0.818725  9929.360738\n",
       "1997  5.186995  6833.359886\n",
       "1998  0.367515  8643.686188\n",
       "1999  0.041874  4566.448440\n",
       "2000  2.337100  9773.041316"
      ]
     },
     "execution_count": 50,
     "metadata": {},
     "output_type": "execute_result"
    }
   ],
   "source": [
    "macro_df.loc[1995:2000, [\"Real GDP\", \"Money\"]]\n",
    "\n",
    "#Calling a subset of rows but only for specific years"
   ]
  },
  {
   "cell_type": "code",
   "execution_count": 51,
   "id": "72ef6663",
   "metadata": {},
   "outputs": [
    {
     "data": {
      "text/plain": [
       "<AxesSubplot:>"
      ]
     },
     "execution_count": 51,
     "metadata": {},
     "output_type": "execute_result"
    },
    {
     "data": {
      "image/png": "[encoded data removed]",
      "text/plain": [
       "<Figure size 432x288 with 1 Axes>"
      ]
     },
     "metadata": {
      "needs_background": "light"
     },
     "output_type": "display_data"
    }
   ],
   "source": [
    "import matplotlib.pyplot as plt\n",
    "%matplotlib inline\n",
    "macro_df.plot.line()"
   ]
  },
  {
   "cell_type": "code",
   "execution_count": 52,
   "id": "e52474fd",
   "metadata": {},
   "outputs": [
    {
     "data": {
      "image/png": "[encoded data removed]",
      "text/plain": [
       "<Figure size 1152x864 with 1 Axes>"
      ]
     },
     "metadata": {
      "needs_background": "light"
     },
     "output_type": "display_data"
    },
    {
     "data": {
      "image/png": "[encoded data removed]",
      "text/plain": [
       "<Figure size 1152x864 with 1 Axes>"
      ]
     },
     "metadata": {
      "needs_background": "light"
     },
     "output_type": "display_data"
    },
    {
     "data": {
      "image/png": "[encoded data removed]",
      "text/plain": [
       "<Figure size 1152x864 with 1 Axes>"
      ]
     },
     "metadata": {
      "needs_background": "light"
     },
     "output_type": "display_data"
    },
    {
     "data": {
      "image/png": "[encoded data removed]",
      "text/plain": [
       "<Figure size 1152x864 with 1 Axes>"
      ]
     },
     "metadata": {
      "needs_background": "light"
     },
     "output_type": "display_data"
    },
    {
     "data": {
      "image/png": "[encoded data removed]",
      "text/plain": [
       "<Figure size 1152x864 with 1 Axes>"
      ]
     },
     "metadata": {
      "needs_background": "light"
     },
     "output_type": "display_data"
    }
   ],
   "source": [
    "for key in macro_df:\n",
    "    # fig, ax = plt.subplots() allows you to adjust the diffrent features of your display box such as display size\n",
    "    fig, ax = plt.subplots(figsize = (16, 12))\n",
    "    macro_df[key].plot.line(ax = ax)\n",
    "    \n",
    "    # We can make the display a scatter plot if we want\n",
    "    macro_df[key].plot.line(ls= \"\", marker = \".\", ax = ax)\n",
    "    \n",
    "    plt.title(key, fontsize = 22)\n",
    "    plt.show()\n",
    "    plt.close()"
   ]
  },
  {
   "cell_type": "code",
   "execution_count": null,
   "id": "7eb72d5b",
   "metadata": {},
   "outputs": [],
   "source": []
  }
 ],
 "metadata": {
  "kernelspec": {
   "display_name": "Python 3",
   "language": "python",
   "name": "python3"
  },
  "language_info": {
   "codemirror_mode": {
    "name": "ipython",
    "version": 3
   },
   "file_extension": ".py",
   "mimetype": "text/x-python",
   "name": "python",
   "nbconvert_exporter": "python",
   "pygments_lexer": "ipython3",
   "version": "3.8.8"
  }
 },
 "nbformat": 4,
 "nbformat_minor": 5
}
