{
 "cells": [
  {
   "cell_type": "markdown",
   "id": "64c23611",
   "metadata": {},
   "source": [
    "# Project 2: Chapter 2 - Working with Lists\n",
    "\n",
    "Lists can hold any kind of object"
   ]
  },
  {
   "cell_type": "code",
   "execution_count": 1,
   "id": "c0fa399f",
   "metadata": {
    "scrolled": true
   },
   "outputs": [
    {
     "name": "stdout",
     "output_type": "stream",
     "text": [
      "[]\n",
      "[2, 4, 6, 8, 10]\n",
      "[2.0, 4.0, 6.0, 8.0, 10.0]\n",
      "['Even Numbers are great', 'No odd numbers']\n",
      "[2, 4.0, 'Is 6.0']\n"
     ]
    }
   ],
   "source": [
    "empty_list = []\n",
    "int_list = [2,4,6,8,10]\n",
    "float_list = [2.0,4.0,6.0,8.0,10.0]\n",
    "string_list = [\"Even Numbers are great\", \"No odd numbers\"]\n",
    "mixed_list = [2,4.0, \"Is 6.0\"]\n",
    "\n",
    "print(empty_list)  \n",
    "print(int_list)  \n",
    "print(float_list)  \n",
    "print(string_list)  \n",
    "print(mixed_list)"
   ]
  },
  {
   "cell_type": "code",
   "execution_count": 2,
   "id": "6c5ec123",
   "metadata": {},
   "outputs": [
    {
     "data": {
      "text/plain": [
       "list"
      ]
     },
     "execution_count": 2,
     "metadata": {},
     "output_type": "execute_result"
    }
   ],
   "source": [
    "type(mixed_list)"
   ]
  },
  {
   "cell_type": "markdown",
   "id": "e748afd1",
   "metadata": {},
   "source": [
    "To access elements in a list, I must call the index which starts from 0 and counts upward with each additional element."
   ]
  },
  {
   "cell_type": "code",
   "execution_count": 3,
   "id": "66f7a340",
   "metadata": {},
   "outputs": [
    {
     "data": {
      "text/plain": [
       "(2, int)"
      ]
     },
     "execution_count": 3,
     "metadata": {},
     "output_type": "execute_result"
    }
   ],
   "source": [
    "mixed_list[0], type(mixed_list[0])"
   ]
  },
  {
   "cell_type": "code",
   "execution_count": 4,
   "id": "cfa81d63",
   "metadata": {},
   "outputs": [
    {
     "data": {
      "text/plain": [
       "(4.0, float)"
      ]
     },
     "execution_count": 4,
     "metadata": {},
     "output_type": "execute_result"
    }
   ],
   "source": [
    "mixed_list[1], type(mixed_list[1])"
   ]
  },
  {
   "cell_type": "code",
   "execution_count": 5,
   "id": "3cafa5ff",
   "metadata": {},
   "outputs": [
    {
     "data": {
      "text/plain": [
       "('Is 6.0', str)"
      ]
     },
     "execution_count": 5,
     "metadata": {},
     "output_type": "execute_result"
    }
   ],
   "source": [
    "mixed_list[2], type(mixed_list[2])"
   ]
  },
  {
   "cell_type": "markdown",
   "id": "3003448e",
   "metadata": {},
   "source": [
    "Another Example"
   ]
  },
  {
   "cell_type": "code",
   "execution_count": 6,
   "id": "66ab5c71",
   "metadata": {},
   "outputs": [
    {
     "data": {
      "text/plain": [
       "(2.0, float)"
      ]
     },
     "execution_count": 6,
     "metadata": {},
     "output_type": "execute_result"
    }
   ],
   "source": [
    "float_list[0], type(float_list[0])"
   ]
  },
  {
   "cell_type": "code",
   "execution_count": 7,
   "id": "77725ea3",
   "metadata": {},
   "outputs": [
    {
     "data": {
      "text/plain": [
       "(4.0, float)"
      ]
     },
     "execution_count": 7,
     "metadata": {},
     "output_type": "execute_result"
    }
   ],
   "source": [
    "float_list[1], type(float_list[1])"
   ]
  },
  {
   "cell_type": "code",
   "execution_count": 8,
   "id": "6b1f0a9e",
   "metadata": {},
   "outputs": [
    {
     "data": {
      "text/plain": [
       "(6.0, float)"
      ]
     },
     "execution_count": 8,
     "metadata": {},
     "output_type": "execute_result"
    }
   ],
   "source": [
    "float_list[2], type(float_list[2])"
   ]
  },
  {
   "cell_type": "code",
   "execution_count": 9,
   "id": "c622e0ac",
   "metadata": {},
   "outputs": [
    {
     "data": {
      "text/plain": [
       "(8.0, float)"
      ]
     },
     "execution_count": 9,
     "metadata": {},
     "output_type": "execute_result"
    }
   ],
   "source": [
    "float_list[3], type(float_list[3])"
   ]
  },
  {
   "cell_type": "markdown",
   "id": "647c0700",
   "metadata": {},
   "source": [
    "# Concatenate lists "
   ]
  },
  {
   "cell_type": "code",
   "execution_count": 10,
   "id": "5b097b79",
   "metadata": {},
   "outputs": [
    {
     "data": {
      "text/plain": [
       "[5, 4, 9, 10, 3, 5]"
      ]
     },
     "execution_count": 10,
     "metadata": {},
     "output_type": "execute_result"
    }
   ],
   "source": [
    "list1 = [5, 4, 9, 10, 3, 5]\n",
    "list2 = [6, 3, 2, 1, 5, 3]\n",
    "\n",
    "join_lists = list1 + list2\n",
    "\n",
    "list1"
   ]
  },
  {
   "cell_type": "code",
   "execution_count": 11,
   "id": "818f31f1",
   "metadata": {},
   "outputs": [
    {
     "data": {
      "text/plain": [
       "[6, 3, 2, 1, 5, 3]"
      ]
     },
     "execution_count": 11,
     "metadata": {},
     "output_type": "execute_result"
    }
   ],
   "source": [
    "list2"
   ]
  },
  {
   "cell_type": "code",
   "execution_count": 12,
   "id": "8e296698",
   "metadata": {},
   "outputs": [
    {
     "data": {
      "text/plain": [
       "[5, 4, 9, 10, 3, 5, 6, 3, 2, 1, 5, 3]"
      ]
     },
     "execution_count": 12,
     "metadata": {},
     "output_type": "execute_result"
    }
   ],
   "source": [
    "join_lists"
   ]
  },
  {
   "cell_type": "markdown",
   "id": "20768f20",
   "metadata": {},
   "source": [
    "Remember this is just like concatenating strings"
   ]
  },
  {
   "cell_type": "code",
   "execution_count": 13,
   "id": "1dc7cf7f",
   "metadata": {},
   "outputs": [
    {
     "data": {
      "text/plain": [
       "'String cheeseAnother string to concatenate with str1'"
      ]
     },
     "execution_count": 13,
     "metadata": {},
     "output_type": "execute_result"
    }
   ],
   "source": [
    "str1 = \"String cheese\"\n",
    "str2 = \"Another string to concatenate with str1\"\n",
    "\n",
    "join_strings = str1 + str2\n",
    "join_strings"
   ]
  },
  {
   "cell_type": "code",
   "execution_count": 14,
   "id": "4001be0e",
   "metadata": {},
   "outputs": [
    {
     "data": {
      "text/plain": [
       "'r'"
      ]
     },
     "execution_count": 14,
     "metadata": {},
     "output_type": "execute_result"
    }
   ],
   "source": [
    "join_strings[2]"
   ]
  },
  {
   "cell_type": "markdown",
   "id": "54cd241c",
   "metadata": {},
   "source": [
    "# List Slices"
   ]
  },
  {
   "cell_type": "markdown",
   "id": "07fa8831",
   "metadata": {},
   "source": [
    "Suppose that I want to call a subset of a list or string. I can do this by using calling lst[start: end]"
   ]
  },
  {
   "cell_type": "code",
   "execution_count": 15,
   "id": "c8345cf5",
   "metadata": {},
   "outputs": [
    {
     "data": {
      "text/plain": [
       "[5, 4, 9, 10, 3, 5, 6, 3, 2, 1, 5, 3]"
      ]
     },
     "execution_count": 15,
     "metadata": {},
     "output_type": "execute_result"
    }
   ],
   "source": [
    "join_lists"
   ]
  },
  {
   "cell_type": "code",
   "execution_count": 16,
   "id": "a662fa34",
   "metadata": {},
   "outputs": [
    {
     "data": {
      "text/plain": [
       "[5, 4, 9, 10, 3]"
      ]
     },
     "execution_count": 16,
     "metadata": {},
     "output_type": "execute_result"
    }
   ],
   "source": [
    "join_lists[:5]"
   ]
  },
  {
   "cell_type": "code",
   "execution_count": 17,
   "id": "673de963",
   "metadata": {},
   "outputs": [
    {
     "data": {
      "text/plain": [
       "[5, 4, 9, 10, 3]"
      ]
     },
     "execution_count": 17,
     "metadata": {},
     "output_type": "execute_result"
    }
   ],
   "source": [
    "join_lists[0:5]"
   ]
  },
  {
   "cell_type": "code",
   "execution_count": 18,
   "id": "366ca076",
   "metadata": {},
   "outputs": [
    {
     "data": {
      "text/plain": [
       "'Strin'"
      ]
     },
     "execution_count": 18,
     "metadata": {},
     "output_type": "execute_result"
    }
   ],
   "source": [
    "join_strings[:5]"
   ]
  },
  {
   "cell_type": "code",
   "execution_count": 19,
   "id": "1fa2d628",
   "metadata": {},
   "outputs": [
    {
     "data": {
      "text/plain": [
       "'Strin'"
      ]
     },
     "execution_count": 19,
     "metadata": {},
     "output_type": "execute_result"
    }
   ],
   "source": [
    "join_strings[0:5]"
   ]
  },
  {
   "cell_type": "code",
   "execution_count": 20,
   "id": "9677eab2",
   "metadata": {},
   "outputs": [
    {
     "data": {
      "text/plain": [
       "'g cheeseAnother string to concatenate with str1'"
      ]
     },
     "execution_count": 20,
     "metadata": {},
     "output_type": "execute_result"
    }
   ],
   "source": [
    "join_strings[5:]"
   ]
  },
  {
   "cell_type": "markdown",
   "id": "03ac4a4c",
   "metadata": {},
   "source": [
    "If you call lst[-1], it will access the last element in the list"
   ]
  },
  {
   "cell_type": "code",
   "execution_count": 21,
   "id": "496540e3",
   "metadata": {},
   "outputs": [
    {
     "data": {
      "text/plain": [
       "(3, '1')"
      ]
     },
     "execution_count": 21,
     "metadata": {},
     "output_type": "execute_result"
    }
   ],
   "source": [
    "join_lists[-1], join_strings[-1]"
   ]
  },
  {
   "cell_type": "markdown",
   "id": "325c7fe2",
   "metadata": {},
   "source": [
    "You can count from the end of the list using the negative sign (-). If you count backwards after the first colon, this will call all except for the last i elements for a command lst[:-i]"
   ]
  },
  {
   "cell_type": "code",
   "execution_count": 22,
   "id": "512aff28",
   "metadata": {},
   "outputs": [
    {
     "data": {
      "text/plain": [
       "([5, 4, 9, 10, 3, 5, 6, 3, 2, 1, 5],\n",
       " 'String cheeseAnother string to concatenate with str')"
      ]
     },
     "execution_count": 22,
     "metadata": {},
     "output_type": "execute_result"
    }
   ],
   "source": [
    "join_lists[:-1], join_strings[:-1]"
   ]
  },
  {
   "cell_type": "code",
   "execution_count": 23,
   "id": "40b967bb",
   "metadata": {},
   "outputs": [
    {
     "data": {
      "text/plain": [
       "([5, 4, 9, 10, 3, 5, 6], 'String cheeseAnother string to concatenate with')"
      ]
     },
     "execution_count": 23,
     "metadata": {},
     "output_type": "execute_result"
    }
   ],
   "source": [
    "join_lists[:-5], join_strings[:-5]"
   ]
  },
  {
   "cell_type": "markdown",
   "id": "e9a6bc4f",
   "metadata": {},
   "source": [
    "## For Loops\n"
   ]
  },
  {
   "cell_type": "code",
   "execution_count": 24,
   "id": "dac9e08c",
   "metadata": {},
   "outputs": [
    {
     "name": "stdout",
     "output_type": "stream",
     "text": [
      "list1 [1, 2, 3, 4, 5]\n",
      "list2 [12, 22, 32, 42, 52]\n",
      "0 1\n",
      "1 2\n",
      "2 3\n",
      "3 4\n",
      "4 5\n",
      "[1, 2, 3, 4, 5]\n",
      "0 12\n",
      "1 22\n",
      "2 32\n",
      "3 42\n",
      "4 52\n",
      "[1, 2, 3, 4, 5, 12, 22, 32, 42, 52] [1, 2, 3, 4, 5, 12, 22, 32, 42, 52]\n",
      "sum_list (append): [13, 24, 35, 46, 57]\n",
      "sum_list (insert): [57, 46, 35, 24, 13]\n"
     ]
    }
   ],
   "source": [
    "list1 = [1,2,3,4,5]\n",
    "list2 = [12,22,32,42,52]\n",
    "\n",
    "print(\"list1\", list1)\n",
    "print(\"list2\", list2)\n",
    "\n",
    "#I'm creating a blank list to use\n",
    "concat_list = []\n",
    "sum_list = []\n",
    "\n",
    "len_list1 = len(list1)\n",
    "len_list2 = len(list2)\n",
    "\n",
    "for i in range(0,len_list1):\n",
    "    concat_list.append(list1[i])\n",
    "    print(i, list1[i])\n",
    "    \n",
    "print(concat_list)\n",
    "\n",
    "for i in range(0, len_list2):\n",
    "    print(i, list2[i])\n",
    "    concat_list.append(list2[i])\n",
    "    \n",
    "print(concat_list, list1 + list2)\n",
    "\n",
    "if len_list1 == len_list2:\n",
    "    for i in range(len_list1):\n",
    "        sum_list.append(list1[i] + list2[i])\n",
    "print(\"sum_list (append):\", sum_list)\n",
    "\n",
    "\n",
    "sum_list = []\n",
    "if len_list1 == len_list2:\n",
    "    for i in range(len_list1):\n",
    "        #lst.insert(index, vaule)\n",
    "        sum_list.insert(0, list1[i] + list2[i])\n",
    "print(\"sum_list (insert):\", sum_list)\n"
   ]
  },
  {
   "cell_type": "code",
   "execution_count": 25,
   "id": "712fa004",
   "metadata": {},
   "outputs": [
    {
     "data": {
      "text/plain": [
       "True"
      ]
     },
     "execution_count": 25,
     "metadata": {},
     "output_type": "execute_result"
    }
   ],
   "source": [
    "1 == 1"
   ]
  },
  {
   "cell_type": "code",
   "execution_count": 26,
   "id": "b3cdd061",
   "metadata": {},
   "outputs": [
    {
     "data": {
      "text/plain": [
       "False"
      ]
     },
     "execution_count": 26,
     "metadata": {},
     "output_type": "execute_result"
    }
   ],
   "source": [
    "1 != 1"
   ]
  },
  {
   "cell_type": "code",
   "execution_count": 27,
   "id": "b0620ec0",
   "metadata": {},
   "outputs": [
    {
     "name": "stdout",
     "output_type": "stream",
     "text": [
      "statement is True\n"
     ]
    }
   ],
   "source": [
    "if 1 == 1:\n",
    "    print(\"statement is\", 1 == 1)"
   ]
  },
  {
   "cell_type": "code",
   "execution_count": 28,
   "id": "161a6822",
   "metadata": {},
   "outputs": [],
   "source": [
    "accounting = 1\n",
    "fun = 2"
   ]
  },
  {
   "cell_type": "code",
   "execution_count": 29,
   "id": "efa2e32d",
   "metadata": {},
   "outputs": [
    {
     "data": {
      "text/plain": [
       "False"
      ]
     },
     "execution_count": 29,
     "metadata": {},
     "output_type": "execute_result"
    }
   ],
   "source": [
    "accounting == fun"
   ]
  },
  {
   "cell_type": "code",
   "execution_count": 30,
   "id": "1f169052",
   "metadata": {},
   "outputs": [
    {
     "name": "stdout",
     "output_type": "stream",
     "text": [
      "i == 0 i < 5 True\n",
      "i == 1 i < 5 True\n",
      "i == 2 i < 5 True\n",
      "i == 3 i < 5 True\n",
      "i == 4 i < 5 True\n",
      "i == 5 i < 5 False\n",
      "i == 6 i < 5 False\n",
      "i == 7 i < 5 False\n",
      "i == 8 i < 5 False\n",
      "i == 9 i < 5 False\n"
     ]
    }
   ],
   "source": [
    "for i in range(10):\n",
    "    print(\"i ==\", i, \"i < 5\", i < 5)"
   ]
  },
  {
   "cell_type": "code",
   "execution_count": 31,
   "id": "5269752c",
   "metadata": {},
   "outputs": [
    {
     "name": "stdout",
     "output_type": "stream",
     "text": [
      "[5, 4, 8, 0, 3, 5]\n",
      "['red', 'blue', 'orange', 'white', 'grey', 'black']\n"
     ]
    },
    {
     "data": {
      "text/plain": [
       "([8, 5, 5, 4, 3, 0], ['black', 'grey', 'red'])"
      ]
     },
     "execution_count": 31,
     "metadata": {},
     "output_type": "execute_result"
    }
   ],
   "source": [
    "list1 = [5, \n",
    "         4, \n",
    "         8,\n",
    "         0,\n",
    "         3,\n",
    "         5]\n",
    "        \n",
    "list2 = [\"red\",\n",
    "        \"blue\",\n",
    "        \"orange\",\n",
    "        \"white\",\n",
    "        \"grey\",\n",
    "        \"black\"]\n",
    "\n",
    "print(list1)\n",
    "print(list2)\n",
    "\n",
    "sorted_list1 = sorted(list1) #Can also run in reverse\n",
    "sorted_list2 = sorted(list2)\n",
    "\n",
    "sorted_list1[::-1], sorted_list2[::2]"
   ]
  },
  {
   "cell_type": "code",
   "execution_count": 32,
   "id": "d4f43401",
   "metadata": {},
   "outputs": [
    {
     "name": "stdout",
     "output_type": "stream",
     "text": [
      "TypeError: unorderable types: str < int, what are you thinking?\n",
      "['21', '22', '23', '24', '25']\n",
      "[21, 22, 23, 24, 25]\n"
     ]
    },
    {
     "data": {
      "text/plain": [
       "(['21', '22', '23', '24', '25'], [21, 22, 23, 24, 25])"
      ]
     },
     "execution_count": 32,
     "metadata": {},
     "output_type": "execute_result"
    }
   ],
   "source": [
    "list3 = [\"21\", 22, \"23\", 24, \"25\"]\n",
    "try:\n",
    "    sorted_list3 = sorted(list3)\n",
    "except:\n",
    "    print(\"TypeError: unorderable types: str < int, what are you thinking?\")\n",
    "\n",
    "# Generator function creates list using for loop\n",
    "# Within the list created\n",
    "alpha_list3 = [str(val) for val in list3]\n",
    "\n",
    "num_list3 = []\n",
    "for val in list3:\n",
    "    num_list3.append(int(val))\n",
    "\n",
    "print(alpha_list3) \n",
    "print(num_list3)\n",
    "sorted(alpha_list3), sorted(num_list3)"
   ]
  },
  {
   "cell_type": "markdown",
   "id": "17d98858",
   "metadata": {},
   "source": [
    "I can nest loops, meaning I can put a loop wintin another loop. It's loops all the way down."
   ]
  },
  {
   "cell_type": "code",
   "execution_count": 33,
   "id": "52f01480",
   "metadata": {},
   "outputs": [
    {
     "name": "stdout",
     "output_type": "stream",
     "text": [
      "i j\n",
      "0 0\n",
      "0 1\n",
      "0 2\n",
      "1 0\n",
      "1 1\n",
      "1 2\n",
      "2 0\n",
      "2 1\n",
      "2 2\n"
     ]
    }
   ],
   "source": [
    "print(\"i\", \"j\")\n",
    "for i in range(3):\n",
    "    for j in range(3):\n",
    "        print(i, j)"
   ]
  },
  {
   "cell_type": "code",
   "execution_count": 34,
   "id": "ac1611e7",
   "metadata": {},
   "outputs": [
    {
     "name": "stdout",
     "output_type": "stream",
     "text": [
      "i j\n",
      "0 0\n",
      "0 1\n",
      "0 2\n",
      "0 3\n",
      "0 4\n",
      "1 0\n",
      "1 1\n",
      "1 2\n",
      "1 3\n",
      "1 4\n",
      "2 0\n",
      "2 1\n",
      "2 2\n",
      "2 3\n",
      "2 4\n"
     ]
    }
   ],
   "source": [
    "print(\"i\", \"j\")\n",
    "for i in range(3):\n",
    "    for j in range(5):\n",
    "        print(i, j)"
   ]
  },
  {
   "cell_type": "markdown",
   "id": "63ee3e81",
   "metadata": {},
   "source": [
    "This will be useful for making plots in graphs"
   ]
  },
  {
   "cell_type": "code",
   "execution_count": 35,
   "id": "6db2cd48",
   "metadata": {},
   "outputs": [
    {
     "name": "stdout",
     "output_type": "stream",
     "text": [
      "i j k\n",
      "0 0 0\n",
      "0 0 1\n",
      "0 0 2\n",
      "0 0 3\n",
      "0 1 0\n",
      "0 1 1\n",
      "0 1 2\n",
      "0 1 3\n",
      "0 2 0\n",
      "0 2 1\n",
      "0 2 2\n",
      "0 2 3\n",
      "0 3 0\n",
      "0 3 1\n",
      "0 3 2\n",
      "0 3 3\n",
      "0 4 0\n",
      "0 4 1\n",
      "0 4 2\n",
      "0 4 3\n",
      "1 0 0\n",
      "1 0 1\n",
      "1 0 2\n",
      "1 0 3\n",
      "1 1 0\n",
      "1 1 1\n",
      "1 1 2\n",
      "1 1 3\n",
      "1 2 0\n",
      "1 2 1\n",
      "1 2 2\n",
      "1 2 3\n",
      "1 3 0\n",
      "1 3 1\n",
      "1 3 2\n",
      "1 3 3\n",
      "1 4 0\n",
      "1 4 1\n",
      "1 4 2\n",
      "1 4 3\n",
      "2 0 0\n",
      "2 0 1\n",
      "2 0 2\n",
      "2 0 3\n",
      "2 1 0\n",
      "2 1 1\n",
      "2 1 2\n",
      "2 1 3\n",
      "2 2 0\n",
      "2 2 1\n",
      "2 2 2\n",
      "2 2 3\n",
      "2 3 0\n",
      "2 3 1\n",
      "2 3 2\n",
      "2 3 3\n",
      "2 4 0\n",
      "2 4 1\n",
      "2 4 2\n",
      "2 4 3\n"
     ]
    }
   ],
   "source": [
    "print(\"i\", \"j\", \"k\")\n",
    "for i in range(3):\n",
    "    for j in range(5):\n",
    "        for k in range(4):\n",
    "            print(i, j, k)"
   ]
  },
  {
   "cell_type": "code",
   "execution_count": null,
   "id": "397a66ab",
   "metadata": {},
   "outputs": [],
   "source": []
  }
 ],
 "metadata": {
  "kernelspec": {
   "display_name": "Python 3",
   "language": "python",
   "name": "python3"
  },
  "language_info": {
   "codemirror_mode": {
    "name": "ipython",
    "version": 3
   },
   "file_extension": ".py",
   "mimetype": "text/x-python",
   "name": "python",
   "nbconvert_exporter": "python",
   "pygments_lexer": "ipython3",
   "version": "3.8.8"
  }
 },
 "nbformat": 4,
 "nbformat_minor": 5
}
