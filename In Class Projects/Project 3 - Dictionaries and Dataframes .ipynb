{
 "cells": [
  {
   "cell_type": "markdown",
   "id": "000d2be0",
   "metadata": {},
   "source": [
    "# Dictionaries and Dataframes"
   ]
  },
  {
   "cell_type": "markdown",
   "id": "6fd3a92e",
   "metadata": {},
   "source": [
    "This in class project is going to build dictionaries. Dictionaries are datastructures that do not assume an index value for the data stored in the structure."
   ]
  },
  {
   "cell_type": "markdown",
   "id": "74a18339",
   "metadata": {},
   "source": [
    "Dicitionaries take the general form \n",
    "    \n",
    "    my_dictionary = {key:obj}\n",
    "    \n",
    "To call the object that is linked to the key.\n",
    "\n",
    "    my_dictionary[key] will output the object, obj."
   ]
  },
  {
   "cell_type": "code",
   "execution_count": 1,
   "id": "a4040b62",
   "metadata": {},
   "outputs": [
    {
     "data": {
      "text/plain": [
       "{}"
      ]
     },
     "execution_count": 1,
     "metadata": {},
     "output_type": "execute_result"
    }
   ],
   "source": [
    "dct = {}\n",
    "dct"
   ]
  },
  {
   "cell_type": "code",
   "execution_count": 2,
   "id": "6f08cf67",
   "metadata": {},
   "outputs": [
    {
     "data": {
      "text/plain": [
       "{'sprint': 'to move really really fast',\n",
       " 'jog': 'to not move really really fast'}"
      ]
     },
     "execution_count": 2,
     "metadata": {},
     "output_type": "execute_result"
    }
   ],
   "source": [
    "dct = {\"sprint\":\"to move really really fast\",\n",
    "           \"jog\":\"to not move really really fast\"}\n",
    "\n",
    "dct"
   ]
  },
  {
   "cell_type": "code",
   "execution_count": 3,
   "id": "20113a16",
   "metadata": {},
   "outputs": [
    {
     "data": {
      "text/plain": [
       "{'sprint': {}, 'jog': {}}"
      ]
     },
     "execution_count": 3,
     "metadata": {},
     "output_type": "execute_result"
    }
   ],
   "source": [
    "dct = {\"sprint\":{},\n",
    "      \"jog\":{}}\n",
    "\n",
    "dct"
   ]
  },
  {
   "cell_type": "code",
   "execution_count": 4,
   "id": "766e9149",
   "metadata": {},
   "outputs": [
    {
     "data": {
      "text/plain": [
       "{'sprint': {'verb': 'to move really really fast',\n",
       "  'noun': 'a period of time while one was sprinting'},\n",
       " 'jog': {'verb': 'to not move really really fast',\n",
       "  'noun': 'a period of time while one was jogging'}}"
      ]
     },
     "execution_count": 4,
     "metadata": {},
     "output_type": "execute_result"
    }
   ],
   "source": [
    "dct = {\"sprint\":{\n",
    "         \"verb\":\"to move really really fast\", \n",
    "         \"noun\":\"a period of time while one was sprinting\"},\n",
    "            \"jog\":{\n",
    "               \"verb\":\"to not move really really fast\",\n",
    "                \"noun\":\"a period of time while one was jogging\"}\n",
    "      }\n",
    "dct"
   ]
  },
  {
   "cell_type": "code",
   "execution_count": 5,
   "id": "cfcc8043",
   "metadata": {},
   "outputs": [],
   "source": [
    "import pandas as pd\n",
    "df = pd.DataFrame(dct)\n",
    "\n",
    "#(df =) is saving our Dataframe as a variable \"df\" which we can call at anytime"
   ]
  },
  {
   "cell_type": "code",
   "execution_count": 6,
   "id": "f3cea38d",
   "metadata": {},
   "outputs": [
    {
     "data": {
      "text/plain": [
       "{'Caden': {'Age': 19, 'Intresting Fact': 'Played hockey'},\n",
       " 'Jacob P': {'Age': 21,\n",
       "  'Intresting Fact': 'Dr. Caton thought my last name was Keterson'},\n",
       " 'Finnian': {'Age': 21, 'Intresting Fact': 'Wrestled in highschool'},\n",
       " 'Genesis': {'Age': 20, 'Intresting Fact': 'Tore both ACLs'},\n",
       " 'Sam': {'Age': 23, 'Intresting Fact': 'Favorite color is beige'},\n",
       " 'Proma': {'Age': 23,\n",
       "  'Intresting Fact': 'Learned classical dancing for 10 years'},\n",
       " 'Zach': {'Age': 20,\n",
       "  'Intresting Fact': 'On the track and field team for long-distance'},\n",
       " 'Jacob R': {'Age': 20, 'Intresting Fact': 'Plays classic rock on the guitar'},\n",
       " 'Brandon': {'Age': 23,\n",
       "  'Intresting Fact': 'Used to play baseball in highschool and ametuer league.'},\n",
       " 'Gabe': {'Age': 23,\n",
       "  'Intresting Fact': 'A double major in MIS and Accounting for undergrad'},\n",
       " 'Drew': {'Age': 49,\n",
       "  'Intresting Fact': 'Was in the Air Force and freed Keiko (free willy)'},\n",
       " 'Isaac': {'Age': 21,\n",
       "  'Intresting Fact': 'Traveling to Europe in the summer of 2022'},\n",
       " 'Kodjo': {'Age': 30, 'Intresting Fact': 'Wife is a soldier'}}"
      ]
     },
     "execution_count": 6,
     "metadata": {},
     "output_type": "execute_result"
    }
   ],
   "source": [
    "dct = {\"Caden\":{\"Age\":19,\n",
    "               \"Intresting Fact\":\"Played hockey\"},\n",
    "      \"Jacob P\":{\"Age\":21,\n",
    "                \"Intresting Fact\": \"Dr. Caton thought my last name was Keterson\"},\n",
    "      \"Finnian\":{\"Age\":21,\n",
    "                \"Intresting Fact\":\"Wrestled in highschool\"},\n",
    "      \"Genesis\":{\"Age\":20,\n",
    "                \"Intresting Fact\":\"Tore both ACLs\"},\n",
    "      \"Sam\":{\"Age\":23,\n",
    "                \"Intresting Fact\":\"Favorite color is beige\"},\n",
    "      \"Proma\":{\"Age\":23,\n",
    "                \"Intresting Fact\":\"Learned classical dancing for 10 years\"},\n",
    "      \"Zach\":{\"Age\":20,\n",
    "                \"Intresting Fact\":\"On the track and field team for long-distance\"},\n",
    "      \"Jacob R\":{\"Age\":20,\n",
    "                \"Intresting Fact\":\"Plays classic rock on the guitar\"},\n",
    "      \"Brandon\":{\"Age\":23,\n",
    "                \"Intresting Fact\":\"Used to play baseball in highschool and ametuer league.\"},\n",
    "      \"Gabe\":{\"Age\":23,\n",
    "                \"Intresting Fact\":\"A double major in MIS and Accounting for undergrad\"},\n",
    "      \"Drew\":{\"Age\":49,\n",
    "                \"Intresting Fact\":\"Was in the Air Force and freed Keiko (free willy)\"},\n",
    "      \"Isaac\":{\"Age\":21,\n",
    "                \"Intresting Fact\":\"Traveling to Europe in the summer of 2022\"},\n",
    "       \"Kodjo\":{\"Age\":30,\n",
    "                \"Intresting Fact\":\"Wife is a soldier\"}}\n",
    "dct"
   ]
  },
  {
   "cell_type": "code",
   "execution_count": 7,
   "id": "d2e4b9d0",
   "metadata": {},
   "outputs": [
    {
     "data": {
      "text/html": [
       "<div>\n",
       "<style scoped>\n",
       "    .dataframe tbody tr th:only-of-type {\n",
       "        vertical-align: middle;\n",
       "    }\n",
       "\n",
       "    .dataframe tbody tr th {\n",
       "        vertical-align: top;\n",
       "    }\n",
       "\n",
       "    .dataframe thead th {\n",
       "        text-align: right;\n",
       "    }\n",
       "</style>\n",
       "<table border=\"1\" class=\"dataframe\">\n",
       "  <thead>\n",
       "    <tr style=\"text-align: right;\">\n",
       "      <th></th>\n",
       "      <th>Age</th>\n",
       "      <th>Intresting Fact</th>\n",
       "    </tr>\n",
       "  </thead>\n",
       "  <tbody>\n",
       "    <tr>\n",
       "      <th>Caden</th>\n",
       "      <td>19</td>\n",
       "      <td>Played hockey</td>\n",
       "    </tr>\n",
       "    <tr>\n",
       "      <th>Jacob P</th>\n",
       "      <td>21</td>\n",
       "      <td>Dr. Caton thought my last name was Keterson</td>\n",
       "    </tr>\n",
       "    <tr>\n",
       "      <th>Finnian</th>\n",
       "      <td>21</td>\n",
       "      <td>Wrestled in highschool</td>\n",
       "    </tr>\n",
       "    <tr>\n",
       "      <th>Genesis</th>\n",
       "      <td>20</td>\n",
       "      <td>Tore both ACLs</td>\n",
       "    </tr>\n",
       "    <tr>\n",
       "      <th>Sam</th>\n",
       "      <td>23</td>\n",
       "      <td>Favorite color is beige</td>\n",
       "    </tr>\n",
       "    <tr>\n",
       "      <th>Proma</th>\n",
       "      <td>23</td>\n",
       "      <td>Learned classical dancing for 10 years</td>\n",
       "    </tr>\n",
       "    <tr>\n",
       "      <th>Zach</th>\n",
       "      <td>20</td>\n",
       "      <td>On the track and field team for long-distance</td>\n",
       "    </tr>\n",
       "    <tr>\n",
       "      <th>Jacob R</th>\n",
       "      <td>20</td>\n",
       "      <td>Plays classic rock on the guitar</td>\n",
       "    </tr>\n",
       "    <tr>\n",
       "      <th>Brandon</th>\n",
       "      <td>23</td>\n",
       "      <td>Used to play baseball in highschool and ametue...</td>\n",
       "    </tr>\n",
       "    <tr>\n",
       "      <th>Gabe</th>\n",
       "      <td>23</td>\n",
       "      <td>A double major in MIS and Accounting for under...</td>\n",
       "    </tr>\n",
       "    <tr>\n",
       "      <th>Drew</th>\n",
       "      <td>49</td>\n",
       "      <td>Was in the Air Force and freed Keiko (free willy)</td>\n",
       "    </tr>\n",
       "    <tr>\n",
       "      <th>Isaac</th>\n",
       "      <td>21</td>\n",
       "      <td>Traveling to Europe in the summer of 2022</td>\n",
       "    </tr>\n",
       "    <tr>\n",
       "      <th>Kodjo</th>\n",
       "      <td>30</td>\n",
       "      <td>Wife is a soldier</td>\n",
       "    </tr>\n",
       "  </tbody>\n",
       "</table>\n",
       "</div>"
      ],
      "text/plain": [
       "        Age                                    Intresting Fact\n",
       "Caden    19                                      Played hockey\n",
       "Jacob P  21        Dr. Caton thought my last name was Keterson\n",
       "Finnian  21                             Wrestled in highschool\n",
       "Genesis  20                                     Tore both ACLs\n",
       "Sam      23                            Favorite color is beige\n",
       "Proma    23             Learned classical dancing for 10 years\n",
       "Zach     20      On the track and field team for long-distance\n",
       "Jacob R  20                   Plays classic rock on the guitar\n",
       "Brandon  23  Used to play baseball in highschool and ametue...\n",
       "Gabe     23  A double major in MIS and Accounting for under...\n",
       "Drew     49  Was in the Air Force and freed Keiko (free willy)\n",
       "Isaac    21          Traveling to Europe in the summer of 2022\n",
       "Kodjo    30                                  Wife is a soldier"
      ]
     },
     "execution_count": 7,
     "metadata": {},
     "output_type": "execute_result"
    }
   ],
   "source": [
    "class_df = pd.DataFrame(dct).T\n",
    "class_df"
   ]
  },
  {
   "cell_type": "code",
   "execution_count": 8,
   "id": "86a45595",
   "metadata": {},
   "outputs": [
    {
     "data": {
      "text/plain": [
       "Index(['Caden', 'Jacob P', 'Finnian', 'Genesis', 'Sam', 'Proma', 'Zach',\n",
       "       'Jacob R', 'Brandon', 'Gabe', 'Drew', 'Isaac', 'Kodjo'],\n",
       "      dtype='object')"
      ]
     },
     "execution_count": 8,
     "metadata": {},
     "output_type": "execute_result"
    }
   ],
   "source": [
    "class_df.index"
   ]
  },
  {
   "cell_type": "code",
   "execution_count": 9,
   "id": "897119d4",
   "metadata": {},
   "outputs": [
    {
     "data": {
      "text/plain": [
       "Caden      19\n",
       "Jacob P    21\n",
       "Finnian    21\n",
       "Genesis    20\n",
       "Sam        23\n",
       "Proma      23\n",
       "Zach       20\n",
       "Jacob R    20\n",
       "Brandon    23\n",
       "Gabe       23\n",
       "Drew       49\n",
       "Isaac      21\n",
       "Kodjo      30\n",
       "Name: Age, dtype: object"
      ]
     },
     "execution_count": 9,
     "metadata": {},
     "output_type": "execute_result"
    }
   ],
   "source": [
    "class_df[\"Age\"]"
   ]
  },
  {
   "cell_type": "code",
   "execution_count": 10,
   "id": "83af3d31",
   "metadata": {},
   "outputs": [
    {
     "data": {
      "text/plain": [
       "Caden                                          Played hockey\n",
       "Jacob P          Dr. Caton thought my last name was Keterson\n",
       "Finnian                               Wrestled in highschool\n",
       "Genesis                                       Tore both ACLs\n",
       "Sam                                  Favorite color is beige\n",
       "Proma                 Learned classical dancing for 10 years\n",
       "Zach           On the track and field team for long-distance\n",
       "Jacob R                     Plays classic rock on the guitar\n",
       "Brandon    Used to play baseball in highschool and ametue...\n",
       "Gabe       A double major in MIS and Accounting for under...\n",
       "Drew       Was in the Air Force and freed Keiko (free willy)\n",
       "Isaac              Traveling to Europe in the summer of 2022\n",
       "Kodjo                                      Wife is a soldier\n",
       "Name: Intresting Fact, dtype: object"
      ]
     },
     "execution_count": 10,
     "metadata": {},
     "output_type": "execute_result"
    }
   ],
   "source": [
    "class_df[\"Intresting Fact\"]"
   ]
  },
  {
   "cell_type": "code",
   "execution_count": 11,
   "id": "63413b55",
   "metadata": {},
   "outputs": [
    {
     "data": {
      "text/plain": [
       "{'Caden': {'Age': 19, 'Intresting Fact': 'Played hockey'},\n",
       " 'Jacob P': {'Age': 21,\n",
       "  'Intresting Fact': 'Dr. Caton thought my last name was Keterson'},\n",
       " 'Finnian': {'Age': 21, 'Intresting Fact': 'Wrestled in highschool'},\n",
       " 'Genesis': {'Age': 20, 'Intresting Fact': 'Tore both ACLs'},\n",
       " 'Sam': {'Age': 23, 'Intresting Fact': 'Favorite color is beige'},\n",
       " 'Proma': {'Age': 23,\n",
       "  'Intresting Fact': 'Learned classical dancing for 10 years'},\n",
       " 'Zach': {'Age': 20,\n",
       "  'Intresting Fact': 'On the track and field team for long-distance'},\n",
       " 'Jacob R': {'Age': 20, 'Intresting Fact': 'Plays classic rock on the guitar'},\n",
       " 'Brandon': {'Age': 23,\n",
       "  'Intresting Fact': 'Used to play baseball in highschool and ametuer league.'},\n",
       " 'Gabe': {'Age': 23,\n",
       "  'Intresting Fact': 'A double major in MIS and Accounting for undergrad'},\n",
       " 'Drew': {'Age': 49,\n",
       "  'Intresting Fact': 'Was in the Air Force and freed Keiko (free willy)'},\n",
       " 'Isaac': {'Age': 21,\n",
       "  'Intresting Fact': 'Traveling to Europe in the summer of 2022'},\n",
       " 'Kodjo': {'Age': 30, 'Intresting Fact': 'Wife is a soldier'},\n",
       " 'Dr. Caton': {'Age': None, 'Intresting Fact': 'Used to ride dirtbikes'}}"
      ]
     },
     "execution_count": 11,
     "metadata": {},
     "output_type": "execute_result"
    }
   ],
   "source": [
    "dct[\"Dr. Caton\"] = {}\n",
    "dct[\"Dr. Caton\"] [\"Age\"] = None\n",
    "dct[\"Dr. Caton\"] [\"Intresting Fact\"] = \"Used to ride dirtbikes\"\n",
    "\n",
    "dct"
   ]
  },
  {
   "cell_type": "code",
   "execution_count": 12,
   "id": "dbfc619b",
   "metadata": {},
   "outputs": [],
   "source": [
    " dct[\"Joe Biden\"] = {\"Age\":78,\n",
    "                     \"Intresting Fact\":\"PLays Mario Kart with his grandchildren\"}\n",
    "    \n",
    "#Just add another (,\"Column Name\":\"Column data\") to add another Column"
   ]
  },
  {
   "cell_type": "code",
   "execution_count": 13,
   "id": "88a832a2",
   "metadata": {},
   "outputs": [
    {
     "data": {
      "text/html": [
       "<div>\n",
       "<style scoped>\n",
       "    .dataframe tbody tr th:only-of-type {\n",
       "        vertical-align: middle;\n",
       "    }\n",
       "\n",
       "    .dataframe tbody tr th {\n",
       "        vertical-align: top;\n",
       "    }\n",
       "\n",
       "    .dataframe thead th {\n",
       "        text-align: right;\n",
       "    }\n",
       "</style>\n",
       "<table border=\"1\" class=\"dataframe\">\n",
       "  <thead>\n",
       "    <tr style=\"text-align: right;\">\n",
       "      <th></th>\n",
       "      <th>Age</th>\n",
       "      <th>Intresting Fact</th>\n",
       "    </tr>\n",
       "  </thead>\n",
       "  <tbody>\n",
       "    <tr>\n",
       "      <th>Caden</th>\n",
       "      <td>19</td>\n",
       "      <td>Played hockey</td>\n",
       "    </tr>\n",
       "    <tr>\n",
       "      <th>Jacob P</th>\n",
       "      <td>21</td>\n",
       "      <td>Dr. Caton thought my last name was Keterson</td>\n",
       "    </tr>\n",
       "    <tr>\n",
       "      <th>Finnian</th>\n",
       "      <td>21</td>\n",
       "      <td>Wrestled in highschool</td>\n",
       "    </tr>\n",
       "    <tr>\n",
       "      <th>Genesis</th>\n",
       "      <td>20</td>\n",
       "      <td>Tore both ACLs</td>\n",
       "    </tr>\n",
       "    <tr>\n",
       "      <th>Sam</th>\n",
       "      <td>23</td>\n",
       "      <td>Favorite color is beige</td>\n",
       "    </tr>\n",
       "    <tr>\n",
       "      <th>Proma</th>\n",
       "      <td>23</td>\n",
       "      <td>Learned classical dancing for 10 years</td>\n",
       "    </tr>\n",
       "    <tr>\n",
       "      <th>Zach</th>\n",
       "      <td>20</td>\n",
       "      <td>On the track and field team for long-distance</td>\n",
       "    </tr>\n",
       "    <tr>\n",
       "      <th>Jacob R</th>\n",
       "      <td>20</td>\n",
       "      <td>Plays classic rock on the guitar</td>\n",
       "    </tr>\n",
       "    <tr>\n",
       "      <th>Brandon</th>\n",
       "      <td>23</td>\n",
       "      <td>Used to play baseball in highschool and ametue...</td>\n",
       "    </tr>\n",
       "    <tr>\n",
       "      <th>Gabe</th>\n",
       "      <td>23</td>\n",
       "      <td>A double major in MIS and Accounting for under...</td>\n",
       "    </tr>\n",
       "    <tr>\n",
       "      <th>Drew</th>\n",
       "      <td>49</td>\n",
       "      <td>Was in the Air Force and freed Keiko (free willy)</td>\n",
       "    </tr>\n",
       "    <tr>\n",
       "      <th>Isaac</th>\n",
       "      <td>21</td>\n",
       "      <td>Traveling to Europe in the summer of 2022</td>\n",
       "    </tr>\n",
       "    <tr>\n",
       "      <th>Kodjo</th>\n",
       "      <td>30</td>\n",
       "      <td>Wife is a soldier</td>\n",
       "    </tr>\n",
       "    <tr>\n",
       "      <th>Dr. Caton</th>\n",
       "      <td>None</td>\n",
       "      <td>Used to ride dirtbikes</td>\n",
       "    </tr>\n",
       "    <tr>\n",
       "      <th>Joe Biden</th>\n",
       "      <td>78</td>\n",
       "      <td>PLays Mario Kart with his grandchildren</td>\n",
       "    </tr>\n",
       "  </tbody>\n",
       "</table>\n",
       "</div>"
      ],
      "text/plain": [
       "            Age                                    Intresting Fact\n",
       "Caden        19                                      Played hockey\n",
       "Jacob P      21        Dr. Caton thought my last name was Keterson\n",
       "Finnian      21                             Wrestled in highschool\n",
       "Genesis      20                                     Tore both ACLs\n",
       "Sam          23                            Favorite color is beige\n",
       "Proma        23             Learned classical dancing for 10 years\n",
       "Zach         20      On the track and field team for long-distance\n",
       "Jacob R      20                   Plays classic rock on the guitar\n",
       "Brandon      23  Used to play baseball in highschool and ametue...\n",
       "Gabe         23  A double major in MIS and Accounting for under...\n",
       "Drew         49  Was in the Air Force and freed Keiko (free willy)\n",
       "Isaac        21          Traveling to Europe in the summer of 2022\n",
       "Kodjo        30                                  Wife is a soldier\n",
       "Dr. Caton  None                             Used to ride dirtbikes\n",
       "Joe Biden    78            PLays Mario Kart with his grandchildren"
      ]
     },
     "execution_count": 13,
     "metadata": {},
     "output_type": "execute_result"
    }
   ],
   "source": [
    "class_df = pd.DataFrame(dct).T\n",
    "class_df"
   ]
  },
  {
   "cell_type": "code",
   "execution_count": 14,
   "id": "8903e14c",
   "metadata": {},
   "outputs": [
    {
     "data": {
      "text/plain": [
       "Age                object\n",
       "Intresting Fact    object\n",
       "dtype: object"
      ]
     },
     "execution_count": 14,
     "metadata": {},
     "output_type": "execute_result"
    }
   ],
   "source": [
    "class_df.dtypes"
   ]
  },
  {
   "cell_type": "code",
   "execution_count": 15,
   "id": "2d35ab6d",
   "metadata": {},
   "outputs": [
    {
     "data": {
      "text/plain": [
       "{'William Nganje': {'Website': 'https://www.ndsu.edu/agecon/faculty/william_nganje/#c622350',\n",
       "  'Areas of Specialization': 'Risk management; financial analysis; economics of obesity, food safety and food terrorism; experimental economics; and consumer choice theory',\n",
       "  'Bio': 'NA'},\n",
       " 'David Bullock': {'Website': 'https://www.ndsu.edu/agecon/faculty/bullock/#c622728',\n",
       "  'Areas of Specialization': 'futures and options markets, over-the-counter derivatives, trading, risk management, agrifinance, Monte Carlo simulation, and Big Data',\n",
       "  'Bio': 'Dr. David W. Bullock is a Research Associate Professor affiliated with the Center for Trading and Risk at NDSU.  His research interests include futures and options markets, over-the-counter derivatives, trading, risk management, agrifinance, Monte Carlo simulation, and Big Data applications in agriculture.  His academic research in option portfolio theory has been published in both the Journal of Economics and Business and the International Review of Economics and Finance.  Additionally, he was the primary contributor behind the AgriBank Insights publication series which won a National AgriMarketing Association (NAMA) award for the best company publication in 2016. Before coming to NDSU in January 2018, Dr. Bullock held numerous positions for over 25 years in the government and private sectors including the Senior Economist at AgriBank FCB – the regional Farm Credit System funding bank for the Upper Midwest region, Director of Research and Senior Foods Economist at Fortune 500 commodity risk management firm INTL FCStone Inc., the Senior Dairy Analyst at Informa Economics, a Risk Management Specialist with the Minnesota Department of Agriculture, and the Senior Economist at the Minneapolis Grain Exchange. David began his academic career as an Assistant Professor and Extension Marketing Economist at Montana State University after graduating from Iowa State University with a Ph.D. in agricultural economics with fields in agricultural price analysis and econometrics in 1989.  Prior to entering ISU, he received bachelor’s (1982) and master’s (1984) degrees in agricultural economics from Northwest Missouri State University. Dr. Bullock is originally from the small northwestern Missouri farming community of Lathrop which is located 40 miles north of the Kansas City metropolitan area.  While in high school, he served as a regional state Vice-President in the Future Farmers of America (FFA) during his senior year.'},\n",
       " 'James Caton': {'Website': 'https://www.ndsu.edu/centers/pcpe/about/directory/james_caton/',\n",
       "  'Areas of Specialization': 'Entrepreneurship, Institutions, Macroeconomics, Computation',\n",
       "  'Bio': \"James Caton is a faculty fellow at the NDSU Center for the Study of Public Choice and Private Enterprise (PCPE) and an assistant professor in the NDSU Department of Agribusiness and Applied Economics. He teaches undergraduate courses in the areas of macroeconomics, international trade, and computation. He specializes in research related to entrepreneurship, agent-based computational economics, market process theory, and monetary economics. His research has been published in the Southern Economic Journal, Erasmus Journal for Philosophy and Economics, Journal of Entrepreneurship and Public Policy and other academic publications. He co-edited Macroeconomics, a two volume set of essays and primary sources that represent the core of macroeconomic thought. He is also a regular contributor to the American Institute for Economic Research's Sound Money Project, which conducts research and promotes awareness about monetary stability and financial privacy. He resides in Fargo with his wife, Ingrid, and their children.\"},\n",
       " 'David Englund': {'Website': 'https://www.ndsu.edu/agecon/faculty/englund/#c622903',\n",
       "  'Areas of Specialization': 'Teaches Economic Principles, Led NDSU NAMA to National Champions',\n",
       "  'Bio': 'David Englund is a lecturer in the department.  He came to the department with 16 years of teaching experience, having taught Principles of Microeconomics, Principles of Macroeconomics, Money and Banking, Consumer Behavior, Selected Topics in Business, and several other classes.  He also had 10 years’ experience advising student NAMA chapters, having been awarded the Outstanding Advisor of the Year for a Developing Chapter in 2002, and the Outstanding Advisor of the Year award in 2009.\\nDavid primarily teaches Survey of Economics, Principles of Microeconomics, Skills for Academic Success, Agricultural Marketing, and NAMA (co-teaches).  He joined the NAMA team in the 2014-2015 school year as a co-advisor and helped coach the student team to a 3rd place finish in the national student marketing plan competition at the national conference.\\nSome of David’s outside interests are jogging, photography, and writing fiction novels.  His latest release, Camouflaged Encounters has received positive reviews.'},\n",
       " 'Erik Hanson': {'Website': 'https://www.ndsu.edu/agecon/faculty/hanson/#c622905',\n",
       "  'Areas of Specialization': 'Ag Management, Ag Finance',\n",
       "  'Bio': 'Erik Hanson is an Assistant Professor in the Department of Agricultural and Applied Economics. He teaches courses on agribusiness management and agricultural finance. Erik completed his Ph.D. at the University of Minnesota in 2016. Prior to that, Erik completed a master’s degree at the University of Illinois (2013) and a bachelor’s degree at Minnesota State University Moorhead (2011).'},\n",
       " 'Ronald Haugen': {'Website': 'https://www.ndsu.edu/agecon/about_us/faculty/ron_haugen/#c654700',\n",
       "  'Areas of Specialization': 'Extension Farm Management Specialist',\n",
       "  'Bio': 'Ron Haugen is an Extension Farm Management Specialist. He has been in the department since 1991. Farm management topics include: crop budgets, crop insurance, farm programs, custom farm rates, land rents, machinery economics, commodity price projections and agricultural income taxes. He computes the North Dakota Land Valuation Model.'},\n",
       " 'Robert Hearne': {'Website': 'https://www.ndsu.edu/agecon/faculty/hearne/#c622909',\n",
       "  'Areas of Specialization': 'Water resources management institutions, water markets, protected area management, and the economic valuation of environmental goods and services.',\n",
       "  'Bio': 'Dr. Bob Hearne has been in the Department of Agribusiness and Applied Economics since 2002.   His research focuses on water resources management institutions, water markets, protected area management, and the economic valuation of environmental goods and services.  He has professional experience in Europe, Asia, Latin America, and Asia. '},\n",
       " 'Jeremy Jackson': {'Website': 'https://www.ndsu.edu/centers/pcpe/about/directory/jeremy_jackson/',\n",
       "  'Areas of Specialization': 'Public choice and the political economy; the social consequences of economic freedom; happiness and well-being; and philanthropy and nonprofits.',\n",
       "  'Bio': 'Jeremy Jackson is director of the Center for the Study of Public Choice and Private Enterprise, scholar at the Challey Institute for Global Innovation and Growth, and professor of economics in the Department of Agribusiness and Applied Economics at North Dakota State University.. He teaches undergraduate and graduate courses in the areas of microeconomics, public economics, and game theory and strategy.'},\n",
       " 'Prithviraj Lakkakula': {'Website': 'https://www.ndsu.edu/agecon/faculty/prithviraj_lakkakula/#c623441',\n",
       "  'Areas of Specialization': 'Food and Resource Economics',\n",
       "  'Bio': 'Research Assistant Professor.'},\n",
       " 'Siew Lim': {'Website': 'https://www.ndsu.edu/agecon/faculty/lim/#c624837',\n",
       "  'Areas of Specialization': 'Applied microeconomics, production economics, industrial organization, transportation and regional development.',\n",
       "  'Bio': 'Siew Hoon Lim is an associate professor of economics.'},\n",
       " 'Raymond March': {'Website': 'https://www.ndsu.edu/centers/pcpe/about/directory/raymond_march/',\n",
       "  'Areas of Specialization': 'Public and private provision and governance of health care in the United States, particularly in pharmaceutical markets.',\n",
       "  'Bio': 'Raymond March is a scholar at the Challey Institute for Global Innovation and Growth with the Center for the Study of Public Choice and Private Enterprise and an assistant professor of economics in the Department of Agribusiness and Applied Economics at North Dakota State University. He teaches courses in microeconomics, the history of economic thought, and health economics.'},\n",
       " 'Dragan Miljkovic': {'Website': 'https://www.ndsu.edu/agecon/faculty/miljkovic/#c625001',\n",
       "  'Areas of Specialization': 'Agricultural price analysis, international economics, and agricultural and food policy including human nutrition, obesity, and food safety.',\n",
       "  'Bio': 'Dragan Miljkovic is professor of agricultural economics in the Department of Agribusiness & Applied Economics at North Dakota State University. Dr. Miljkovic holds B.S. and M.S. degrees in Economics from the University of Belgrade, and Ph.D. in Agricultural Economics from the University of Illinois at Urbana-Champaign.'},\n",
       " 'Frayne Olson': {'Website': 'https://www.ndsu.edu/agecon/faculty/olson/#c625016',\n",
       "  'Areas of Specialization': 'Evaluating crop marketing strategies, crop outlook and price analysis, and the economics of crop contracting.',\n",
       "  'Bio': 'Dr. Frayne Olson is the Crop Economist/Marketing Specialist with the North Dakota State University Extension and Director of the Quentin Burdick Center for Cooperatives.'},\n",
       " 'Bryon Parman': {'Website': 'https://www.ndsu.edu/agecon/faculty/parman/#c654590',\n",
       "  'Areas of Specialization': 'Ag Finance Specialist',\n",
       "  'Bio': 'Assistant Professor.'},\n",
       " 'Tim Petry': {'Website': 'https://www.ndsu.edu/agecon/faculty/petry/#c625018',\n",
       "  'Areas of Specialization': 'Price forecasting.',\n",
       "  'Bio': 'Tim Petry was raised on a livestock ranch in Northwestern North Dakota. He graduated from North Dakota State University with a major in Agricultural Economics in 1969 and served two years in the US Army. Petry returned to NDSU and completed a Master’s Degree in Agricultural Economics with an agricultural marketing emphasis in 1973. He was a member of the teaching/research staff in the Department of Agricultural Economics for 30 years. During his teaching tenure, he taught many marketing courses including several livestock marketing classes, and a very popular introduction to agricultural marketing class.'},\n",
       " 'Xudong Rao': {'Website': 'https://www.ndsu.edu/agecon/faculty/rao/#c629066',\n",
       "  'Areas of Specialization': 'Farm and Agribusiness Management, Risk Analysis, Efficiency and Productivity, Technology Adoption, Food and Agricultural Policy, International Agricultural Development.',\n",
       "  'Bio': 'Assistant Professor, Department of Agribusiness and Applied Economics at North Dakota State University.'},\n",
       " 'Veeshan Rayamajhee': {'Website': 'https://www.ndsu.edu/centers/pcpe/about/directory/veeshan_rayamajhee/',\n",
       "  'Areas of Specialization': 'Insights from Public Choice and New Institutional Economics to understand individual and collective responses to covariate shocks.',\n",
       "  'Bio': 'Veeshan Rayamajhee is a scholar at the Challey Institute for Global Innovation and Growth with the Center for the Study of Public Choice and Private Enterprise and an assistant professor of economics in the Department of Agribusiness and Applied Economics at North Dakota State University.'},\n",
       " 'David Ripplinger': {'Website': 'https://www.ndsu.edu/agecon/faculty/ripplinger/#c629078',\n",
       "  'Areas of Specialization': 'Bioproducts/bioenergy economics specialist.',\n",
       "  'Bio': 'David Ripplinger is an Associate Professor in the Department of Agribusiness and Applied Economics at North Dakota State University.'},\n",
       " 'David Roberts': {'Website': 'https://www.ndsu.edu/agecon/faculty/roberts/#c629137',\n",
       "  'Areas of Specialization': 'Impacts of agricultural production methods on the environment and natural resources.',\n",
       "  'Bio': 'David Roberts is an Assistant Professor of Agribusiness and Applied Economics at North Dakota State University.'},\n",
       " 'Kristi Schweiss': {'Website': 'https://www.ndsu.edu/agecon/faculty/schweiss/#c629139',\n",
       "  'Areas of Specialization': 'n/a',\n",
       "  'Bio': 'Assistant Director, QBCC'},\n",
       " 'Anupa Sharma': {'Website': 'https://www.ndsu.edu/agecon/faculty/sharma/#c629150',\n",
       "  'Areas of Specialization': 'Develops quantitative methods to address issues pertinent to International Trade.',\n",
       "  'Bio': 'Anupa Sharma is an Assistant Professor in the Department of Agribusiness and Applied Economics at North Dakota State University.'},\n",
       " 'Cheryl Wachenheim': {'Website': 'https://www.ndsu.edu/agecon/faculty/wachenheim/#c629162',\n",
       "  'Areas of Specialization': 'Eliciting perceptions and valuations from consumers, firms, students and other stakeholders and decision makers.',\n",
       "  'Bio': 'Cheryl Wachenheim is a Professor in the Department of Agribusiness and Applied Economics at North Dakota State University.'},\n",
       " 'William Wilson': {'Website': 'https://www.ndsu.edu/agecon/faculty/wilson/#c629178',\n",
       "  'Areas of Specialization': 'Risk and strategy as applied to agriculture and agribusiness with a particular focus on agtechnology development and commercialization, procurement, transportation and logistics, international marketing and competition.',\n",
       "  'Bio': 'Dr. William W. Wilson received his PhD in Agricultural Economics from the University of Manitoba in 1980. Since then he has been a Professor at North Dakota State University in Agribusiness and Applied Economics with periodic sabbaticals at Stanford University.'}}"
      ]
     },
     "execution_count": 15,
     "metadata": {},
     "output_type": "execute_result"
    }
   ],
   "source": [
    "faculty_dict = {\"William Nganje\":{\"Website\":\"https://www.ndsu.edu/agecon/faculty/william_nganje/#c622350\", \n",
    "                                     \"Areas of Specialization\":\"Risk management; financial analysis; economics of obesity, food safety and food terrorism; experimental economics; and consumer choice theory\",\n",
    "                                     \"Bio\":\"NA\"},\n",
    "                 \"David Bullock\": {\"Website\":\"https://www.ndsu.edu/agecon/faculty/bullock/#c622728\",\n",
    "                                    \"Areas of Specialization\": \"futures and options markets, over-the-counter derivatives, trading, risk management, agrifinance, Monte Carlo simulation, and Big Data\",\n",
    "                                    \"Bio\":\"Dr. David W. Bullock is a Research Associate Professor affiliated with the Center for Trading and Risk at NDSU.  His research interests include futures and options markets, over-the-counter derivatives, trading, risk management, agrifinance, Monte Carlo simulation, and Big Data applications in agriculture.  His academic research in option portfolio theory has been published in both the Journal of Economics and Business and the International Review of Economics and Finance.  Additionally, he was the primary contributor behind the AgriBank Insights publication series which won a National AgriMarketing Association (NAMA) award for the best company publication in 2016. Before coming to NDSU in January 2018, Dr. Bullock held numerous positions for over 25 years in the government and private sectors including the Senior Economist at AgriBank FCB – the regional Farm Credit System funding bank for the Upper Midwest region, Director of Research and Senior Foods Economist at Fortune 500 commodity risk management firm INTL FCStone Inc., the Senior Dairy Analyst at Informa Economics, a Risk Management Specialist with the Minnesota Department of Agriculture, and the Senior Economist at the Minneapolis Grain Exchange. David began his academic career as an Assistant Professor and Extension Marketing Economist at Montana State University after graduating from Iowa State University with a Ph.D. in agricultural economics with fields in agricultural price analysis and econometrics in 1989.  Prior to entering ISU, he received bachelor’s (1982) and master’s (1984) degrees in agricultural economics from Northwest Missouri State University. Dr. Bullock is originally from the small northwestern Missouri farming community of Lathrop which is located 40 miles north of the Kansas City metropolitan area.  While in high school, he served as a regional state Vice-President in the Future Farmers of America (FFA) during his senior year.\"},\n",
    "                 \"James Caton\": {\"Website\":\"https://www.ndsu.edu/centers/pcpe/about/directory/james_caton/\",\n",
    "                                 \"Areas of Specialization\": \"Entrepreneurship, Institutions, Macroeconomics, Computation\",\n",
    "                                 \"Bio\":\"James Caton is a faculty fellow at the NDSU Center for the Study of Public Choice and Private Enterprise (PCPE) and an assistant professor in the NDSU Department of Agribusiness and Applied Economics. He teaches undergraduate courses in the areas of macroeconomics, international trade, and computation. He specializes in research related to entrepreneurship, agent-based computational economics, market process theory, and monetary economics. His research has been published in the Southern Economic Journal, Erasmus Journal for Philosophy and Economics, Journal of Entrepreneurship and Public Policy and other academic publications. He co-edited Macroeconomics, a two volume set of essays and primary sources that represent the core of macroeconomic thought. He is also a regular contributor to the American Institute for Economic Research's Sound Money Project, which conducts research and promotes awareness about monetary stability and financial privacy. He resides in Fargo with his wife, Ingrid, and their children.\"},\n",
    "                 \"David Englund\": {\"Website\":\"https://www.ndsu.edu/agecon/faculty/englund/#c622903\",\n",
    "                                 \"Areas of Specialization\": \"Teaches Economic Principles, Led NDSU NAMA to National Champions\",\n",
    "                                 \"Bio\":\"David Englund is a lecturer in the department.  He came to the department with 16 years of teaching experience, having taught Principles of Microeconomics, Principles of Macroeconomics, Money and Banking, Consumer Behavior, Selected Topics in Business, and several other classes.  He also had 10 years’ experience advising student NAMA chapters, having been awarded the Outstanding Advisor of the Year for a Developing Chapter in 2002, and the Outstanding Advisor of the Year award in 2009.\\nDavid primarily teaches Survey of Economics, Principles of Microeconomics, Skills for Academic Success, Agricultural Marketing, and NAMA (co-teaches).  He joined the NAMA team in the 2014-2015 school year as a co-advisor and helped coach the student team to a 3rd place finish in the national student marketing plan competition at the national conference.\\nSome of David’s outside interests are jogging, photography, and writing fiction novels.  His latest release, Camouflaged Encounters has received positive reviews.\"},\n",
    "                 \"Erik Hanson\": {\"Website\":\"https://www.ndsu.edu/agecon/faculty/hanson/#c622905\",\n",
    "                                 \"Areas of Specialization\": \"Ag Management, Ag Finance\",\n",
    "                                 \"Bio\":\"Erik Hanson is an Assistant Professor in the Department of Agricultural and Applied Economics. He teaches courses on agribusiness management and agricultural finance. Erik completed his Ph.D. at the University of Minnesota in 2016. Prior to that, Erik completed a master’s degree at the University of Illinois (2013) and a bachelor’s degree at Minnesota State University Moorhead (2011).\"},\n",
    "                 \"Ronald Haugen\": {\"Website\":\"https://www.ndsu.edu/agecon/about_us/faculty/ron_haugen/#c654700\",\n",
    "                                 \"Areas of Specialization\": \"Extension Farm Management Specialist\",\n",
    "                                 \"Bio\":\"Ron Haugen is an Extension Farm Management Specialist. He has been in the department since 1991. Farm management topics include: crop budgets, crop insurance, farm programs, custom farm rates, land rents, machinery economics, commodity price projections and agricultural income taxes. He computes the North Dakota Land Valuation Model.\"},\n",
    "                 \"Robert Hearne\": {\"Website\":\"https://www.ndsu.edu/agecon/faculty/hearne/#c622909\",\n",
    "                                 \"Areas of Specialization\": \"Water resources management institutions, water markets, protected area management, and the economic valuation of environmental goods and services.\",\n",
    "                                 \"Bio\":\"Dr. Bob Hearne has been in the Department of Agribusiness and Applied Economics since 2002.   His research focuses on water resources management institutions, water markets, protected area management, and the economic valuation of environmental goods and services.  He has professional experience in Europe, Asia, Latin America, and Asia. \"},\n",
    "                 \"Jeremy Jackson\": {\"Website\":\"https://www.ndsu.edu/centers/pcpe/about/directory/jeremy_jackson/\",\n",
    "                                 \"Areas of Specialization\": \"Public choice and the political economy; the social consequences of economic freedom; happiness and well-being; and philanthropy and nonprofits.\",\n",
    "                                 \"Bio\":\"Jeremy Jackson is director of the Center for the Study of Public Choice and Private Enterprise, scholar at the Challey Institute for Global Innovation and Growth, and professor of economics in the Department of Agribusiness and Applied Economics at North Dakota State University.. He teaches undergraduate and graduate courses in the areas of microeconomics, public economics, and game theory and strategy.\"},\n",
    "                 \"Prithviraj Lakkakula\": {\"Website\":\"https://www.ndsu.edu/agecon/faculty/prithviraj_lakkakula/#c623441\",\n",
    "                                 \"Areas of Specialization\": \"Food and Resource Economics\",\n",
    "                                 \"Bio\":\"Research Assistant Professor.\"},\n",
    "                 \"Siew Lim\": {\"Website\":\"https://www.ndsu.edu/agecon/faculty/lim/#c624837\",\n",
    "                                 \"Areas of Specialization\": \"Applied microeconomics, production economics, industrial organization, transportation and regional development.\",\n",
    "                                 \"Bio\":\"Siew Hoon Lim is an associate professor of economics.\"},\n",
    "                 \"Raymond March\": {\"Website\":\"https://www.ndsu.edu/centers/pcpe/about/directory/raymond_march/\",\n",
    "                                 \"Areas of Specialization\": \"Public and private provision and governance of health care in the United States, particularly in pharmaceutical markets.\",\n",
    "                                 \"Bio\":\"Raymond March is a scholar at the Challey Institute for Global Innovation and Growth with the Center for the Study of Public Choice and Private Enterprise and an assistant professor of economics in the Department of Agribusiness and Applied Economics at North Dakota State University. He teaches courses in microeconomics, the history of economic thought, and health economics.\"},\n",
    "                 \"Dragan Miljkovic\": {\"Website\":\"https://www.ndsu.edu/agecon/faculty/miljkovic/#c625001\",\n",
    "                                 \"Areas of Specialization\": \"Agricultural price analysis, international economics, and agricultural and food policy including human nutrition, obesity, and food safety.\",\n",
    "                                 \"Bio\":\"Dragan Miljkovic is professor of agricultural economics in the Department of Agribusiness & Applied Economics at North Dakota State University. Dr. Miljkovic holds B.S. and M.S. degrees in Economics from the University of Belgrade, and Ph.D. in Agricultural Economics from the University of Illinois at Urbana-Champaign.\"},\n",
    "                 \"Frayne Olson\": {\"Website\":\"https://www.ndsu.edu/agecon/faculty/olson/#c625016\",\n",
    "                                 \"Areas of Specialization\": \"Evaluating crop marketing strategies, crop outlook and price analysis, and the economics of crop contracting.\",\n",
    "                                 \"Bio\":\"Dr. Frayne Olson is the Crop Economist/Marketing Specialist with the North Dakota State University Extension and Director of the Quentin Burdick Center for Cooperatives.\"},\n",
    "                 \"Bryon Parman\": {\"Website\":\"https://www.ndsu.edu/agecon/faculty/parman/#c654590\",\n",
    "                                 \"Areas of Specialization\": \"Ag Finance Specialist\",\n",
    "                                 \"Bio\":\"Assistant Professor.\"},\n",
    "                 \"Tim Petry\": {\"Website\":\"https://www.ndsu.edu/agecon/faculty/petry/#c625018\",\n",
    "                                 \"Areas of Specialization\": \"Price forecasting.\",\n",
    "                                 \"Bio\":\"Tim Petry was raised on a livestock ranch in Northwestern North Dakota. He graduated from North Dakota State University with a major in Agricultural Economics in 1969 and served two years in the US Army. Petry returned to NDSU and completed a Master’s Degree in Agricultural Economics with an agricultural marketing emphasis in 1973. He was a member of the teaching/research staff in the Department of Agricultural Economics for 30 years. During his teaching tenure, he taught many marketing courses including several livestock marketing classes, and a very popular introduction to agricultural marketing class.\"},\n",
    "                 \"Xudong Rao\": {\"Website\":\"https://www.ndsu.edu/agecon/faculty/rao/#c629066\",\n",
    "                                 \"Areas of Specialization\": \"Farm and Agribusiness Management, Risk Analysis, Efficiency and Productivity, Technology Adoption, Food and Agricultural Policy, International Agricultural Development.\",\n",
    "                                 \"Bio\":\"Assistant Professor, Department of Agribusiness and Applied Economics at North Dakota State University.\"},\n",
    "                 \"Veeshan Rayamajhee\": {\"Website\":\"https://www.ndsu.edu/centers/pcpe/about/directory/veeshan_rayamajhee/\",\n",
    "                                 \"Areas of Specialization\": \"Insights from Public Choice and New Institutional Economics to understand individual and collective responses to covariate shocks.\",\n",
    "                                 \"Bio\":\"Veeshan Rayamajhee is a scholar at the Challey Institute for Global Innovation and Growth with the Center for the Study of Public Choice and Private Enterprise and an assistant professor of economics in the Department of Agribusiness and Applied Economics at North Dakota State University.\"},\n",
    "                 \"David Ripplinger\": {\"Website\":\"https://www.ndsu.edu/agecon/faculty/ripplinger/#c629078\",\n",
    "                                 \"Areas of Specialization\": \"Bioproducts/bioenergy economics specialist.\",\n",
    "                                 \"Bio\":\"David Ripplinger is an Associate Professor in the Department of Agribusiness and Applied Economics at North Dakota State University.\"},\n",
    "                 \"David Roberts\": {\"Website\":\"https://www.ndsu.edu/agecon/faculty/roberts/#c629137\",\n",
    "                                 \"Areas of Specialization\": \"Impacts of agricultural production methods on the environment and natural resources.\",\n",
    "                                 \"Bio\":\"David Roberts is an Assistant Professor of Agribusiness and Applied Economics at North Dakota State University.\"},\n",
    "                 \"Kristi Schweiss\": {\"Website\":\"https://www.ndsu.edu/agecon/faculty/schweiss/#c629139\",\n",
    "                                 \"Areas of Specialization\": \"n/a\",\n",
    "                                 \"Bio\":\"Assistant Director, QBCC\"},\n",
    "                 \"Anupa Sharma\": {\"Website\":\"https://www.ndsu.edu/agecon/faculty/sharma/#c629150\",\n",
    "                                 \"Areas of Specialization\": \"Develops quantitative methods to address issues pertinent to International Trade.\",\n",
    "                                 \"Bio\":\"Anupa Sharma is an Assistant Professor in the Department of Agribusiness and Applied Economics at North Dakota State University.\"},\n",
    "                 \"Cheryl Wachenheim\": {\"Website\":\"https://www.ndsu.edu/agecon/faculty/wachenheim/#c629162\",\n",
    "                                 \"Areas of Specialization\": \"Eliciting perceptions and valuations from consumers, firms, students and other stakeholders and decision makers.\",\n",
    "                                 \"Bio\":\"Cheryl Wachenheim is a Professor in the Department of Agribusiness and Applied Economics at North Dakota State University.\"},\n",
    "                 \"William Wilson\": {\"Website\":\"https://www.ndsu.edu/agecon/faculty/wilson/#c629178\",\n",
    "                                 \"Areas of Specialization\": \"Risk and strategy as applied to agriculture and agribusiness with a particular focus on agtechnology development and commercialization, procurement, transportation and logistics, international marketing and competition.\",\n",
    "                                 \"Bio\":\"Dr. William W. Wilson received his PhD in Agricultural Economics from the University of Manitoba in 1980. Since then he has been a Professor at North Dakota State University in Agribusiness and Applied Economics with periodic sabbaticals at Stanford University.\"},\n",
    "                }\n",
    "faculty_dict"
   ]
  },
  {
   "cell_type": "code",
   "execution_count": 16,
   "id": "ef635010",
   "metadata": {},
   "outputs": [],
   "source": [
    "faculty_df = pd.DataFrame(faculty_dict).T"
   ]
  },
  {
   "cell_type": "code",
   "execution_count": 17,
   "id": "af172e0a",
   "metadata": {},
   "outputs": [],
   "source": [
    "faculty_df.to_csv(\"facultyInfo.csv\")"
   ]
  },
  {
   "cell_type": "code",
   "execution_count": 18,
   "id": "a78e8f5a",
   "metadata": {},
   "outputs": [
    {
     "data": {
      "text/plain": [
       "'Dr. Bob Hearne has been in the Department of Agribusiness and Applied Economics since 2002.   His research focuses on water resources management institutions, water markets, protected area management, and the economic valuation of environmental goods and services.  He has professional experience in Europe, Asia, Latin America, and Asia. '"
      ]
     },
     "execution_count": 18,
     "metadata": {},
     "output_type": "execute_result"
    }
   ],
   "source": [
    "faculty_df.loc[\"Robert Hearne\"][\"Bio\"]"
   ]
  },
  {
   "cell_type": "code",
   "execution_count": 19,
   "id": "8f23b2d8",
   "metadata": {},
   "outputs": [
    {
     "data": {
      "text/plain": [
       "Index(['William Nganje', 'David Bullock', 'James Caton', 'David Englund',\n",
       "       'Erik Hanson', 'Ronald Haugen', 'Robert Hearne', 'Jeremy Jackson',\n",
       "       'Prithviraj Lakkakula', 'Siew Lim', 'Raymond March', 'Dragan Miljkovic',\n",
       "       'Frayne Olson', 'Bryon Parman', 'Tim Petry', 'Xudong Rao',\n",
       "       'Veeshan Rayamajhee', 'David Ripplinger', 'David Roberts',\n",
       "       'Kristi Schweiss', 'Anupa Sharma', 'Cheryl Wachenheim',\n",
       "       'William Wilson'],\n",
       "      dtype='object')"
      ]
     },
     "execution_count": 19,
     "metadata": {},
     "output_type": "execute_result"
    }
   ],
   "source": [
    "faculty_df.index"
   ]
  },
  {
   "cell_type": "code",
   "execution_count": 20,
   "id": "e747ac61",
   "metadata": {},
   "outputs": [
    {
     "data": {
      "text/plain": [
       "Index(['Website', 'Areas of Specialization', 'Bio'], dtype='object')"
      ]
     },
     "execution_count": 20,
     "metadata": {},
     "output_type": "execute_result"
    }
   ],
   "source": [
    "faculty_df.keys()"
   ]
  },
  {
   "cell_type": "code",
   "execution_count": 21,
   "id": "d6da8e39",
   "metadata": {},
   "outputs": [
    {
     "data": {
      "text/plain": [
       "Website                    https://www.ndsu.edu/agecon/faculty/roberts/#c...\n",
       "Areas of Specialization    Impacts of agricultural production methods on ...\n",
       "Bio                        David Roberts is an Assistant Professor of Agr...\n",
       "Name: David Roberts, dtype: object"
      ]
     },
     "execution_count": 21,
     "metadata": {},
     "output_type": "execute_result"
    }
   ],
   "source": [
    "faculty_df.loc[\"David Roberts\"]"
   ]
  },
  {
   "cell_type": "code",
   "execution_count": 22,
   "id": "0e4b176c",
   "metadata": {},
   "outputs": [
    {
     "name": "stdout",
     "output_type": "stream",
     "text": [
      "Website                    https://www.ndsu.edu/agecon/faculty/william_ng...\n",
      "Areas of Specialization    Risk management; financial analysis; economics...\n",
      "Bio                                                                       NA\n",
      "Name: William Nganje, dtype: object\n",
      "Website                    https://www.ndsu.edu/agecon/faculty/bullock/#c...\n",
      "Areas of Specialization    futures and options markets, over-the-counter ...\n",
      "Bio                        Dr. David W. Bullock is a Research Associate P...\n",
      "Name: David Bullock, dtype: object\n",
      "Website                    https://www.ndsu.edu/centers/pcpe/about/direct...\n",
      "Areas of Specialization    Entrepreneurship, Institutions, Macroeconomics...\n",
      "Bio                        James Caton is a faculty fellow at the NDSU Ce...\n",
      "Name: James Caton, dtype: object\n",
      "Website                    https://www.ndsu.edu/agecon/faculty/englund/#c...\n",
      "Areas of Specialization    Teaches Economic Principles, Led NDSU NAMA to ...\n",
      "Bio                        David Englund is a lecturer in the department....\n",
      "Name: David Englund, dtype: object\n",
      "Website                    https://www.ndsu.edu/agecon/faculty/hanson/#c6...\n",
      "Areas of Specialization                            Ag Management, Ag Finance\n",
      "Bio                        Erik Hanson is an Assistant Professor in the D...\n",
      "Name: Erik Hanson, dtype: object\n",
      "Website                    https://www.ndsu.edu/agecon/about_us/faculty/r...\n",
      "Areas of Specialization                 Extension Farm Management Specialist\n",
      "Bio                        Ron Haugen is an Extension Farm Management Spe...\n",
      "Name: Ronald Haugen, dtype: object\n",
      "Website                    https://www.ndsu.edu/agecon/faculty/hearne/#c6...\n",
      "Areas of Specialization    Water resources management institutions, water...\n",
      "Bio                        Dr. Bob Hearne has been in the Department of A...\n",
      "Name: Robert Hearne, dtype: object\n",
      "Website                    https://www.ndsu.edu/centers/pcpe/about/direct...\n",
      "Areas of Specialization    Public choice and the political economy; the s...\n",
      "Bio                        Jeremy Jackson is director of the Center for t...\n",
      "Name: Jeremy Jackson, dtype: object\n",
      "Website                    https://www.ndsu.edu/agecon/faculty/prithviraj...\n",
      "Areas of Specialization                          Food and Resource Economics\n",
      "Bio                                            Research Assistant Professor.\n",
      "Name: Prithviraj Lakkakula, dtype: object\n",
      "Website                     https://www.ndsu.edu/agecon/faculty/lim/#c624837\n",
      "Areas of Specialization    Applied microeconomics, production economics, ...\n",
      "Bio                        Siew Hoon Lim is an associate professor of eco...\n",
      "Name: Siew Lim, dtype: object\n",
      "Website                    https://www.ndsu.edu/centers/pcpe/about/direct...\n",
      "Areas of Specialization    Public and private provision and governance of...\n",
      "Bio                        Raymond March is a scholar at the Challey Inst...\n",
      "Name: Raymond March, dtype: object\n",
      "Website                    https://www.ndsu.edu/agecon/faculty/miljkovic/...\n",
      "Areas of Specialization    Agricultural price analysis, international eco...\n",
      "Bio                        Dragan Miljkovic is professor of agricultural ...\n",
      "Name: Dragan Miljkovic, dtype: object\n",
      "Website                    https://www.ndsu.edu/agecon/faculty/olson/#c62...\n",
      "Areas of Specialization    Evaluating crop marketing strategies, crop out...\n",
      "Bio                        Dr. Frayne Olson is the Crop Economist/Marketi...\n",
      "Name: Frayne Olson, dtype: object\n",
      "Website                    https://www.ndsu.edu/agecon/faculty/parman/#c6...\n",
      "Areas of Specialization                                Ag Finance Specialist\n",
      "Bio                                                     Assistant Professor.\n",
      "Name: Bryon Parman, dtype: object\n",
      "Website                    https://www.ndsu.edu/agecon/faculty/petry/#c62...\n",
      "Areas of Specialization                                   Price forecasting.\n",
      "Bio                        Tim Petry was raised on a livestock ranch in N...\n",
      "Name: Tim Petry, dtype: object\n",
      "Website                     https://www.ndsu.edu/agecon/faculty/rao/#c629066\n",
      "Areas of Specialization    Farm and Agribusiness Management, Risk Analysi...\n",
      "Bio                        Assistant Professor, Department of Agribusines...\n",
      "Name: Xudong Rao, dtype: object\n",
      "Website                    https://www.ndsu.edu/centers/pcpe/about/direct...\n",
      "Areas of Specialization    Insights from Public Choice and New Institutio...\n",
      "Bio                        Veeshan Rayamajhee is a scholar at the Challey...\n",
      "Name: Veeshan Rayamajhee, dtype: object\n",
      "Website                    https://www.ndsu.edu/agecon/faculty/ripplinger...\n",
      "Areas of Specialization          Bioproducts/bioenergy economics specialist.\n",
      "Bio                        David Ripplinger is an Associate Professor in ...\n",
      "Name: David Ripplinger, dtype: object\n",
      "Website                    https://www.ndsu.edu/agecon/faculty/roberts/#c...\n",
      "Areas of Specialization    Impacts of agricultural production methods on ...\n",
      "Bio                        David Roberts is an Assistant Professor of Agr...\n",
      "Name: David Roberts, dtype: object\n",
      "Website                    https://www.ndsu.edu/agecon/faculty/schweiss/#...\n",
      "Areas of Specialization                                                  n/a\n",
      "Bio                                                 Assistant Director, QBCC\n",
      "Name: Kristi Schweiss, dtype: object\n",
      "Website                    https://www.ndsu.edu/agecon/faculty/sharma/#c6...\n",
      "Areas of Specialization    Develops quantitative methods to address issue...\n",
      "Bio                        Anupa Sharma is an Assistant Professor in the ...\n",
      "Name: Anupa Sharma, dtype: object\n",
      "Website                    https://www.ndsu.edu/agecon/faculty/wachenheim...\n",
      "Areas of Specialization    Eliciting perceptions and valuations from cons...\n",
      "Bio                        Cheryl Wachenheim is a Professor in the Depart...\n",
      "Name: Cheryl Wachenheim, dtype: object\n",
      "Website                    https://www.ndsu.edu/agecon/faculty/wilson/#c6...\n",
      "Areas of Specialization    Risk and strategy as applied to agriculture an...\n",
      "Bio                        Dr. William W. Wilson received his PhD in Agri...\n",
      "Name: William Wilson, dtype: object\n"
     ]
    }
   ],
   "source": [
    "index = faculty_df.index\n",
    "for ix in index:\n",
    "    print(faculty_df.loc[ix])"
   ]
  },
  {
   "cell_type": "code",
   "execution_count": 23,
   "id": "75ed990b",
   "metadata": {},
   "outputs": [
    {
     "name": "stdout",
     "output_type": "stream",
     "text": [
      "Website                    https://www.ndsu.edu/agecon/faculty/william_ng...\n",
      "Areas of Specialization    Risk management; financial analysis; economics...\n",
      "Bio                                                                       NA\n",
      "Name: William Nganje, dtype: object\n",
      "Website                    https://www.ndsu.edu/agecon/faculty/bullock/#c...\n",
      "Areas of Specialization    futures and options markets, over-the-counter ...\n",
      "Bio                        Dr. David W. Bullock is a Research Associate P...\n",
      "Name: David Bullock, dtype: object\n",
      "Website                    https://www.ndsu.edu/centers/pcpe/about/direct...\n",
      "Areas of Specialization    Entrepreneurship, Institutions, Macroeconomics...\n",
      "Bio                        James Caton is a faculty fellow at the NDSU Ce...\n",
      "Name: James Caton, dtype: object\n",
      "Website                    https://www.ndsu.edu/agecon/faculty/englund/#c...\n",
      "Areas of Specialization    Teaches Economic Principles, Led NDSU NAMA to ...\n",
      "Bio                        David Englund is a lecturer in the department....\n",
      "Name: David Englund, dtype: object\n",
      "Website                    https://www.ndsu.edu/agecon/faculty/hanson/#c6...\n",
      "Areas of Specialization                            Ag Management, Ag Finance\n",
      "Bio                        Erik Hanson is an Assistant Professor in the D...\n",
      "Name: Erik Hanson, dtype: object\n",
      "Website                    https://www.ndsu.edu/agecon/about_us/faculty/r...\n",
      "Areas of Specialization                 Extension Farm Management Specialist\n",
      "Bio                        Ron Haugen is an Extension Farm Management Spe...\n",
      "Name: Ronald Haugen, dtype: object\n",
      "Website                    https://www.ndsu.edu/agecon/faculty/hearne/#c6...\n",
      "Areas of Specialization    Water resources management institutions, water...\n",
      "Bio                        Dr. Bob Hearne has been in the Department of A...\n",
      "Name: Robert Hearne, dtype: object\n",
      "Website                    https://www.ndsu.edu/centers/pcpe/about/direct...\n",
      "Areas of Specialization    Public choice and the political economy; the s...\n",
      "Bio                        Jeremy Jackson is director of the Center for t...\n",
      "Name: Jeremy Jackson, dtype: object\n",
      "Website                    https://www.ndsu.edu/agecon/faculty/prithviraj...\n",
      "Areas of Specialization                          Food and Resource Economics\n",
      "Bio                                            Research Assistant Professor.\n",
      "Name: Prithviraj Lakkakula, dtype: object\n",
      "Website                     https://www.ndsu.edu/agecon/faculty/lim/#c624837\n",
      "Areas of Specialization    Applied microeconomics, production economics, ...\n",
      "Bio                        Siew Hoon Lim is an associate professor of eco...\n",
      "Name: Siew Lim, dtype: object\n",
      "Website                    https://www.ndsu.edu/centers/pcpe/about/direct...\n",
      "Areas of Specialization    Public and private provision and governance of...\n",
      "Bio                        Raymond March is a scholar at the Challey Inst...\n",
      "Name: Raymond March, dtype: object\n",
      "Website                    https://www.ndsu.edu/agecon/faculty/miljkovic/...\n",
      "Areas of Specialization    Agricultural price analysis, international eco...\n",
      "Bio                        Dragan Miljkovic is professor of agricultural ...\n",
      "Name: Dragan Miljkovic, dtype: object\n",
      "Website                    https://www.ndsu.edu/agecon/faculty/olson/#c62...\n",
      "Areas of Specialization    Evaluating crop marketing strategies, crop out...\n",
      "Bio                        Dr. Frayne Olson is the Crop Economist/Marketi...\n",
      "Name: Frayne Olson, dtype: object\n",
      "Website                    https://www.ndsu.edu/agecon/faculty/parman/#c6...\n",
      "Areas of Specialization                                Ag Finance Specialist\n",
      "Bio                                                     Assistant Professor.\n",
      "Name: Bryon Parman, dtype: object\n",
      "Website                    https://www.ndsu.edu/agecon/faculty/petry/#c62...\n",
      "Areas of Specialization                                   Price forecasting.\n",
      "Bio                        Tim Petry was raised on a livestock ranch in N...\n",
      "Name: Tim Petry, dtype: object\n",
      "Website                     https://www.ndsu.edu/agecon/faculty/rao/#c629066\n",
      "Areas of Specialization    Farm and Agribusiness Management, Risk Analysi...\n",
      "Bio                        Assistant Professor, Department of Agribusines...\n",
      "Name: Xudong Rao, dtype: object\n",
      "Website                    https://www.ndsu.edu/centers/pcpe/about/direct...\n",
      "Areas of Specialization    Insights from Public Choice and New Institutio...\n",
      "Bio                        Veeshan Rayamajhee is a scholar at the Challey...\n",
      "Name: Veeshan Rayamajhee, dtype: object\n",
      "Website                    https://www.ndsu.edu/agecon/faculty/ripplinger...\n",
      "Areas of Specialization          Bioproducts/bioenergy economics specialist.\n",
      "Bio                        David Ripplinger is an Associate Professor in ...\n",
      "Name: David Ripplinger, dtype: object\n",
      "Website                    https://www.ndsu.edu/agecon/faculty/roberts/#c...\n",
      "Areas of Specialization    Impacts of agricultural production methods on ...\n",
      "Bio                        David Roberts is an Assistant Professor of Agr...\n",
      "Name: David Roberts, dtype: object\n",
      "Website                    https://www.ndsu.edu/agecon/faculty/schweiss/#...\n",
      "Areas of Specialization                                                  n/a\n",
      "Bio                                                 Assistant Director, QBCC\n",
      "Name: Kristi Schweiss, dtype: object\n",
      "Website                    https://www.ndsu.edu/agecon/faculty/sharma/#c6...\n",
      "Areas of Specialization    Develops quantitative methods to address issue...\n",
      "Bio                        Anupa Sharma is an Assistant Professor in the ...\n",
      "Name: Anupa Sharma, dtype: object\n",
      "Website                    https://www.ndsu.edu/agecon/faculty/wachenheim...\n",
      "Areas of Specialization    Eliciting perceptions and valuations from cons...\n",
      "Bio                        Cheryl Wachenheim is a Professor in the Depart...\n",
      "Name: Cheryl Wachenheim, dtype: object\n",
      "Website                    https://www.ndsu.edu/agecon/faculty/wilson/#c6...\n",
      "Areas of Specialization    Risk and strategy as applied to agriculture an...\n",
      "Bio                        Dr. William W. Wilson received his PhD in Agri...\n",
      "Name: William Wilson, dtype: object\n"
     ]
    }
   ],
   "source": [
    "names = faculty_df.index\n",
    "for name in names:\n",
    "    print(faculty_df.loc[name])"
   ]
  },
  {
   "cell_type": "code",
   "execution_count": 24,
   "id": "0a525f89",
   "metadata": {},
   "outputs": [
    {
     "data": {
      "text/plain": [
       "Index(['Website', 'Areas of Specialization', 'Bio'], dtype='object')"
      ]
     },
     "execution_count": 24,
     "metadata": {},
     "output_type": "execute_result"
    }
   ],
   "source": [
    "keys = faculty_df.keys()\n",
    "keys"
   ]
  },
  {
   "cell_type": "code",
   "execution_count": 25,
   "id": "052ed30d",
   "metadata": {},
   "outputs": [
    {
     "name": "stdout",
     "output_type": "stream",
     "text": [
      "William Nganje\n",
      "Website: https://www.ndsu.edu/agecon/faculty/wilson/#c629178\n",
      "Areas of Specialization: Risk and strategy as applied to agriculture and agribusiness with a particular focus on agtechnology development and commercialization, procurement, transportation and logistics, international marketing and competition.\n",
      "Bio: Dr. William W. Wilson received his PhD in Agricultural Economics from the University of Manitoba in 1980. Since then he has been a Professor at North Dakota State University in Agribusiness and Applied Economics with periodic sabbaticals at Stanford University.\n",
      "\n",
      "David Bullock\n",
      "Website: https://www.ndsu.edu/agecon/faculty/wilson/#c629178\n",
      "Areas of Specialization: Risk and strategy as applied to agriculture and agribusiness with a particular focus on agtechnology development and commercialization, procurement, transportation and logistics, international marketing and competition.\n",
      "Bio: Dr. William W. Wilson received his PhD in Agricultural Economics from the University of Manitoba in 1980. Since then he has been a Professor at North Dakota State University in Agribusiness and Applied Economics with periodic sabbaticals at Stanford University.\n",
      "\n",
      "James Caton\n",
      "Website: https://www.ndsu.edu/agecon/faculty/wilson/#c629178\n",
      "Areas of Specialization: Risk and strategy as applied to agriculture and agribusiness with a particular focus on agtechnology development and commercialization, procurement, transportation and logistics, international marketing and competition.\n",
      "Bio: Dr. William W. Wilson received his PhD in Agricultural Economics from the University of Manitoba in 1980. Since then he has been a Professor at North Dakota State University in Agribusiness and Applied Economics with periodic sabbaticals at Stanford University.\n",
      "\n",
      "David Englund\n",
      "Website: https://www.ndsu.edu/agecon/faculty/wilson/#c629178\n",
      "Areas of Specialization: Risk and strategy as applied to agriculture and agribusiness with a particular focus on agtechnology development and commercialization, procurement, transportation and logistics, international marketing and competition.\n",
      "Bio: Dr. William W. Wilson received his PhD in Agricultural Economics from the University of Manitoba in 1980. Since then he has been a Professor at North Dakota State University in Agribusiness and Applied Economics with periodic sabbaticals at Stanford University.\n",
      "\n",
      "Erik Hanson\n",
      "Website: https://www.ndsu.edu/agecon/faculty/wilson/#c629178\n",
      "Areas of Specialization: Risk and strategy as applied to agriculture and agribusiness with a particular focus on agtechnology development and commercialization, procurement, transportation and logistics, international marketing and competition.\n",
      "Bio: Dr. William W. Wilson received his PhD in Agricultural Economics from the University of Manitoba in 1980. Since then he has been a Professor at North Dakota State University in Agribusiness and Applied Economics with periodic sabbaticals at Stanford University.\n",
      "\n",
      "Ronald Haugen\n",
      "Website: https://www.ndsu.edu/agecon/faculty/wilson/#c629178\n",
      "Areas of Specialization: Risk and strategy as applied to agriculture and agribusiness with a particular focus on agtechnology development and commercialization, procurement, transportation and logistics, international marketing and competition.\n",
      "Bio: Dr. William W. Wilson received his PhD in Agricultural Economics from the University of Manitoba in 1980. Since then he has been a Professor at North Dakota State University in Agribusiness and Applied Economics with periodic sabbaticals at Stanford University.\n",
      "\n",
      "Robert Hearne\n",
      "Website: https://www.ndsu.edu/agecon/faculty/wilson/#c629178\n",
      "Areas of Specialization: Risk and strategy as applied to agriculture and agribusiness with a particular focus on agtechnology development and commercialization, procurement, transportation and logistics, international marketing and competition.\n",
      "Bio: Dr. William W. Wilson received his PhD in Agricultural Economics from the University of Manitoba in 1980. Since then he has been a Professor at North Dakota State University in Agribusiness and Applied Economics with periodic sabbaticals at Stanford University.\n",
      "\n",
      "Jeremy Jackson\n",
      "Website: https://www.ndsu.edu/agecon/faculty/wilson/#c629178\n",
      "Areas of Specialization: Risk and strategy as applied to agriculture and agribusiness with a particular focus on agtechnology development and commercialization, procurement, transportation and logistics, international marketing and competition.\n",
      "Bio: Dr. William W. Wilson received his PhD in Agricultural Economics from the University of Manitoba in 1980. Since then he has been a Professor at North Dakota State University in Agribusiness and Applied Economics with periodic sabbaticals at Stanford University.\n",
      "\n",
      "Prithviraj Lakkakula\n",
      "Website: https://www.ndsu.edu/agecon/faculty/wilson/#c629178\n",
      "Areas of Specialization: Risk and strategy as applied to agriculture and agribusiness with a particular focus on agtechnology development and commercialization, procurement, transportation and logistics, international marketing and competition.\n",
      "Bio: Dr. William W. Wilson received his PhD in Agricultural Economics from the University of Manitoba in 1980. Since then he has been a Professor at North Dakota State University in Agribusiness and Applied Economics with periodic sabbaticals at Stanford University.\n",
      "\n",
      "Siew Lim\n",
      "Website: https://www.ndsu.edu/agecon/faculty/wilson/#c629178\n",
      "Areas of Specialization: Risk and strategy as applied to agriculture and agribusiness with a particular focus on agtechnology development and commercialization, procurement, transportation and logistics, international marketing and competition.\n",
      "Bio: Dr. William W. Wilson received his PhD in Agricultural Economics from the University of Manitoba in 1980. Since then he has been a Professor at North Dakota State University in Agribusiness and Applied Economics with periodic sabbaticals at Stanford University.\n",
      "\n",
      "Raymond March\n",
      "Website: https://www.ndsu.edu/agecon/faculty/wilson/#c629178\n",
      "Areas of Specialization: Risk and strategy as applied to agriculture and agribusiness with a particular focus on agtechnology development and commercialization, procurement, transportation and logistics, international marketing and competition.\n",
      "Bio: Dr. William W. Wilson received his PhD in Agricultural Economics from the University of Manitoba in 1980. Since then he has been a Professor at North Dakota State University in Agribusiness and Applied Economics with periodic sabbaticals at Stanford University.\n",
      "\n",
      "Dragan Miljkovic\n",
      "Website: https://www.ndsu.edu/agecon/faculty/wilson/#c629178\n",
      "Areas of Specialization: Risk and strategy as applied to agriculture and agribusiness with a particular focus on agtechnology development and commercialization, procurement, transportation and logistics, international marketing and competition.\n",
      "Bio: Dr. William W. Wilson received his PhD in Agricultural Economics from the University of Manitoba in 1980. Since then he has been a Professor at North Dakota State University in Agribusiness and Applied Economics with periodic sabbaticals at Stanford University.\n",
      "\n",
      "Frayne Olson\n",
      "Website: https://www.ndsu.edu/agecon/faculty/wilson/#c629178\n",
      "Areas of Specialization: Risk and strategy as applied to agriculture and agribusiness with a particular focus on agtechnology development and commercialization, procurement, transportation and logistics, international marketing and competition.\n",
      "Bio: Dr. William W. Wilson received his PhD in Agricultural Economics from the University of Manitoba in 1980. Since then he has been a Professor at North Dakota State University in Agribusiness and Applied Economics with periodic sabbaticals at Stanford University.\n",
      "\n",
      "Bryon Parman\n",
      "Website: https://www.ndsu.edu/agecon/faculty/wilson/#c629178\n",
      "Areas of Specialization: Risk and strategy as applied to agriculture and agribusiness with a particular focus on agtechnology development and commercialization, procurement, transportation and logistics, international marketing and competition.\n",
      "Bio: Dr. William W. Wilson received his PhD in Agricultural Economics from the University of Manitoba in 1980. Since then he has been a Professor at North Dakota State University in Agribusiness and Applied Economics with periodic sabbaticals at Stanford University.\n",
      "\n",
      "Tim Petry\n",
      "Website: https://www.ndsu.edu/agecon/faculty/wilson/#c629178\n",
      "Areas of Specialization: Risk and strategy as applied to agriculture and agribusiness with a particular focus on agtechnology development and commercialization, procurement, transportation and logistics, international marketing and competition.\n",
      "Bio: Dr. William W. Wilson received his PhD in Agricultural Economics from the University of Manitoba in 1980. Since then he has been a Professor at North Dakota State University in Agribusiness and Applied Economics with periodic sabbaticals at Stanford University.\n",
      "\n",
      "Xudong Rao\n",
      "Website: https://www.ndsu.edu/agecon/faculty/wilson/#c629178\n",
      "Areas of Specialization: Risk and strategy as applied to agriculture and agribusiness with a particular focus on agtechnology development and commercialization, procurement, transportation and logistics, international marketing and competition.\n",
      "Bio: Dr. William W. Wilson received his PhD in Agricultural Economics from the University of Manitoba in 1980. Since then he has been a Professor at North Dakota State University in Agribusiness and Applied Economics with periodic sabbaticals at Stanford University.\n",
      "\n",
      "Veeshan Rayamajhee\n",
      "Website: https://www.ndsu.edu/agecon/faculty/wilson/#c629178\n",
      "Areas of Specialization: Risk and strategy as applied to agriculture and agribusiness with a particular focus on agtechnology development and commercialization, procurement, transportation and logistics, international marketing and competition.\n",
      "Bio: Dr. William W. Wilson received his PhD in Agricultural Economics from the University of Manitoba in 1980. Since then he has been a Professor at North Dakota State University in Agribusiness and Applied Economics with periodic sabbaticals at Stanford University.\n",
      "\n",
      "David Ripplinger\n",
      "Website: https://www.ndsu.edu/agecon/faculty/wilson/#c629178\n",
      "Areas of Specialization: Risk and strategy as applied to agriculture and agribusiness with a particular focus on agtechnology development and commercialization, procurement, transportation and logistics, international marketing and competition.\n",
      "Bio: Dr. William W. Wilson received his PhD in Agricultural Economics from the University of Manitoba in 1980. Since then he has been a Professor at North Dakota State University in Agribusiness and Applied Economics with periodic sabbaticals at Stanford University.\n",
      "\n",
      "David Roberts\n",
      "Website: https://www.ndsu.edu/agecon/faculty/wilson/#c629178\n",
      "Areas of Specialization: Risk and strategy as applied to agriculture and agribusiness with a particular focus on agtechnology development and commercialization, procurement, transportation and logistics, international marketing and competition.\n",
      "Bio: Dr. William W. Wilson received his PhD in Agricultural Economics from the University of Manitoba in 1980. Since then he has been a Professor at North Dakota State University in Agribusiness and Applied Economics with periodic sabbaticals at Stanford University.\n",
      "\n",
      "Kristi Schweiss\n",
      "Website: https://www.ndsu.edu/agecon/faculty/wilson/#c629178\n",
      "Areas of Specialization: Risk and strategy as applied to agriculture and agribusiness with a particular focus on agtechnology development and commercialization, procurement, transportation and logistics, international marketing and competition.\n",
      "Bio: Dr. William W. Wilson received his PhD in Agricultural Economics from the University of Manitoba in 1980. Since then he has been a Professor at North Dakota State University in Agribusiness and Applied Economics with periodic sabbaticals at Stanford University.\n",
      "\n",
      "Anupa Sharma\n",
      "Website: https://www.ndsu.edu/agecon/faculty/wilson/#c629178\n",
      "Areas of Specialization: Risk and strategy as applied to agriculture and agribusiness with a particular focus on agtechnology development and commercialization, procurement, transportation and logistics, international marketing and competition.\n",
      "Bio: Dr. William W. Wilson received his PhD in Agricultural Economics from the University of Manitoba in 1980. Since then he has been a Professor at North Dakota State University in Agribusiness and Applied Economics with periodic sabbaticals at Stanford University.\n",
      "\n",
      "Cheryl Wachenheim\n",
      "Website: https://www.ndsu.edu/agecon/faculty/wilson/#c629178\n",
      "Areas of Specialization: Risk and strategy as applied to agriculture and agribusiness with a particular focus on agtechnology development and commercialization, procurement, transportation and logistics, international marketing and competition.\n",
      "Bio: Dr. William W. Wilson received his PhD in Agricultural Economics from the University of Manitoba in 1980. Since then he has been a Professor at North Dakota State University in Agribusiness and Applied Economics with periodic sabbaticals at Stanford University.\n",
      "\n",
      "William Wilson\n",
      "Website: https://www.ndsu.edu/agecon/faculty/wilson/#c629178\n",
      "Areas of Specialization: Risk and strategy as applied to agriculture and agribusiness with a particular focus on agtechnology development and commercialization, procurement, transportation and logistics, international marketing and competition.\n",
      "Bio: Dr. William W. Wilson received his PhD in Agricultural Economics from the University of Manitoba in 1980. Since then he has been a Professor at North Dakota State University in Agribusiness and Applied Economics with periodic sabbaticals at Stanford University.\n",
      "\n"
     ]
    }
   ],
   "source": [
    "for names in index:\n",
    "        print(names)\n",
    "        for key in keys:\n",
    "            print(key+\":\", faculty_df.loc[name][key])\n",
    "        print()"
   ]
  },
  {
   "cell_type": "code",
   "execution_count": 26,
   "id": "afe043e0",
   "metadata": {},
   "outputs": [
    {
     "data": {
      "text/html": [
       "<div>\n",
       "<style scoped>\n",
       "    .dataframe tbody tr th:only-of-type {\n",
       "        vertical-align: middle;\n",
       "    }\n",
       "\n",
       "    .dataframe tbody tr th {\n",
       "        vertical-align: top;\n",
       "    }\n",
       "\n",
       "    .dataframe thead th {\n",
       "        text-align: right;\n",
       "    }\n",
       "</style>\n",
       "<table border=\"1\" class=\"dataframe\">\n",
       "  <thead>\n",
       "    <tr style=\"text-align: right;\">\n",
       "      <th></th>\n",
       "      <th>Website</th>\n",
       "      <th>Areas of Specialization</th>\n",
       "      <th>Bio</th>\n",
       "    </tr>\n",
       "  </thead>\n",
       "  <tbody>\n",
       "    <tr>\n",
       "      <th>William Nganje</th>\n",
       "      <td>https://www.ndsu.edu/agecon/faculty/william_ng...</td>\n",
       "      <td>Risk management; financial analysis; economics...</td>\n",
       "      <td>NA</td>\n",
       "    </tr>\n",
       "    <tr>\n",
       "      <th>Xudong Rao</th>\n",
       "      <td>https://www.ndsu.edu/agecon/faculty/rao/#c629066</td>\n",
       "      <td>Farm and Agribusiness Management, Risk Analysi...</td>\n",
       "      <td>Assistant Professor, Department of Agribusines...</td>\n",
       "    </tr>\n",
       "    <tr>\n",
       "      <th>William Wilson</th>\n",
       "      <td>https://www.ndsu.edu/agecon/faculty/wilson/#c6...</td>\n",
       "      <td>Risk and strategy as applied to agriculture an...</td>\n",
       "      <td>Dr. William W. Wilson received his PhD in Agri...</td>\n",
       "    </tr>\n",
       "  </tbody>\n",
       "</table>\n",
       "</div>"
      ],
      "text/plain": [
       "                                                          Website  \\\n",
       "William Nganje  https://www.ndsu.edu/agecon/faculty/william_ng...   \n",
       "Xudong Rao       https://www.ndsu.edu/agecon/faculty/rao/#c629066   \n",
       "William Wilson  https://www.ndsu.edu/agecon/faculty/wilson/#c6...   \n",
       "\n",
       "                                          Areas of Specialization  \\\n",
       "William Nganje  Risk management; financial analysis; economics...   \n",
       "Xudong Rao      Farm and Agribusiness Management, Risk Analysi...   \n",
       "William Wilson  Risk and strategy as applied to agriculture an...   \n",
       "\n",
       "                                                              Bio  \n",
       "William Nganje                                                 NA  \n",
       "Xudong Rao      Assistant Professor, Department of Agribusines...  \n",
       "William Wilson  Dr. William W. Wilson received his PhD in Agri...  "
      ]
     },
     "execution_count": 26,
     "metadata": {},
     "output_type": "execute_result"
    }
   ],
   "source": [
    "faculty_df[faculty_df[\"Areas of Specialization\"].str.contains(\"Risk\")]"
   ]
  },
  {
   "cell_type": "code",
   "execution_count": 27,
   "id": "b4bca3a6",
   "metadata": {},
   "outputs": [
    {
     "data": {
      "text/html": [
       "<div>\n",
       "<style scoped>\n",
       "    .dataframe tbody tr th:only-of-type {\n",
       "        vertical-align: middle;\n",
       "    }\n",
       "\n",
       "    .dataframe tbody tr th {\n",
       "        vertical-align: top;\n",
       "    }\n",
       "\n",
       "    .dataframe thead th {\n",
       "        text-align: right;\n",
       "    }\n",
       "</style>\n",
       "<table border=\"1\" class=\"dataframe\">\n",
       "  <thead>\n",
       "    <tr style=\"text-align: right;\">\n",
       "      <th></th>\n",
       "      <th>Website</th>\n",
       "      <th>Areas of Specialization</th>\n",
       "      <th>Bio</th>\n",
       "    </tr>\n",
       "  </thead>\n",
       "  <tbody>\n",
       "    <tr>\n",
       "      <th>Jeremy Jackson</th>\n",
       "      <td>https://www.ndsu.edu/centers/pcpe/about/direct...</td>\n",
       "      <td>Public choice and the political economy; the s...</td>\n",
       "      <td>Jeremy Jackson is director of the Center for t...</td>\n",
       "    </tr>\n",
       "    <tr>\n",
       "      <th>Raymond March</th>\n",
       "      <td>https://www.ndsu.edu/centers/pcpe/about/direct...</td>\n",
       "      <td>Public and private provision and governance of...</td>\n",
       "      <td>Raymond March is a scholar at the Challey Inst...</td>\n",
       "    </tr>\n",
       "    <tr>\n",
       "      <th>Veeshan Rayamajhee</th>\n",
       "      <td>https://www.ndsu.edu/centers/pcpe/about/direct...</td>\n",
       "      <td>Insights from Public Choice and New Institutio...</td>\n",
       "      <td>Veeshan Rayamajhee is a scholar at the Challey...</td>\n",
       "    </tr>\n",
       "  </tbody>\n",
       "</table>\n",
       "</div>"
      ],
      "text/plain": [
       "                                                              Website  \\\n",
       "Jeremy Jackson      https://www.ndsu.edu/centers/pcpe/about/direct...   \n",
       "Raymond March       https://www.ndsu.edu/centers/pcpe/about/direct...   \n",
       "Veeshan Rayamajhee  https://www.ndsu.edu/centers/pcpe/about/direct...   \n",
       "\n",
       "                                              Areas of Specialization  \\\n",
       "Jeremy Jackson      Public choice and the political economy; the s...   \n",
       "Raymond March       Public and private provision and governance of...   \n",
       "Veeshan Rayamajhee  Insights from Public Choice and New Institutio...   \n",
       "\n",
       "                                                                  Bio  \n",
       "Jeremy Jackson      Jeremy Jackson is director of the Center for t...  \n",
       "Raymond March       Raymond March is a scholar at the Challey Inst...  \n",
       "Veeshan Rayamajhee  Veeshan Rayamajhee is a scholar at the Challey...  "
      ]
     },
     "execution_count": 27,
     "metadata": {},
     "output_type": "execute_result"
    }
   ],
   "source": [
    "names = [\"Jeremy Jackson\", \"Raymond March\", \"Veeshan Rayamajhee\"]\n",
    "faculty_df[faculty_df.index.isin(names)]"
   ]
  },
  {
   "cell_type": "code",
   "execution_count": 28,
   "id": "a166efac",
   "metadata": {},
   "outputs": [
    {
     "data": {
      "text/plain": [
       "True"
      ]
     },
     "execution_count": 28,
     "metadata": {},
     "output_type": "execute_result"
    }
   ],
   "source": [
    "list = [\"1\", \"2\", \"3\"]\n",
    "\"1\" in list"
   ]
  }
 ],
 "metadata": {
  "kernelspec": {
   "display_name": "Python 3",
   "language": "python",
   "name": "python3"
  },
  "language_info": {
   "codemirror_mode": {
    "name": "ipython",
    "version": 3
   },
   "file_extension": ".py",
   "mimetype": "text/x-python",
   "name": "python",
   "nbconvert_exporter": "python",
   "pygments_lexer": "ipython3",
   "version": "3.8.8"
  }
 },
 "nbformat": 4,
 "nbformat_minor": 5
}
