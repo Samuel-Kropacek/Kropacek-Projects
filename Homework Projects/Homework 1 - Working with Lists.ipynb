{
 "cells": [
  {
   "cell_type": "markdown",
   "id": "47d6abe4",
   "metadata": {},
   "source": [
    "## Exercise 1"
   ]
  },
  {
   "cell_type": "code",
   "execution_count": 1,
   "id": "65c40ed2",
   "metadata": {},
   "outputs": [
    {
     "name": "stdout",
     "output_type": "stream",
     "text": [
      "[3, 6, 9, 12, 15, 18, 21, 24, 27, 30, 33, 36, 39, 42, 45, 48, 51, 54, 57, 60, 63, 66, 69, 72, 75, 78, 81, 84, 87, 90, 93, 96, 99, 102, 105, 108, 111, 114, 117, 120, 123, 126, 129, 132, 135, 138, 141, 144, 147, 150, 153, 156, 159, 162, 165, 168, 171, 174, 177, 180, 183, 186, 189, 192, 195, 198, 201, 204, 207, 210, 213, 216, 219, 222, 225, 228, 231, 234, 237, 240, 243, 246, 249, 252, 255, 258, 261, 264, 267, 270, 273, 276, 279, 282, 285, 288, 291, 294, 297, 300]\n",
      "\n",
      "\n",
      "The length of list 1 is 100 elements.\n"
     ]
    }
   ],
   "source": [
    "list1 = list(range(3,301,3))\n",
    "length_list1 = len(list1)\n",
    "\n",
    "print(list1)\n",
    "print(\"\\n\")\n",
    "print(\"The length of list 1 is\",length_list1,\"elements.\")"
   ]
  },
  {
   "cell_type": "markdown",
   "id": "c933b643",
   "metadata": {},
   "source": [
    "## Exercise 2"
   ]
  },
  {
   "cell_type": "code",
   "execution_count": 2,
   "id": "588d5a58",
   "metadata": {},
   "outputs": [
    {
     "name": "stdout",
     "output_type": "stream",
     "text": [
      "<class 'int'>\n"
     ]
    }
   ],
   "source": [
    "print(type(list1[0]))"
   ]
  },
  {
   "cell_type": "code",
   "execution_count": 3,
   "id": "65cf7a96",
   "metadata": {
    "scrolled": true
   },
   "outputs": [
    {
     "name": "stdout",
     "output_type": "stream",
     "text": [
      "['3', '6', '9', '12', '15', '18', '21', '24', '27', '30', '33', '36', '39', '42', '45', '48', '51', '54', '57', '60', '63', '66', '69', '72', '75', '78', '81', '84', '87', '90', '93', '96', '99', '102', '105', '108', '111', '114', '117', '120', '123', '126', '129', '132', '135', '138', '141', '144', '147', '150', '153', '156', '159', '162', '165', '168', '171', '174', '177', '180', '183', '186', '189', '192', '195', '198', '201', '204', '207', '210', '213', '216', '219', '222', '225', '228', '231', '234', '237', '240', '243', '246', '249', '252', '255', '258', '261', '264', '267', '270', '273', '276', '279', '282', '285', '288', '291', '294', '297', '300']\n",
      "\n",
      "\n",
      "<class 'str'>\n"
     ]
    }
   ],
   "source": [
    "string_list1 = [str(x) for x in list1]\n",
    "\n",
    "print(string_list1)\n",
    "print(\"\\n\")\n",
    "print(type(string_list1[0]))"
   ]
  },
  {
   "cell_type": "markdown",
   "id": "777b2071",
   "metadata": {},
   "source": [
    "## Exercise 3"
   ]
  },
  {
   "cell_type": "code",
   "execution_count": 4,
   "id": "634536c5",
   "metadata": {},
   "outputs": [
    {
     "name": "stdout",
     "output_type": "stream",
     "text": [
      "   369121518212427303336394245485154576063666972757881848790939699102105108111114117120123126129132135138141144147150153156159162165168171174177180183186189192195198201204207210213216219222225228231234237240243246249252255258261264267270273276279282285288291294297300\n"
     ]
    }
   ],
   "source": [
    "string_list2 = []\n",
    "string_list2 = (' ', ''.join(string_list1))\n",
    "\n",
    "print(' ',''.join(string_list2))"
   ]
  },
  {
   "cell_type": "markdown",
   "id": "b0068937",
   "metadata": {},
   "source": [
    "## Exercise 4"
   ]
  },
  {
   "cell_type": "code",
   "execution_count": 5,
   "id": "97a6d5a6",
   "metadata": {},
   "outputs": [
    {
     "name": "stdout",
     "output_type": "stream",
     "text": [
      "[300, 297, 294, 291, 288, 285, 282, 279, 276, 273, 270, 267, 264, 261, 258, 255, 252, 249, 246, 243, 240, 237, 234, 231, 228, 225, 222, 219, 216, 213, 210, 207, 204, 201, 198, 195, 192, 189, 186, 183, 180, 177, 174, 171, 168, 165, 162, 159, 156, 153, 150, 147, 144, 141, 138, 135, 132, 129, 126, 123, 120, 117, 114, 111, 108, 105, 102, 99, 96, 93, 90, 87, 84, 81, 78, 75, 72, 69, 66, 63, 60, 57, 54, 51, 48, 45, 42, 39, 36, 33, 30, 27, 24, 21, 18, 15, 12, 9, 6, 3]\n"
     ]
    }
   ],
   "source": [
    "reversed_list1 = []\n",
    "\n",
    "for i in range(len(list1)):\n",
    "    reversed_list1.append(list1.pop())\n",
    "\n",
    "print(reversed_list1)"
   ]
  },
  {
   "cell_type": "markdown",
   "id": "4026a40a",
   "metadata": {},
   "source": [
    "## Exercise 5"
   ]
  },
  {
   "cell_type": "code",
   "execution_count": 6,
   "id": "7f770a07",
   "metadata": {},
   "outputs": [
    {
     "name": "stdout",
     "output_type": "stream",
     "text": [
      "50.0\n"
     ]
    }
   ],
   "source": [
    "#Recall in exercise 1 we found the length of our list using length_list1 = len(list1)\n",
    "\n",
    "list1 = list(range(3,301,3))\n",
    "midpoint_list1 = length_list1/2\n",
    "\n",
    "print(midpoint_list1)"
   ]
  },
  {
   "cell_type": "code",
   "execution_count": 7,
   "id": "0a2facaa",
   "metadata": {},
   "outputs": [
    {
     "name": "stdout",
     "output_type": "stream",
     "text": [
      "[153, 156, 159, 162, 165, 168, 171, 174, 177, 180, 183, 186, 189, 192, 195, 198, 201, 204, 207, 210, 213, 216, 219, 222, 225, 228, 231, 234, 237, 240, 243, 246, 249, 252, 255, 258, 261, 264, 267, 270, 273, 276, 279, 282, 285, 288, 291, 294, 297, 300]\n"
     ]
    }
   ],
   "source": [
    "print(list1[50:])"
   ]
  },
  {
   "cell_type": "markdown",
   "id": "682ac3b9",
   "metadata": {},
   "source": [
    "## Exercise 6"
   ]
  },
  {
   "cell_type": "code",
   "execution_count": 8,
   "id": "b0846f94",
   "metadata": {},
   "outputs": [
    {
     "name": "stdout",
     "output_type": "stream",
     "text": [
      "  39152127333945515763697581879399105111117123129135141147153159165171177183189195201207213219225231237243249255261267273279285291297\n"
     ]
    }
   ],
   "source": [
    "string_list3 = []\n",
    "string_list3 = string_list1\n",
    "\n",
    "\n",
    "print(' ',''.join(string_list3[0::2]))"
   ]
  },
  {
   "cell_type": "markdown",
   "id": "92f353ed",
   "metadata": {},
   "source": [
    "## Exercise 7"
   ]
  },
  {
   "cell_type": "markdown",
   "id": "b6753c77",
   "metadata": {},
   "source": [
    "Dynamic lists (as the name implies) are dynamic while tuples are static. Lists have order and tuples have structure, you cannot change a value in a tuple once it is created, however lists can be altered an infinite number of times. "
   ]
  }
 ],
 "metadata": {
  "kernelspec": {
   "display_name": "Python 3",
   "language": "python",
   "name": "python3"
  },
  "language_info": {
   "codemirror_mode": {
    "name": "ipython",
    "version": 3
   },
   "file_extension": ".py",
   "mimetype": "text/x-python",
   "name": "python",
   "nbconvert_exporter": "python",
   "pygments_lexer": "ipython3",
   "version": "3.8.8"
  }
 },
 "nbformat": 4,
 "nbformat_minor": 5
}
