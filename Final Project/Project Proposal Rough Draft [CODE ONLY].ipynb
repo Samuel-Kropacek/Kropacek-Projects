{
 "cells": [
  {
   "cell_type": "markdown",
   "id": "8ae00f34",
   "metadata": {},
   "source": [
    "# Exploration of Population Trends, Population Drivers, and Economic Impact"
   ]
  },
  {
   "cell_type": "markdown",
   "id": "4c09a83e",
   "metadata": {},
   "source": [
    "NOTE: This notebook consists of only the code used in the creation of this project, the other notebook listed contains the accompanying text "
   ]
  },
  {
   "cell_type": "markdown",
   "id": "0147c22a",
   "metadata": {},
   "source": [
    "## Japan Population Demographics for the year 2000"
   ]
  },
  {
   "cell_type": "code",
   "execution_count": null,
   "id": "f30c0559",
   "metadata": {},
   "outputs": [],
   "source": [
    "import pandas as pd\n",
    "import plotly.graph_objects as gp"
   ]
  },
  {
   "cell_type": "code",
   "execution_count": null,
   "id": "31a31c4c",
   "metadata": {},
   "outputs": [],
   "source": [
    "japan2000 = pd.read_csv (r'C:\\Users\\samue\\Proposal Project\\Japan2000CSV.csv')\n",
    "\n",
    "display(japan2000)"
   ]
  },
  {
   "cell_type": "code",
   "execution_count": null,
   "id": "a78c8f71",
   "metadata": {},
   "outputs": [],
   "source": [
    "japan2000 = japan2000.drop(columns=['Unnamed: 3', 'Unnamed: 4', 'Unnamed: 5','Unnamed: 6'])\n",
    "\n",
    "display(japan2000)"
   ]
  },
  {
   "cell_type": "code",
   "execution_count": null,
   "id": "0790186c",
   "metadata": {},
   "outputs": [],
   "source": [
    "y1_age = japan2000['Age']\n",
    "x1_M = japan2000['M']\n",
    "x1_F = japan2000['F'] * -1"
   ]
  },
  {
   "cell_type": "code",
   "execution_count": null,
   "id": "9897f605",
   "metadata": {},
   "outputs": [],
   "source": [
    "fig = gp.Figure()\n",
    "  \n",
    "fig.add_trace(gp.Bar(y= y1_age, x = x1_M, \n",
    "                     name = 'Male', \n",
    "                     orientation = 'h'))\n",
    "  \n",
    "fig.add_trace(gp.Bar(y = y1_age, x = x1_F,\n",
    "                     name = 'Female', orientation = 'h'))\n",
    "  \n",
    "fig.update_layout(title = 'Population Pyramid of Japan-2000',\n",
    "                 title_font_size = 22, barmode = 'relative',\n",
    "                 bargap = 0.0, bargroupgap = 0,\n",
    "                 xaxis = dict(tickvals = [-5000000, -4000000, -3000000, -2000000, -1000000,\n",
    "                                          0, 1000000, 2000000, 3000000, 4000000, 5000000],\n",
    "                                \n",
    "                              ticktext = ['5M', '4M', '3M', '2M', '1M', '0',\n",
    "                                          '1M', '2M', '3M', '4M', '5M'],\n",
    "                                \n",
    "                              title = 'Population in Millions',\n",
    "                              title_font_size = 14)\n",
    "                 )\n",
    "  \n",
    "fig.show()"
   ]
  },
  {
   "cell_type": "markdown",
   "id": "64d7c031",
   "metadata": {},
   "source": [
    "## Japan Population Demographics for the year 2010"
   ]
  },
  {
   "cell_type": "code",
   "execution_count": null,
   "id": "fde81ca8",
   "metadata": {},
   "outputs": [],
   "source": [
    "japan2010 = pd.read_csv (r'C:\\Users\\samue\\Proposal Project\\Japan2010CSV.csv')\n",
    "\n",
    "display(japan2010)"
   ]
  },
  {
   "cell_type": "code",
   "execution_count": null,
   "id": "c6bf8878",
   "metadata": {},
   "outputs": [],
   "source": [
    "y2_age = japan2010['Age']\n",
    "x2_M = japan2010['M']\n",
    "x2_F = japan2010['F'] * -1"
   ]
  },
  {
   "cell_type": "code",
   "execution_count": null,
   "id": "f6b51206",
   "metadata": {},
   "outputs": [],
   "source": [
    "fig = gp.Figure()\n",
    "  \n",
    "fig.add_trace(gp.Bar(y= y2_age, x = x2_M, \n",
    "                     name = 'Male', \n",
    "                     orientation = 'h'))\n",
    "  \n",
    "fig.add_trace(gp.Bar(y = y2_age, x = x2_F,\n",
    "                     name = 'Female', orientation = 'h'))\n",
    "  \n",
    "fig.update_layout(title = 'Population Pyramid of Japan-2010',\n",
    "                 title_font_size = 22, barmode = 'relative',\n",
    "                 bargap = 0.0, bargroupgap = 0,\n",
    "                 xaxis = dict(tickvals = [-5000000, -4000000, -3000000, -2000000, -1000000,\n",
    "                                          0, 1000000, 2000000, 3000000, 4000000, 5000000],\n",
    "                                \n",
    "                              ticktext = ['5M', '4M', '3M', '2M', '1M', '0',\n",
    "                                          '1M', '2M', '3M', '4M', '5M'],\n",
    "                                \n",
    "                              title = 'Population in Millions',\n",
    "                              title_font_size = 14)\n",
    "                 )\n",
    "  \n",
    "fig.show()"
   ]
  },
  {
   "cell_type": "markdown",
   "id": "f1988413",
   "metadata": {},
   "source": [
    "## Japan Population Demographic Estimates for the year 2021"
   ]
  },
  {
   "cell_type": "code",
   "execution_count": null,
   "id": "763aec5c",
   "metadata": {},
   "outputs": [],
   "source": [
    "japan2021 = pd.read_csv (r'C:\\Users\\samue\\Proposal Project\\Japan2021CSV.csv')\n",
    "\n",
    "display(japan2021)"
   ]
  },
  {
   "cell_type": "code",
   "execution_count": null,
   "id": "94ae5084",
   "metadata": {},
   "outputs": [],
   "source": [
    "y3_age = japan2021['Age']\n",
    "x3_M = japan2021['M']\n",
    "x3_F = japan2021['F'] * -1"
   ]
  },
  {
   "cell_type": "code",
   "execution_count": null,
   "id": "544d8ebe",
   "metadata": {},
   "outputs": [],
   "source": [
    "fig = gp.Figure()\n",
    "  \n",
    "fig.add_trace(gp.Bar(y= y3_age, x = x3_M, \n",
    "                     name = 'Male', \n",
    "                     orientation = 'h'))\n",
    "  \n",
    "fig.add_trace(gp.Bar(y = y3_age, x = x3_F,\n",
    "                     name = 'Female', orientation = 'h'))\n",
    "  \n",
    "fig.update_layout(title = 'Population Pyramid of Japan-2021 [Estimation]',\n",
    "                 title_font_size = 22, barmode = 'relative',\n",
    "                 bargap = 0.0, bargroupgap = 0,\n",
    "                 xaxis = dict(tickvals = [-5000000, -4000000, -3000000, -2000000, -1000000,\n",
    "                                          0, 1000000, 2000000, 3000000, 4000000, 5000000],\n",
    "                                \n",
    "                              ticktext = ['5M', '4M', '3M', '2M', '1M', '0',\n",
    "                                          '1M', '2M', '3M', '4M', '5M'],\n",
    "                                \n",
    "                              title = 'Population in Millions',\n",
    "                              title_font_size = 14)\n",
    "                 )\n",
    "  \n",
    "fig.show()"
   ]
  },
  {
   "cell_type": "markdown",
   "id": "2eb2dd6f",
   "metadata": {},
   "source": [
    "## United States Population Demographics for the year 2000"
   ]
  },
  {
   "cell_type": "code",
   "execution_count": null,
   "id": "0b12424f",
   "metadata": {},
   "outputs": [],
   "source": [
    "usa2000 = pd.read_csv (r'C:\\Users\\samue\\Proposal Project\\USA2000CSV.csv')\n",
    "\n",
    "display(usa2000)"
   ]
  },
  {
   "cell_type": "code",
   "execution_count": null,
   "id": "6104e8d3",
   "metadata": {},
   "outputs": [],
   "source": [
    "y4_age = usa2000['Age']\n",
    "x4_M = usa2000['M']\n",
    "x4_F = usa2000['F'] * -1"
   ]
  },
  {
   "cell_type": "code",
   "execution_count": null,
   "id": "1275aa72",
   "metadata": {},
   "outputs": [],
   "source": [
    "fig = gp.Figure()\n",
    "  \n",
    "fig.add_trace(gp.Bar(y= y4_age, x = x4_M, \n",
    "                     name = 'Male', \n",
    "                     orientation = 'h'))\n",
    "  \n",
    "fig.add_trace(gp.Bar(y = y4_age, x = x4_F,\n",
    "                     name = 'Female', orientation = 'h'))\n",
    "  \n",
    "fig.update_layout(title = 'Population Pyramid of United States 2000',\n",
    "                 title_font_size = 22, barmode = 'relative',\n",
    "                 bargap = 0.0, bargroupgap = 0,\n",
    "                 xaxis = dict(tickvals = [-12000000, -10000000, -8000000, -6000000, -4000000, -2000000,\n",
    "                                          0, 2000000, 4000000, 6000000, 8000000, 10000000, 12000000],\n",
    "                                \n",
    "                              ticktext = ['12M', '10M', '8M', '6M', '4M', '2M', '0', \n",
    "                                          '2M', '4M', '6M', '8M', '10M', '12M'],\n",
    "                                \n",
    "                              title = 'Population in Millions',\n",
    "                              title_font_size = 14)\n",
    "                 )\n",
    "  \n",
    "fig.show()"
   ]
  },
  {
   "cell_type": "markdown",
   "id": "e40da408",
   "metadata": {},
   "source": [
    "## United States Population Demographics for the year 2010"
   ]
  },
  {
   "cell_type": "code",
   "execution_count": null,
   "id": "178e72b6",
   "metadata": {},
   "outputs": [],
   "source": [
    "usa2010 = pd.read_csv (r'C:\\Users\\samue\\Proposal Project\\USA2010CSV.csv')\n",
    "\n",
    "display(usa2010)"
   ]
  },
  {
   "cell_type": "code",
   "execution_count": null,
   "id": "68f3a7db",
   "metadata": {},
   "outputs": [],
   "source": [
    "y5_age = usa2010['Age']\n",
    "x5_M = usa2010['M']\n",
    "x5_F = usa2010['F'] * -1"
   ]
  },
  {
   "cell_type": "code",
   "execution_count": null,
   "id": "4e0b8ca5",
   "metadata": {},
   "outputs": [],
   "source": [
    "fig = gp.Figure()\n",
    "  \n",
    "fig.add_trace(gp.Bar(y= y5_age, x = x5_M, \n",
    "                     name = 'Male', \n",
    "                     orientation = 'h'))\n",
    "  \n",
    "fig.add_trace(gp.Bar(y = y5_age, x = x5_F,\n",
    "                     name = 'Female', orientation = 'h'))\n",
    "  \n",
    "fig.update_layout(title = 'Population Pyramid of United States 2010',\n",
    "                 title_font_size = 22, barmode = 'relative',\n",
    "                 bargap = 0.0, bargroupgap = 0,\n",
    "                 xaxis = dict(tickvals = [-12000000, -10000000, -8000000, -6000000, -4000000, -2000000,\n",
    "                                          0, 2000000, 4000000, 6000000, 8000000, 10000000, 12000000],\n",
    "                                \n",
    "                              ticktext = ['12M', '10M', '8M', '6M', '4M', '2M', '0', \n",
    "                                          '2M', '4M', '6M', '8M', '10M', '12M'],\n",
    "                                \n",
    "                              title = 'Population in Millions',\n",
    "                              title_font_size = 14)\n",
    "                 )\n",
    "  \n",
    "fig.show()"
   ]
  },
  {
   "cell_type": "markdown",
   "id": "92bc82a3",
   "metadata": {},
   "source": [
    "## United States Population Demographic for the year 2019"
   ]
  },
  {
   "cell_type": "code",
   "execution_count": null,
   "id": "47daddc8",
   "metadata": {},
   "outputs": [],
   "source": [
    "usa2019 = pd.read_csv (r'C:\\Users\\samue\\Proposal Project\\USA2019CSV.csv')\n",
    "\n",
    "display(usa2019)"
   ]
  },
  {
   "cell_type": "code",
   "execution_count": null,
   "id": "775d95ca",
   "metadata": {},
   "outputs": [],
   "source": [
    "y6_age = usa2019['Age']\n",
    "x6_M = usa2019['M']\n",
    "x6_F = usa2019['F'] * -1"
   ]
  },
  {
   "cell_type": "code",
   "execution_count": null,
   "id": "f7738d4d",
   "metadata": {},
   "outputs": [],
   "source": [
    "fig = gp.Figure()\n",
    "  \n",
    "fig.add_trace(gp.Bar(y= y6_age, x = x6_M, \n",
    "                     name = 'Male', \n",
    "                     orientation = 'h'))\n",
    "  \n",
    "fig.add_trace(gp.Bar(y = y6_age, x = x6_F,\n",
    "                     name = 'Female', orientation = 'h'))\n",
    "  \n",
    "fig.update_layout(title = 'Population Pyramid of United States 2019',\n",
    "                 title_font_size = 22, barmode = 'relative',\n",
    "                 bargap = 0.0, bargroupgap = 0,\n",
    "                 xaxis = dict(tickvals = [-12000000, -10000000, -8000000, -6000000, -4000000, -2000000,\n",
    "                                          0, 2000000, 4000000, 6000000, 8000000, 10000000, 12000000],\n",
    "                                \n",
    "                              ticktext = ['12M', '10M', '8M', '6M', '4M', '2M', '0', \n",
    "                                          '2M', '4M', '6M', '8M', '10M', '12M'],\n",
    "                                \n",
    "                              title = 'Population in Millions',\n",
    "                              title_font_size = 14)\n",
    "                 )\n",
    "  \n",
    "fig.show()"
   ]
  },
  {
   "cell_type": "code",
   "execution_count": null,
   "id": "46eac867",
   "metadata": {},
   "outputs": [],
   "source": []
  }
 ],
 "metadata": {
  "kernelspec": {
   "display_name": "Python 3",
   "language": "python",
   "name": "python3"
  },
  "language_info": {
   "codemirror_mode": {
    "name": "ipython",
    "version": 3
   },
   "file_extension": ".py",
   "mimetype": "text/x-python",
   "name": "python",
   "nbconvert_exporter": "python",
   "pygments_lexer": "ipython3",
   "version": "3.8.8"
  }
 },
 "nbformat": 4,
 "nbformat_minor": 5
}
